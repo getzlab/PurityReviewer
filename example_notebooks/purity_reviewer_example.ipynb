{
 "cells": [
  {
   "cell_type": "markdown",
   "id": "9847202b-8c65-4cbe-92f2-919cbf10f650",
   "metadata": {},
   "source": [
    "# Purity Reviewer Example"
   ]
  },
  {
   "cell_type": "code",
   "execution_count": 1,
   "id": "6ed06b3d-93bf-4ab6-8e36-c5dab8251bb4",
   "metadata": {},
   "outputs": [],
   "source": [
    "%load_ext autoreload\n",
    "%autoreload 2\n",
    "    "
   ]
  },
  {
   "cell_type": "code",
   "execution_count": 2,
   "id": "8eba07f4-3c8a-4a23-9ec8-68821ec8aa2b",
   "metadata": {},
   "outputs": [],
   "source": [
    "from PurityReviewer.Reviewers.MatchedPurityReviewer import MatchedPurityReviewer\n",
    "from PurityReviewer.Reviewers.ManualPurityReviewer import ManualPurityReviewer\n",
    "from PurityReviewer.AppComponents.utils import download_rdata\n",
    "import pandas as pd\n",
    "import numpy as np\n",
    "import dalmatian\n",
    "import os"
   ]
  },
  {
   "cell_type": "markdown",
   "id": "19530ec4-dc0d-401f-859f-c22fb8510dd4",
   "metadata": {},
   "source": [
    "# Set up simuated tumor data\n",
    "\n",
    "If `SimulatedTumorData` submodule is not in the `example_notebooks` directory, clone the `SimulatedTumorData` repository in the `example_notebooks` directory\n",
    "```\n",
    "cd example_notebooks\n",
    "git submodle add https://github.com/getzlab/SimulatedTumorData\n",
    "```"
   ]
  },
  {
   "cell_type": "code",
   "execution_count": 3,
   "id": "0633ffa9-14de-4e12-a554-fc30298eee85",
   "metadata": {
    "scrolled": true
   },
   "outputs": [
    {
     "name": "stdout",
     "output_type": "stream",
     "text": [
      "\u001b[33mWARNING: The directory '/Users/cchu/Library/Caches/pip' or its parent directory is not owned or is not writable by the current user. The cache has been disabled. Check the permissions and owner of that directory. If executing pip with sudo, you should use sudo's -H flag.\u001b[0m\u001b[33m\n",
      "\u001b[0mObtaining file:///Users/cchu/Desktop/Methods/PurityReviewers/example_notebooks/SimulatedTumorData\n",
      "  Preparing metadata (setup.py) ... \u001b[?25ldone\n",
      "\u001b[?25hRequirement already satisfied: AnnoMate>=0.0.2 in /Users/cchu/opt/anaconda3/envs/purity_reviewer_annomate_env/lib/python3.9/site-packages (from SimutatedTumorData==0.0.1) (0.0.3)\n",
      "Requirement already satisfied: seaborn in /Users/cchu/opt/anaconda3/envs/purity_reviewer_annomate_env/lib/python3.9/site-packages (from SimutatedTumorData==0.0.1) (0.13.0)\n",
      "Requirement already satisfied: dash-cytoscape in /Users/cchu/opt/anaconda3/envs/purity_reviewer_annomate_env/lib/python3.9/site-packages (from SimutatedTumorData==0.0.1) (0.3.0)\n",
      "Requirement already satisfied: dash in /Users/cchu/opt/anaconda3/envs/purity_reviewer_annomate_env/lib/python3.9/site-packages (from SimutatedTumorData==0.0.1) (2.11.1)\n",
      "Requirement already satisfied: pysam in /Users/cchu/opt/anaconda3/envs/purity_reviewer_annomate_env/lib/python3.9/site-packages (from SimutatedTumorData==0.0.1) (0.22.0)\n",
      "Requirement already satisfied: scipy in /Users/cchu/opt/anaconda3/envs/purity_reviewer_annomate_env/lib/python3.9/site-packages (from SimutatedTumorData==0.0.1) (1.8.1)\n",
      "Requirement already satisfied: cnv-suite in /Users/cchu/opt/anaconda3/envs/purity_reviewer_annomate_env/lib/python3.9/site-packages (from AnnoMate>=0.0.2->SimutatedTumorData==0.0.1) (0.1.1)\n",
      "Requirement already satisfied: dash-bootstrap-components in /Users/cchu/opt/anaconda3/envs/purity_reviewer_annomate_env/lib/python3.9/site-packages (from AnnoMate>=0.0.2->SimutatedTumorData==0.0.1) (1.4.1)\n",
      "Requirement already satisfied: dash-daq in /Users/cchu/opt/anaconda3/envs/purity_reviewer_annomate_env/lib/python3.9/site-packages (from AnnoMate>=0.0.2->SimutatedTumorData==0.0.1) (0.5.0)\n",
      "Requirement already satisfied: fsspec in /Users/cchu/opt/anaconda3/envs/purity_reviewer_annomate_env/lib/python3.9/site-packages (from AnnoMate>=0.0.2->SimutatedTumorData==0.0.1) (2023.6.0)\n",
      "Requirement already satisfied: gcsfs in /Users/cchu/opt/anaconda3/envs/purity_reviewer_annomate_env/lib/python3.9/site-packages (from AnnoMate>=0.0.2->SimutatedTumorData==0.0.1) (2023.6.0)\n",
      "Requirement already satisfied: google-auth in /Users/cchu/opt/anaconda3/envs/purity_reviewer_annomate_env/lib/python3.9/site-packages (from AnnoMate>=0.0.2->SimutatedTumorData==0.0.1) (2.21.0)\n",
      "Requirement already satisfied: google-api-core in /Users/cchu/opt/anaconda3/envs/purity_reviewer_annomate_env/lib/python3.9/site-packages (from AnnoMate>=0.0.2->SimutatedTumorData==0.0.1) (2.11.1)\n",
      "Requirement already satisfied: hound in /Users/cchu/opt/anaconda3/envs/purity_reviewer_annomate_env/lib/python3.9/site-packages (from AnnoMate>=0.0.2->SimutatedTumorData==0.0.1) (1.0.1)\n",
      "Requirement already satisfied: ipykernel in /Users/cchu/opt/anaconda3/envs/purity_reviewer_annomate_env/lib/python3.9/site-packages (from AnnoMate>=0.0.2->SimutatedTumorData==0.0.1) (6.22.0)\n",
      "Requirement already satisfied: ipython in /Users/cchu/opt/anaconda3/envs/purity_reviewer_annomate_env/lib/python3.9/site-packages (from AnnoMate>=0.0.2->SimutatedTumorData==0.0.1) (8.12.0)\n",
      "Requirement already satisfied: jupyterlab>=4.0.2 in /Users/cchu/opt/anaconda3/envs/purity_reviewer_annomate_env/lib/python3.9/site-packages (from AnnoMate>=0.0.2->SimutatedTumorData==0.0.1) (4.0.2)\n",
      "Requirement already satisfied: matplotlib in /Users/cchu/opt/anaconda3/envs/purity_reviewer_annomate_env/lib/python3.9/site-packages (from AnnoMate>=0.0.2->SimutatedTumorData==0.0.1) (3.5.3)\n",
      "Requirement already satisfied: pandas in /Users/cchu/opt/anaconda3/envs/purity_reviewer_annomate_env/lib/python3.9/site-packages (from AnnoMate>=0.0.2->SimutatedTumorData==0.0.1) (1.5.2)\n",
      "Requirement already satisfied: pickleshare in /Users/cchu/opt/anaconda3/envs/purity_reviewer_annomate_env/lib/python3.9/site-packages (from AnnoMate>=0.0.2->SimutatedTumorData==0.0.1) (0.7.5)\n",
      "Requirement already satisfied: pillow in /Users/cchu/opt/anaconda3/envs/purity_reviewer_annomate_env/lib/python3.9/site-packages (from AnnoMate>=0.0.2->SimutatedTumorData==0.0.1) (10.0.0)\n",
      "Requirement already satisfied: pip in /Users/cchu/opt/anaconda3/envs/purity_reviewer_annomate_env/lib/python3.9/site-packages (from AnnoMate>=0.0.2->SimutatedTumorData==0.0.1) (23.1.2)\n",
      "Requirement already satisfied: plotly>=5.15.0 in /Users/cchu/opt/anaconda3/envs/purity_reviewer_annomate_env/lib/python3.9/site-packages (from AnnoMate>=0.0.2->SimutatedTumorData==0.0.1) (5.15.0)\n",
      "Requirement already satisfied: setuptools in /Users/cchu/opt/anaconda3/envs/purity_reviewer_annomate_env/lib/python3.9/site-packages (from AnnoMate>=0.0.2->SimutatedTumorData==0.0.1) (67.8.0)\n",
      "Requirement already satisfied: frozendict in /Users/cchu/opt/anaconda3/envs/purity_reviewer_annomate_env/lib/python3.9/site-packages (from AnnoMate>=0.0.2->SimutatedTumorData==0.0.1) (2.3.8)\n",
      "Requirement already satisfied: flask<=2.2.1 in /Users/cchu/opt/anaconda3/envs/purity_reviewer_annomate_env/lib/python3.9/site-packages (from AnnoMate>=0.0.2->SimutatedTumorData==0.0.1) (2.2.1)\n",
      "Requirement already satisfied: werkzeug<=2.2.1 in /Users/cchu/opt/anaconda3/envs/purity_reviewer_annomate_env/lib/python3.9/site-packages (from AnnoMate>=0.0.2->SimutatedTumorData==0.0.1) (2.2.1)\n",
      "Requirement already satisfied: dash-html-components==2.0.0 in /Users/cchu/opt/anaconda3/envs/purity_reviewer_annomate_env/lib/python3.9/site-packages (from dash->SimutatedTumorData==0.0.1) (2.0.0)\n",
      "Requirement already satisfied: dash-core-components==2.0.0 in /Users/cchu/opt/anaconda3/envs/purity_reviewer_annomate_env/lib/python3.9/site-packages (from dash->SimutatedTumorData==0.0.1) (2.0.0)\n",
      "Requirement already satisfied: dash-table==5.0.0 in /Users/cchu/opt/anaconda3/envs/purity_reviewer_annomate_env/lib/python3.9/site-packages (from dash->SimutatedTumorData==0.0.1) (5.0.0)\n",
      "Requirement already satisfied: typing-extensions>=4.1.1 in /Users/cchu/opt/anaconda3/envs/purity_reviewer_annomate_env/lib/python3.9/site-packages (from dash->SimutatedTumorData==0.0.1) (4.6.3)\n",
      "Requirement already satisfied: requests in /Users/cchu/opt/anaconda3/envs/purity_reviewer_annomate_env/lib/python3.9/site-packages (from dash->SimutatedTumorData==0.0.1) (2.31.0)\n",
      "Requirement already satisfied: retrying in /Users/cchu/opt/anaconda3/envs/purity_reviewer_annomate_env/lib/python3.9/site-packages (from dash->SimutatedTumorData==0.0.1) (1.3.4)\n",
      "Requirement already satisfied: ansi2html in /Users/cchu/opt/anaconda3/envs/purity_reviewer_annomate_env/lib/python3.9/site-packages (from dash->SimutatedTumorData==0.0.1) (1.8.0)\n",
      "Requirement already satisfied: nest-asyncio in /Users/cchu/opt/anaconda3/envs/purity_reviewer_annomate_env/lib/python3.9/site-packages (from dash->SimutatedTumorData==0.0.1) (1.5.6)\n",
      "Requirement already satisfied: numpy<1.25.0,>=1.17.3 in /Users/cchu/opt/anaconda3/envs/purity_reviewer_annomate_env/lib/python3.9/site-packages (from scipy->SimutatedTumorData==0.0.1) (1.22.4)\n",
      "Requirement already satisfied: Jinja2>=3.0 in /Users/cchu/opt/anaconda3/envs/purity_reviewer_annomate_env/lib/python3.9/site-packages (from flask<=2.2.1->AnnoMate>=0.0.2->SimutatedTumorData==0.0.1) (3.1.2)\n",
      "Requirement already satisfied: itsdangerous>=2.0 in /Users/cchu/opt/anaconda3/envs/purity_reviewer_annomate_env/lib/python3.9/site-packages (from flask<=2.2.1->AnnoMate>=0.0.2->SimutatedTumorData==0.0.1) (2.1.2)\n",
      "Requirement already satisfied: click>=8.0 in /Users/cchu/opt/anaconda3/envs/purity_reviewer_annomate_env/lib/python3.9/site-packages (from flask<=2.2.1->AnnoMate>=0.0.2->SimutatedTumorData==0.0.1) (8.1.4)\n",
      "Requirement already satisfied: importlib-metadata>=3.6.0 in /Users/cchu/opt/anaconda3/envs/purity_reviewer_annomate_env/lib/python3.9/site-packages (from flask<=2.2.1->AnnoMate>=0.0.2->SimutatedTumorData==0.0.1) (6.0.0)\n",
      "Requirement already satisfied: async-lru>=1.0.0 in /Users/cchu/opt/anaconda3/envs/purity_reviewer_annomate_env/lib/python3.9/site-packages (from jupyterlab>=4.0.2->AnnoMate>=0.0.2->SimutatedTumorData==0.0.1) (2.0.3)\n",
      "Requirement already satisfied: jupyter-core in /Users/cchu/opt/anaconda3/envs/purity_reviewer_annomate_env/lib/python3.9/site-packages (from jupyterlab>=4.0.2->AnnoMate>=0.0.2->SimutatedTumorData==0.0.1) (5.3.0)\n",
      "Requirement already satisfied: jupyter-lsp>=2.0.0 in /Users/cchu/opt/anaconda3/envs/purity_reviewer_annomate_env/lib/python3.9/site-packages (from jupyterlab>=4.0.2->AnnoMate>=0.0.2->SimutatedTumorData==0.0.1) (2.2.0)\n",
      "Requirement already satisfied: jupyter-server<3,>=2.4.0 in /Users/cchu/opt/anaconda3/envs/purity_reviewer_annomate_env/lib/python3.9/site-packages (from jupyterlab>=4.0.2->AnnoMate>=0.0.2->SimutatedTumorData==0.0.1) (2.7.0)\n",
      "Requirement already satisfied: jupyterlab-server<3,>=2.19.0 in /Users/cchu/opt/anaconda3/envs/purity_reviewer_annomate_env/lib/python3.9/site-packages (from jupyterlab>=4.0.2->AnnoMate>=0.0.2->SimutatedTumorData==0.0.1) (2.23.0)\n",
      "Requirement already satisfied: notebook-shim>=0.2 in /Users/cchu/opt/anaconda3/envs/purity_reviewer_annomate_env/lib/python3.9/site-packages (from jupyterlab>=4.0.2->AnnoMate>=0.0.2->SimutatedTumorData==0.0.1) (0.2.3)\n",
      "Requirement already satisfied: packaging in /Users/cchu/opt/anaconda3/envs/purity_reviewer_annomate_env/lib/python3.9/site-packages (from jupyterlab>=4.0.2->AnnoMate>=0.0.2->SimutatedTumorData==0.0.1) (23.0)\n",
      "Requirement already satisfied: tomli in /Users/cchu/opt/anaconda3/envs/purity_reviewer_annomate_env/lib/python3.9/site-packages (from jupyterlab>=4.0.2->AnnoMate>=0.0.2->SimutatedTumorData==0.0.1) (2.0.1)\n",
      "Requirement already satisfied: tornado>=6.2.0 in /Users/cchu/opt/anaconda3/envs/purity_reviewer_annomate_env/lib/python3.9/site-packages (from jupyterlab>=4.0.2->AnnoMate>=0.0.2->SimutatedTumorData==0.0.1) (6.2)\n",
      "Requirement already satisfied: traitlets in /Users/cchu/opt/anaconda3/envs/purity_reviewer_annomate_env/lib/python3.9/site-packages (from jupyterlab>=4.0.2->AnnoMate>=0.0.2->SimutatedTumorData==0.0.1) (5.7.1)\n",
      "Requirement already satisfied: cycler>=0.10 in /Users/cchu/opt/anaconda3/envs/purity_reviewer_annomate_env/lib/python3.9/site-packages (from matplotlib->AnnoMate>=0.0.2->SimutatedTumorData==0.0.1) (0.11.0)\n",
      "Requirement already satisfied: fonttools>=4.22.0 in /Users/cchu/opt/anaconda3/envs/purity_reviewer_annomate_env/lib/python3.9/site-packages (from matplotlib->AnnoMate>=0.0.2->SimutatedTumorData==0.0.1) (4.40.0)\n",
      "Requirement already satisfied: kiwisolver>=1.0.1 in /Users/cchu/opt/anaconda3/envs/purity_reviewer_annomate_env/lib/python3.9/site-packages (from matplotlib->AnnoMate>=0.0.2->SimutatedTumorData==0.0.1) (1.4.4)\n",
      "Requirement already satisfied: pyparsing>=2.2.1 in /Users/cchu/opt/anaconda3/envs/purity_reviewer_annomate_env/lib/python3.9/site-packages (from matplotlib->AnnoMate>=0.0.2->SimutatedTumorData==0.0.1) (3.1.0)\n",
      "Requirement already satisfied: python-dateutil>=2.7 in /Users/cchu/opt/anaconda3/envs/purity_reviewer_annomate_env/lib/python3.9/site-packages (from matplotlib->AnnoMate>=0.0.2->SimutatedTumorData==0.0.1) (2.8.2)\n",
      "Requirement already satisfied: pytz>=2020.1 in /Users/cchu/opt/anaconda3/envs/purity_reviewer_annomate_env/lib/python3.9/site-packages (from pandas->AnnoMate>=0.0.2->SimutatedTumorData==0.0.1) (2023.3)\n",
      "Requirement already satisfied: tenacity>=6.2.0 in /Users/cchu/opt/anaconda3/envs/purity_reviewer_annomate_env/lib/python3.9/site-packages (from plotly>=5.15.0->AnnoMate>=0.0.2->SimutatedTumorData==0.0.1) (8.2.2)\n",
      "Requirement already satisfied: MarkupSafe>=2.1.1 in /Users/cchu/opt/anaconda3/envs/purity_reviewer_annomate_env/lib/python3.9/site-packages (from werkzeug<=2.2.1->AnnoMate>=0.0.2->SimutatedTumorData==0.0.1) (2.1.3)\n",
      "Requirement already satisfied: intervaltree<4,>=3.1.0 in /Users/cchu/opt/anaconda3/envs/purity_reviewer_annomate_env/lib/python3.9/site-packages (from cnv-suite->AnnoMate>=0.0.2->SimutatedTumorData==0.0.1) (3.1.0)\n",
      "Requirement already satisfied: natsort<10,>=8.1.0 in /Users/cchu/opt/anaconda3/envs/purity_reviewer_annomate_env/lib/python3.9/site-packages (from cnv-suite->AnnoMate>=0.0.2->SimutatedTumorData==0.0.1) (8.4.0)\n",
      "Requirement already satisfied: pandarallel<1.8,>=1.5.5 in /Users/cchu/opt/anaconda3/envs/purity_reviewer_annomate_env/lib/python3.9/site-packages (from cnv-suite->AnnoMate>=0.0.2->SimutatedTumorData==0.0.1) (1.6.5)\n",
      "Requirement already satisfied: tqdm>=4.45 in /Users/cchu/opt/anaconda3/envs/purity_reviewer_annomate_env/lib/python3.9/site-packages (from cnv-suite->AnnoMate>=0.0.2->SimutatedTumorData==0.0.1) (4.65.0)\n",
      "Requirement already satisfied: kaleido<0.3,>=0.2.1 in /Users/cchu/opt/anaconda3/envs/purity_reviewer_annomate_env/lib/python3.9/site-packages (from cnv-suite->AnnoMate>=0.0.2->SimutatedTumorData==0.0.1) (0.2.1)\n",
      "Requirement already satisfied: nbformat>=4.2.0 in /Users/cchu/opt/anaconda3/envs/purity_reviewer_annomate_env/lib/python3.9/site-packages (from cnv-suite->AnnoMate>=0.0.2->SimutatedTumorData==0.0.1) (5.9.0)\n",
      "Requirement already satisfied: aiohttp!=4.0.0a0,!=4.0.0a1 in /Users/cchu/opt/anaconda3/envs/purity_reviewer_annomate_env/lib/python3.9/site-packages (from gcsfs->AnnoMate>=0.0.2->SimutatedTumorData==0.0.1) (3.8.4)\n",
      "Requirement already satisfied: decorator>4.1.2 in /Users/cchu/opt/anaconda3/envs/purity_reviewer_annomate_env/lib/python3.9/site-packages (from gcsfs->AnnoMate>=0.0.2->SimutatedTumorData==0.0.1) (5.1.1)\n",
      "Requirement already satisfied: google-auth-oauthlib in /Users/cchu/opt/anaconda3/envs/purity_reviewer_annomate_env/lib/python3.9/site-packages (from gcsfs->AnnoMate>=0.0.2->SimutatedTumorData==0.0.1) (1.0.0)\n",
      "Requirement already satisfied: google-cloud-storage in /Users/cchu/opt/anaconda3/envs/purity_reviewer_annomate_env/lib/python3.9/site-packages (from gcsfs->AnnoMate>=0.0.2->SimutatedTumorData==0.0.1) (2.10.0)\n",
      "Requirement already satisfied: cachetools<6.0,>=2.0.0 in /Users/cchu/opt/anaconda3/envs/purity_reviewer_annomate_env/lib/python3.9/site-packages (from google-auth->AnnoMate>=0.0.2->SimutatedTumorData==0.0.1) (5.3.1)\n",
      "Requirement already satisfied: pyasn1-modules>=0.2.1 in /Users/cchu/opt/anaconda3/envs/purity_reviewer_annomate_env/lib/python3.9/site-packages (from google-auth->AnnoMate>=0.0.2->SimutatedTumorData==0.0.1) (0.3.0)\n",
      "Requirement already satisfied: rsa<5,>=3.1.4 in /Users/cchu/opt/anaconda3/envs/purity_reviewer_annomate_env/lib/python3.9/site-packages (from google-auth->AnnoMate>=0.0.2->SimutatedTumorData==0.0.1) (4.9)\n",
      "Requirement already satisfied: six>=1.9.0 in /Users/cchu/opt/anaconda3/envs/purity_reviewer_annomate_env/lib/python3.9/site-packages (from google-auth->AnnoMate>=0.0.2->SimutatedTumorData==0.0.1) (1.16.0)\n",
      "Requirement already satisfied: urllib3<2.0 in /Users/cchu/opt/anaconda3/envs/purity_reviewer_annomate_env/lib/python3.9/site-packages (from google-auth->AnnoMate>=0.0.2->SimutatedTumorData==0.0.1) (1.26.16)\n",
      "Requirement already satisfied: googleapis-common-protos<2.0.dev0,>=1.56.2 in /Users/cchu/opt/anaconda3/envs/purity_reviewer_annomate_env/lib/python3.9/site-packages (from google-api-core->AnnoMate>=0.0.2->SimutatedTumorData==0.0.1) (1.59.1)\n",
      "Requirement already satisfied: protobuf!=3.20.0,!=3.20.1,!=4.21.0,!=4.21.1,!=4.21.2,!=4.21.3,!=4.21.4,!=4.21.5,<5.0.0.dev0,>=3.19.5 in /Users/cchu/opt/anaconda3/envs/purity_reviewer_annomate_env/lib/python3.9/site-packages (from google-api-core->AnnoMate>=0.0.2->SimutatedTumorData==0.0.1) (4.23.4)\n",
      "Requirement already satisfied: charset-normalizer<4,>=2 in /Users/cchu/opt/anaconda3/envs/purity_reviewer_annomate_env/lib/python3.9/site-packages (from requests->dash->SimutatedTumorData==0.0.1) (3.2.0)\n",
      "Requirement already satisfied: idna<4,>=2.5 in /Users/cchu/opt/anaconda3/envs/purity_reviewer_annomate_env/lib/python3.9/site-packages (from requests->dash->SimutatedTumorData==0.0.1) (3.4)\n",
      "Requirement already satisfied: certifi>=2017.4.17 in /Users/cchu/opt/anaconda3/envs/purity_reviewer_annomate_env/lib/python3.9/site-packages (from requests->dash->SimutatedTumorData==0.0.1) (2023.5.7)\n",
      "Requirement already satisfied: appnope in /Users/cchu/opt/anaconda3/envs/purity_reviewer_annomate_env/lib/python3.9/site-packages (from ipykernel->AnnoMate>=0.0.2->SimutatedTumorData==0.0.1) (0.1.2)\n",
      "Requirement already satisfied: comm>=0.1.1 in /Users/cchu/opt/anaconda3/envs/purity_reviewer_annomate_env/lib/python3.9/site-packages (from ipykernel->AnnoMate>=0.0.2->SimutatedTumorData==0.0.1) (0.1.2)\n",
      "Requirement already satisfied: debugpy>=1.6.5 in /Users/cchu/opt/anaconda3/envs/purity_reviewer_annomate_env/lib/python3.9/site-packages (from ipykernel->AnnoMate>=0.0.2->SimutatedTumorData==0.0.1) (1.6.7)\n",
      "Requirement already satisfied: jupyter-client>=6.1.12 in /Users/cchu/opt/anaconda3/envs/purity_reviewer_annomate_env/lib/python3.9/site-packages (from ipykernel->AnnoMate>=0.0.2->SimutatedTumorData==0.0.1) (8.1.0)\n",
      "Requirement already satisfied: matplotlib-inline>=0.1 in /Users/cchu/opt/anaconda3/envs/purity_reviewer_annomate_env/lib/python3.9/site-packages (from ipykernel->AnnoMate>=0.0.2->SimutatedTumorData==0.0.1) (0.1.6)\n",
      "Requirement already satisfied: psutil in /Users/cchu/opt/anaconda3/envs/purity_reviewer_annomate_env/lib/python3.9/site-packages (from ipykernel->AnnoMate>=0.0.2->SimutatedTumorData==0.0.1) (5.9.0)\n",
      "Requirement already satisfied: pyzmq>=20 in /Users/cchu/opt/anaconda3/envs/purity_reviewer_annomate_env/lib/python3.9/site-packages (from ipykernel->AnnoMate>=0.0.2->SimutatedTumorData==0.0.1) (25.1.0)\n",
      "Requirement already satisfied: backcall in /Users/cchu/opt/anaconda3/envs/purity_reviewer_annomate_env/lib/python3.9/site-packages (from ipython->AnnoMate>=0.0.2->SimutatedTumorData==0.0.1) (0.2.0)\n",
      "Requirement already satisfied: jedi>=0.16 in /Users/cchu/opt/anaconda3/envs/purity_reviewer_annomate_env/lib/python3.9/site-packages (from ipython->AnnoMate>=0.0.2->SimutatedTumorData==0.0.1) (0.18.1)\n",
      "Requirement already satisfied: prompt-toolkit!=3.0.37,<3.1.0,>=3.0.30 in /Users/cchu/opt/anaconda3/envs/purity_reviewer_annomate_env/lib/python3.9/site-packages (from ipython->AnnoMate>=0.0.2->SimutatedTumorData==0.0.1) (3.0.36)\n",
      "Requirement already satisfied: pygments>=2.4.0 in /Users/cchu/opt/anaconda3/envs/purity_reviewer_annomate_env/lib/python3.9/site-packages (from ipython->AnnoMate>=0.0.2->SimutatedTumorData==0.0.1) (2.15.1)\n",
      "Requirement already satisfied: stack-data in /Users/cchu/opt/anaconda3/envs/purity_reviewer_annomate_env/lib/python3.9/site-packages (from ipython->AnnoMate>=0.0.2->SimutatedTumorData==0.0.1) (0.2.0)\n",
      "Requirement already satisfied: pexpect>4.3 in /Users/cchu/opt/anaconda3/envs/purity_reviewer_annomate_env/lib/python3.9/site-packages (from ipython->AnnoMate>=0.0.2->SimutatedTumorData==0.0.1) (4.8.0)\n",
      "Requirement already satisfied: attrs>=17.3.0 in /Users/cchu/opt/anaconda3/envs/purity_reviewer_annomate_env/lib/python3.9/site-packages (from aiohttp!=4.0.0a0,!=4.0.0a1->gcsfs->AnnoMate>=0.0.2->SimutatedTumorData==0.0.1) (23.1.0)\n",
      "Requirement already satisfied: multidict<7.0,>=4.5 in /Users/cchu/opt/anaconda3/envs/purity_reviewer_annomate_env/lib/python3.9/site-packages (from aiohttp!=4.0.0a0,!=4.0.0a1->gcsfs->AnnoMate>=0.0.2->SimutatedTumorData==0.0.1) (6.0.4)\n",
      "Requirement already satisfied: async-timeout<5.0,>=4.0.0a3 in /Users/cchu/opt/anaconda3/envs/purity_reviewer_annomate_env/lib/python3.9/site-packages (from aiohttp!=4.0.0a0,!=4.0.0a1->gcsfs->AnnoMate>=0.0.2->SimutatedTumorData==0.0.1) (4.0.2)\n",
      "Requirement already satisfied: yarl<2.0,>=1.0 in /Users/cchu/opt/anaconda3/envs/purity_reviewer_annomate_env/lib/python3.9/site-packages (from aiohttp!=4.0.0a0,!=4.0.0a1->gcsfs->AnnoMate>=0.0.2->SimutatedTumorData==0.0.1) (1.9.2)\n",
      "Requirement already satisfied: frozenlist>=1.1.1 in /Users/cchu/opt/anaconda3/envs/purity_reviewer_annomate_env/lib/python3.9/site-packages (from aiohttp!=4.0.0a0,!=4.0.0a1->gcsfs->AnnoMate>=0.0.2->SimutatedTumorData==0.0.1) (1.3.3)\n",
      "Requirement already satisfied: aiosignal>=1.1.2 in /Users/cchu/opt/anaconda3/envs/purity_reviewer_annomate_env/lib/python3.9/site-packages (from aiohttp!=4.0.0a0,!=4.0.0a1->gcsfs->AnnoMate>=0.0.2->SimutatedTumorData==0.0.1) (1.3.1)\n",
      "Requirement already satisfied: google-cloud-core<3.0dev,>=2.3.0 in /Users/cchu/opt/anaconda3/envs/purity_reviewer_annomate_env/lib/python3.9/site-packages (from google-cloud-storage->gcsfs->AnnoMate>=0.0.2->SimutatedTumorData==0.0.1) (2.3.3)\n",
      "Requirement already satisfied: google-resumable-media>=2.3.2 in /Users/cchu/opt/anaconda3/envs/purity_reviewer_annomate_env/lib/python3.9/site-packages (from google-cloud-storage->gcsfs->AnnoMate>=0.0.2->SimutatedTumorData==0.0.1) (2.5.0)\n",
      "Requirement already satisfied: zipp>=0.5 in /Users/cchu/opt/anaconda3/envs/purity_reviewer_annomate_env/lib/python3.9/site-packages (from importlib-metadata>=3.6.0->flask<=2.2.1->AnnoMate>=0.0.2->SimutatedTumorData==0.0.1) (3.11.0)\n",
      "Requirement already satisfied: sortedcontainers<3.0,>=2.0 in /Users/cchu/opt/anaconda3/envs/purity_reviewer_annomate_env/lib/python3.9/site-packages (from intervaltree<4,>=3.1.0->cnv-suite->AnnoMate>=0.0.2->SimutatedTumorData==0.0.1) (2.4.0)\n",
      "Requirement already satisfied: parso<0.9.0,>=0.8.0 in /Users/cchu/opt/anaconda3/envs/purity_reviewer_annomate_env/lib/python3.9/site-packages (from jedi>=0.16->ipython->AnnoMate>=0.0.2->SimutatedTumorData==0.0.1) (0.8.3)\n",
      "Requirement already satisfied: platformdirs>=2.5 in /Users/cchu/opt/anaconda3/envs/purity_reviewer_annomate_env/lib/python3.9/site-packages (from jupyter-core->jupyterlab>=4.0.2->AnnoMate>=0.0.2->SimutatedTumorData==0.0.1) (2.5.2)\n",
      "Requirement already satisfied: anyio>=3.1.0 in /Users/cchu/opt/anaconda3/envs/purity_reviewer_annomate_env/lib/python3.9/site-packages (from jupyter-server<3,>=2.4.0->jupyterlab>=4.0.2->AnnoMate>=0.0.2->SimutatedTumorData==0.0.1) (3.7.1)\n",
      "Requirement already satisfied: argon2-cffi in /Users/cchu/opt/anaconda3/envs/purity_reviewer_annomate_env/lib/python3.9/site-packages (from jupyter-server<3,>=2.4.0->jupyterlab>=4.0.2->AnnoMate>=0.0.2->SimutatedTumorData==0.0.1) (21.3.0)\n",
      "Requirement already satisfied: jupyter-events>=0.6.0 in /Users/cchu/opt/anaconda3/envs/purity_reviewer_annomate_env/lib/python3.9/site-packages (from jupyter-server<3,>=2.4.0->jupyterlab>=4.0.2->AnnoMate>=0.0.2->SimutatedTumorData==0.0.1) (0.6.3)\n",
      "Requirement already satisfied: jupyter-server-terminals in /Users/cchu/opt/anaconda3/envs/purity_reviewer_annomate_env/lib/python3.9/site-packages (from jupyter-server<3,>=2.4.0->jupyterlab>=4.0.2->AnnoMate>=0.0.2->SimutatedTumorData==0.0.1) (0.4.4)\n",
      "Requirement already satisfied: nbconvert>=6.4.4 in /Users/cchu/opt/anaconda3/envs/purity_reviewer_annomate_env/lib/python3.9/site-packages (from jupyter-server<3,>=2.4.0->jupyterlab>=4.0.2->AnnoMate>=0.0.2->SimutatedTumorData==0.0.1) (7.6.0)\n",
      "Requirement already satisfied: overrides in /Users/cchu/opt/anaconda3/envs/purity_reviewer_annomate_env/lib/python3.9/site-packages (from jupyter-server<3,>=2.4.0->jupyterlab>=4.0.2->AnnoMate>=0.0.2->SimutatedTumorData==0.0.1) (7.3.1)\n",
      "Requirement already satisfied: prometheus-client in /Users/cchu/opt/anaconda3/envs/purity_reviewer_annomate_env/lib/python3.9/site-packages (from jupyter-server<3,>=2.4.0->jupyterlab>=4.0.2->AnnoMate>=0.0.2->SimutatedTumorData==0.0.1) (0.17.0)\n",
      "Requirement already satisfied: send2trash in /Users/cchu/opt/anaconda3/envs/purity_reviewer_annomate_env/lib/python3.9/site-packages (from jupyter-server<3,>=2.4.0->jupyterlab>=4.0.2->AnnoMate>=0.0.2->SimutatedTumorData==0.0.1) (1.8.2)\n",
      "Requirement already satisfied: terminado>=0.8.3 in /Users/cchu/opt/anaconda3/envs/purity_reviewer_annomate_env/lib/python3.9/site-packages (from jupyter-server<3,>=2.4.0->jupyterlab>=4.0.2->AnnoMate>=0.0.2->SimutatedTumorData==0.0.1) (0.17.1)\n",
      "Requirement already satisfied: websocket-client in /Users/cchu/opt/anaconda3/envs/purity_reviewer_annomate_env/lib/python3.9/site-packages (from jupyter-server<3,>=2.4.0->jupyterlab>=4.0.2->AnnoMate>=0.0.2->SimutatedTumorData==0.0.1) (1.6.1)\n",
      "Requirement already satisfied: babel>=2.10 in /Users/cchu/opt/anaconda3/envs/purity_reviewer_annomate_env/lib/python3.9/site-packages (from jupyterlab-server<3,>=2.19.0->jupyterlab>=4.0.2->AnnoMate>=0.0.2->SimutatedTumorData==0.0.1) (2.12.1)\n",
      "Requirement already satisfied: json5>=0.9.0 in /Users/cchu/opt/anaconda3/envs/purity_reviewer_annomate_env/lib/python3.9/site-packages (from jupyterlab-server<3,>=2.19.0->jupyterlab>=4.0.2->AnnoMate>=0.0.2->SimutatedTumorData==0.0.1) (0.9.14)\n",
      "Requirement already satisfied: jsonschema>=4.17.3 in /Users/cchu/opt/anaconda3/envs/purity_reviewer_annomate_env/lib/python3.9/site-packages (from jupyterlab-server<3,>=2.19.0->jupyterlab>=4.0.2->AnnoMate>=0.0.2->SimutatedTumorData==0.0.1) (4.18.0)\n",
      "Requirement already satisfied: fastjsonschema in /Users/cchu/opt/anaconda3/envs/purity_reviewer_annomate_env/lib/python3.9/site-packages (from nbformat>=4.2.0->cnv-suite->AnnoMate>=0.0.2->SimutatedTumorData==0.0.1) (2.17.1)\n",
      "Requirement already satisfied: dill>=0.3.1 in /Users/cchu/opt/anaconda3/envs/purity_reviewer_annomate_env/lib/python3.9/site-packages (from pandarallel<1.8,>=1.5.5->cnv-suite->AnnoMate>=0.0.2->SimutatedTumorData==0.0.1) (0.3.6)\n",
      "Requirement already satisfied: ptyprocess>=0.5 in /Users/cchu/opt/anaconda3/envs/purity_reviewer_annomate_env/lib/python3.9/site-packages (from pexpect>4.3->ipython->AnnoMate>=0.0.2->SimutatedTumorData==0.0.1) (0.7.0)\n",
      "Requirement already satisfied: wcwidth in /Users/cchu/opt/anaconda3/envs/purity_reviewer_annomate_env/lib/python3.9/site-packages (from prompt-toolkit!=3.0.37,<3.1.0,>=3.0.30->ipython->AnnoMate>=0.0.2->SimutatedTumorData==0.0.1) (0.2.5)\n",
      "Requirement already satisfied: pyasn1<0.6.0,>=0.4.6 in /Users/cchu/opt/anaconda3/envs/purity_reviewer_annomate_env/lib/python3.9/site-packages (from pyasn1-modules>=0.2.1->google-auth->AnnoMate>=0.0.2->SimutatedTumorData==0.0.1) (0.5.0)\n",
      "Requirement already satisfied: requests-oauthlib>=0.7.0 in /Users/cchu/opt/anaconda3/envs/purity_reviewer_annomate_env/lib/python3.9/site-packages (from google-auth-oauthlib->gcsfs->AnnoMate>=0.0.2->SimutatedTumorData==0.0.1) (1.3.1)\n",
      "Requirement already satisfied: executing in /Users/cchu/opt/anaconda3/envs/purity_reviewer_annomate_env/lib/python3.9/site-packages (from stack-data->ipython->AnnoMate>=0.0.2->SimutatedTumorData==0.0.1) (0.8.3)\n",
      "Requirement already satisfied: asttokens in /Users/cchu/opt/anaconda3/envs/purity_reviewer_annomate_env/lib/python3.9/site-packages (from stack-data->ipython->AnnoMate>=0.0.2->SimutatedTumorData==0.0.1) (2.0.5)\n",
      "Requirement already satisfied: pure-eval in /Users/cchu/opt/anaconda3/envs/purity_reviewer_annomate_env/lib/python3.9/site-packages (from stack-data->ipython->AnnoMate>=0.0.2->SimutatedTumorData==0.0.1) (0.2.2)\n",
      "Requirement already satisfied: sniffio>=1.1 in /Users/cchu/opt/anaconda3/envs/purity_reviewer_annomate_env/lib/python3.9/site-packages (from anyio>=3.1.0->jupyter-server<3,>=2.4.0->jupyterlab>=4.0.2->AnnoMate>=0.0.2->SimutatedTumorData==0.0.1) (1.3.0)\n",
      "Requirement already satisfied: exceptiongroup in /Users/cchu/opt/anaconda3/envs/purity_reviewer_annomate_env/lib/python3.9/site-packages (from anyio>=3.1.0->jupyter-server<3,>=2.4.0->jupyterlab>=4.0.2->AnnoMate>=0.0.2->SimutatedTumorData==0.0.1) (1.1.2)\n",
      "Requirement already satisfied: google-crc32c<2.0dev,>=1.0 in /Users/cchu/opt/anaconda3/envs/purity_reviewer_annomate_env/lib/python3.9/site-packages (from google-resumable-media>=2.3.2->google-cloud-storage->gcsfs->AnnoMate>=0.0.2->SimutatedTumorData==0.0.1) (1.5.0)\n",
      "Requirement already satisfied: jsonschema-specifications>=2023.03.6 in /Users/cchu/opt/anaconda3/envs/purity_reviewer_annomate_env/lib/python3.9/site-packages (from jsonschema>=4.17.3->jupyterlab-server<3,>=2.19.0->jupyterlab>=4.0.2->AnnoMate>=0.0.2->SimutatedTumorData==0.0.1) (2023.6.1)\n",
      "Requirement already satisfied: referencing>=0.28.4 in /Users/cchu/opt/anaconda3/envs/purity_reviewer_annomate_env/lib/python3.9/site-packages (from jsonschema>=4.17.3->jupyterlab-server<3,>=2.19.0->jupyterlab>=4.0.2->AnnoMate>=0.0.2->SimutatedTumorData==0.0.1) (0.29.1)\n",
      "Requirement already satisfied: rpds-py>=0.7.1 in /Users/cchu/opt/anaconda3/envs/purity_reviewer_annomate_env/lib/python3.9/site-packages (from jsonschema>=4.17.3->jupyterlab-server<3,>=2.19.0->jupyterlab>=4.0.2->AnnoMate>=0.0.2->SimutatedTumorData==0.0.1) (0.8.8)\n",
      "Requirement already satisfied: python-json-logger>=2.0.4 in /Users/cchu/opt/anaconda3/envs/purity_reviewer_annomate_env/lib/python3.9/site-packages (from jupyter-events>=0.6.0->jupyter-server<3,>=2.4.0->jupyterlab>=4.0.2->AnnoMate>=0.0.2->SimutatedTumorData==0.0.1) (2.0.7)\n",
      "Requirement already satisfied: pyyaml>=5.3 in /Users/cchu/opt/anaconda3/envs/purity_reviewer_annomate_env/lib/python3.9/site-packages (from jupyter-events>=0.6.0->jupyter-server<3,>=2.4.0->jupyterlab>=4.0.2->AnnoMate>=0.0.2->SimutatedTumorData==0.0.1) (6.0)\n",
      "Requirement already satisfied: rfc3339-validator in /Users/cchu/opt/anaconda3/envs/purity_reviewer_annomate_env/lib/python3.9/site-packages (from jupyter-events>=0.6.0->jupyter-server<3,>=2.4.0->jupyterlab>=4.0.2->AnnoMate>=0.0.2->SimutatedTumorData==0.0.1) (0.1.4)\n",
      "Requirement already satisfied: rfc3986-validator>=0.1.1 in /Users/cchu/opt/anaconda3/envs/purity_reviewer_annomate_env/lib/python3.9/site-packages (from jupyter-events>=0.6.0->jupyter-server<3,>=2.4.0->jupyterlab>=4.0.2->AnnoMate>=0.0.2->SimutatedTumorData==0.0.1) (0.1.1)\n",
      "Requirement already satisfied: beautifulsoup4 in /Users/cchu/opt/anaconda3/envs/purity_reviewer_annomate_env/lib/python3.9/site-packages (from nbconvert>=6.4.4->jupyter-server<3,>=2.4.0->jupyterlab>=4.0.2->AnnoMate>=0.0.2->SimutatedTumorData==0.0.1) (4.12.2)\n",
      "Requirement already satisfied: bleach!=5.0.0 in /Users/cchu/opt/anaconda3/envs/purity_reviewer_annomate_env/lib/python3.9/site-packages (from nbconvert>=6.4.4->jupyter-server<3,>=2.4.0->jupyterlab>=4.0.2->AnnoMate>=0.0.2->SimutatedTumorData==0.0.1) (6.0.0)\n",
      "Requirement already satisfied: defusedxml in /Users/cchu/opt/anaconda3/envs/purity_reviewer_annomate_env/lib/python3.9/site-packages (from nbconvert>=6.4.4->jupyter-server<3,>=2.4.0->jupyterlab>=4.0.2->AnnoMate>=0.0.2->SimutatedTumorData==0.0.1) (0.7.1)\n",
      "Requirement already satisfied: jupyterlab-pygments in /Users/cchu/opt/anaconda3/envs/purity_reviewer_annomate_env/lib/python3.9/site-packages (from nbconvert>=6.4.4->jupyter-server<3,>=2.4.0->jupyterlab>=4.0.2->AnnoMate>=0.0.2->SimutatedTumorData==0.0.1) (0.2.2)\n",
      "Requirement already satisfied: mistune<4,>=2.0.3 in /Users/cchu/opt/anaconda3/envs/purity_reviewer_annomate_env/lib/python3.9/site-packages (from nbconvert>=6.4.4->jupyter-server<3,>=2.4.0->jupyterlab>=4.0.2->AnnoMate>=0.0.2->SimutatedTumorData==0.0.1) (3.0.1)\n",
      "Requirement already satisfied: nbclient>=0.5.0 in /Users/cchu/opt/anaconda3/envs/purity_reviewer_annomate_env/lib/python3.9/site-packages (from nbconvert>=6.4.4->jupyter-server<3,>=2.4.0->jupyterlab>=4.0.2->AnnoMate>=0.0.2->SimutatedTumorData==0.0.1) (0.8.0)\n",
      "Requirement already satisfied: pandocfilters>=1.4.1 in /Users/cchu/opt/anaconda3/envs/purity_reviewer_annomate_env/lib/python3.9/site-packages (from nbconvert>=6.4.4->jupyter-server<3,>=2.4.0->jupyterlab>=4.0.2->AnnoMate>=0.0.2->SimutatedTumorData==0.0.1) (1.5.0)\n",
      "Requirement already satisfied: tinycss2 in /Users/cchu/opt/anaconda3/envs/purity_reviewer_annomate_env/lib/python3.9/site-packages (from nbconvert>=6.4.4->jupyter-server<3,>=2.4.0->jupyterlab>=4.0.2->AnnoMate>=0.0.2->SimutatedTumorData==0.0.1) (1.2.1)\n",
      "Requirement already satisfied: oauthlib>=3.0.0 in /Users/cchu/opt/anaconda3/envs/purity_reviewer_annomate_env/lib/python3.9/site-packages (from requests-oauthlib>=0.7.0->google-auth-oauthlib->gcsfs->AnnoMate>=0.0.2->SimutatedTumorData==0.0.1) (3.2.2)\n",
      "Requirement already satisfied: argon2-cffi-bindings in /Users/cchu/opt/anaconda3/envs/purity_reviewer_annomate_env/lib/python3.9/site-packages (from argon2-cffi->jupyter-server<3,>=2.4.0->jupyterlab>=4.0.2->AnnoMate>=0.0.2->SimutatedTumorData==0.0.1) (21.2.0)\n",
      "Requirement already satisfied: webencodings in /Users/cchu/opt/anaconda3/envs/purity_reviewer_annomate_env/lib/python3.9/site-packages (from bleach!=5.0.0->nbconvert>=6.4.4->jupyter-server<3,>=2.4.0->jupyterlab>=4.0.2->AnnoMate>=0.0.2->SimutatedTumorData==0.0.1) (0.5.1)\n",
      "Requirement already satisfied: fqdn in /Users/cchu/opt/anaconda3/envs/purity_reviewer_annomate_env/lib/python3.9/site-packages (from jsonschema>=4.17.3->jupyterlab-server<3,>=2.19.0->jupyterlab>=4.0.2->AnnoMate>=0.0.2->SimutatedTumorData==0.0.1) (1.5.1)\n",
      "Requirement already satisfied: isoduration in /Users/cchu/opt/anaconda3/envs/purity_reviewer_annomate_env/lib/python3.9/site-packages (from jsonschema>=4.17.3->jupyterlab-server<3,>=2.19.0->jupyterlab>=4.0.2->AnnoMate>=0.0.2->SimutatedTumorData==0.0.1) (20.11.0)\n",
      "Requirement already satisfied: jsonpointer>1.13 in /Users/cchu/opt/anaconda3/envs/purity_reviewer_annomate_env/lib/python3.9/site-packages (from jsonschema>=4.17.3->jupyterlab-server<3,>=2.19.0->jupyterlab>=4.0.2->AnnoMate>=0.0.2->SimutatedTumorData==0.0.1) (2.4)\n",
      "Requirement already satisfied: uri-template in /Users/cchu/opt/anaconda3/envs/purity_reviewer_annomate_env/lib/python3.9/site-packages (from jsonschema>=4.17.3->jupyterlab-server<3,>=2.19.0->jupyterlab>=4.0.2->AnnoMate>=0.0.2->SimutatedTumorData==0.0.1) (1.3.0)\n",
      "Requirement already satisfied: webcolors>=1.11 in /Users/cchu/opt/anaconda3/envs/purity_reviewer_annomate_env/lib/python3.9/site-packages (from jsonschema>=4.17.3->jupyterlab-server<3,>=2.19.0->jupyterlab>=4.0.2->AnnoMate>=0.0.2->SimutatedTumorData==0.0.1) (1.13)\n",
      "Requirement already satisfied: cffi>=1.0.1 in /Users/cchu/opt/anaconda3/envs/purity_reviewer_annomate_env/lib/python3.9/site-packages (from argon2-cffi-bindings->argon2-cffi->jupyter-server<3,>=2.4.0->jupyterlab>=4.0.2->AnnoMate>=0.0.2->SimutatedTumorData==0.0.1) (1.15.1)\n",
      "Requirement already satisfied: soupsieve>1.2 in /Users/cchu/opt/anaconda3/envs/purity_reviewer_annomate_env/lib/python3.9/site-packages (from beautifulsoup4->nbconvert>=6.4.4->jupyter-server<3,>=2.4.0->jupyterlab>=4.0.2->AnnoMate>=0.0.2->SimutatedTumorData==0.0.1) (2.4.1)\n",
      "Requirement already satisfied: pycparser in /Users/cchu/opt/anaconda3/envs/purity_reviewer_annomate_env/lib/python3.9/site-packages (from cffi>=1.0.1->argon2-cffi-bindings->argon2-cffi->jupyter-server<3,>=2.4.0->jupyterlab>=4.0.2->AnnoMate>=0.0.2->SimutatedTumorData==0.0.1) (2.21)\n",
      "Requirement already satisfied: arrow>=0.15.0 in /Users/cchu/opt/anaconda3/envs/purity_reviewer_annomate_env/lib/python3.9/site-packages (from isoduration->jsonschema>=4.17.3->jupyterlab-server<3,>=2.19.0->jupyterlab>=4.0.2->AnnoMate>=0.0.2->SimutatedTumorData==0.0.1) (1.2.3)\n",
      "Installing collected packages: SimutatedTumorData\n",
      "  Attempting uninstall: SimutatedTumorData\n",
      "    Found existing installation: SimutatedTumorData 0.0.1\n",
      "    Uninstalling SimutatedTumorData-0.0.1:\n",
      "      Successfully uninstalled SimutatedTumorData-0.0.1\n",
      "  Running setup.py develop for SimutatedTumorData\n",
      "Successfully installed SimutatedTumorData-0.0.1\n",
      "Note: you may need to restart the kernel to use updated packages.\n"
     ]
    }
   ],
   "source": [
    "# Run to install packages for loading the patient and sample data. Only need to run once in your environment.\n",
    "%pip install -e SimulatedTumorData/."
   ]
  },
  {
   "cell_type": "markdown",
   "id": "f52bbae6-d4e7-4573-8ff0-ab5e8bd82591",
   "metadata": {},
   "source": [
    "## Load data"
   ]
  },
  {
   "cell_type": "code",
   "execution_count": 6,
   "id": "ff5bef6c-e5bc-41c7-9f24-4bf3991f6af2",
   "metadata": {},
   "outputs": [],
   "source": [
    "from SimulatedTumorData.src.generate_simulated_data import load_patients_and_samples"
   ]
  },
  {
   "cell_type": "code",
   "execution_count": 7,
   "id": "d11a1c8d-387c-4ce9-bbd7-3e616dcce87f",
   "metadata": {
    "scrolled": true
   },
   "outputs": [
    {
     "name": "stdout",
     "output_type": "stream",
     "text": [
      "/Users/cchu/Desktop/Methods/SimulatedTumorData/sim_data/patient1/phylogicNDT_results_1000\n",
      "loading existing CNV pickle file SimulatedTumorData/sim_data/patient1/patient1.cnv_events.pkl\n",
      "SimulatedTumorData/sim_data/patient1/sample_coverage/p1_t1.binned_coverage.tsv already exists.\n",
      "SimulatedTumorData/sim_data/patient1/sample_coverage/p1_t2.binned_coverage.tsv already exists.\n",
      "SimulatedTumorData/sim_data/patient1/sample_coverage/p1_t3.binned_coverage.tsv already exists.\n",
      "patient variants path exists: SimulatedTumorData/sim_data/patient1/patient1.variants.tsv\n",
      "Sample p1_t1 has variants_fn: SimulatedTumorData/sim_data/patient1/sample_muts/p1_t1.variants.tsv\n",
      "Sample p1_t2 has variants_fn: SimulatedTumorData/sim_data/patient1/sample_muts/p1_t2.variants.tsv\n",
      "Sample p1_t3 has variants_fn: SimulatedTumorData/sim_data/patient1/sample_muts/p1_t3.variants.tsv\n",
      "Run SimulatedTumorData/sim_data/patient1/sample_mut_vcf/p1_t1.variants.vcf through (nexus-snp hg19 RefSeq).\n",
      "Generated sif file: SimulatedTumorData/sim_data/patient1/patient1.phylogicNDT.sif\n",
      "Phylogic results are already loaded here: SimulatedTumorData/sim_data/patient1/phylogicNDT_results_1000\n",
      "Not running commands. Outputs in SimulatedTumorData/sim_data/patient1/sample_ABSOLUTE_results/p1_t1/ABSOLUTE_results\n",
      "Not running commands. Outputs in SimulatedTumorData/sim_data/patient1/sample_ABSOLUTE_results/p1_t2/ABSOLUTE_results\n",
      "Not running commands. Outputs in SimulatedTumorData/sim_data/patient1/sample_ABSOLUTE_results/p1_t3/ABSOLUTE_results\n",
      "Generated cancer_patient_reviewer_sample_data_fn: SimulatedTumorData/sim_data/patient1/cancer_patient_reviewer_data/patient1_samples_data.tsv\n",
      "Generated cancer_patient_reviewer_patient_data_fn: SimulatedTumorData/sim_data/patient1/cancer_patient_reviewer_data/patient1_data.tsv\n",
      "/Users/cchu/Desktop/Methods/SimulatedTumorData/sim_data/patient2/phylogicNDT_results_1000\n",
      "loading existing CNV pickle file SimulatedTumorData/sim_data/patient2/patient2.cnv_events.pkl\n",
      "SimulatedTumorData/sim_data/patient2/sample_coverage/p2_t1.binned_coverage.tsv already exists.\n",
      "SimulatedTumorData/sim_data/patient2/sample_coverage/p2_t2.binned_coverage.tsv already exists.\n",
      "SimulatedTumorData/sim_data/patient2/sample_coverage/p2_t3.binned_coverage.tsv already exists.\n",
      "patient variants path exists: SimulatedTumorData/sim_data/patient2/patient2.variants.tsv\n",
      "Sample p2_t1 has variants_fn: SimulatedTumorData/sim_data/patient2/sample_muts/p2_t1.variants.tsv\n",
      "Sample p2_t2 has variants_fn: SimulatedTumorData/sim_data/patient2/sample_muts/p2_t2.variants.tsv\n",
      "Sample p2_t3 has variants_fn: SimulatedTumorData/sim_data/patient2/sample_muts/p2_t3.variants.tsv\n",
      "Run SimulatedTumorData/sim_data/patient2/sample_mut_vcf/p2_t1.variants.vcf through (nexus-snp hg19 RefSeq).\n",
      "Generated sif file: SimulatedTumorData/sim_data/patient2/patient2.phylogicNDT.sif\n",
      "Phylogic results are already loaded here: SimulatedTumorData/sim_data/patient2/phylogicNDT_results_1000\n",
      "Not running commands. Outputs in SimulatedTumorData/sim_data/patient2/sample_ABSOLUTE_results/p2_t1/ABSOLUTE_results\n",
      "Not running commands. Outputs in SimulatedTumorData/sim_data/patient2/sample_ABSOLUTE_results/p2_t2/ABSOLUTE_results\n",
      "Not running commands. Outputs in SimulatedTumorData/sim_data/patient2/sample_ABSOLUTE_results/p2_t3/ABSOLUTE_results\n",
      "Generated cancer_patient_reviewer_sample_data_fn: SimulatedTumorData/sim_data/patient2/cancer_patient_reviewer_data/patient2_samples_data.tsv\n",
      "Generated cancer_patient_reviewer_patient_data_fn: SimulatedTumorData/sim_data/patient2/cancer_patient_reviewer_data/patient2_data.tsv\n"
     ]
    }
   ],
   "source": [
    "samples, participants = load_patients_and_samples(\n",
    "    path_to_sim_data='SimulatedTumorData/sim_data'\n",
    ")"
   ]
  },
  {
   "cell_type": "code",
   "execution_count": 8,
   "id": "bb11219e-986f-4bac-afb6-91b954407154",
   "metadata": {},
   "outputs": [
    {
     "data": {
      "text/plain": [
       "'SimulatedTumorData/sim_data/patient1/sample_ABSOLUTE_results/p1_t1/ABSOLUTE_results/p1_t1.ABSOLUTE.RData'"
      ]
     },
     "execution_count": 8,
     "metadata": {},
     "output_type": "execute_result"
    }
   ],
   "source": [
    "samples['ABSOLUTE_RData'].iloc[0]"
   ]
  },
  {
   "cell_type": "code",
   "execution_count": 9,
   "id": "d469372e-3488-4206-8e6c-d23f34158863",
   "metadata": {},
   "outputs": [
    {
     "data": {
      "text/html": [
       "<div>\n",
       "<style scoped>\n",
       "    .dataframe tbody tr th:only-of-type {\n",
       "        vertical-align: middle;\n",
       "    }\n",
       "\n",
       "    .dataframe tbody tr th {\n",
       "        vertical-align: top;\n",
       "    }\n",
       "\n",
       "    .dataframe thead th {\n",
       "        text-align: right;\n",
       "    }\n",
       "</style>\n",
       "<table border=\"1\" class=\"dataframe\">\n",
       "  <thead>\n",
       "    <tr style=\"text-align: right;\">\n",
       "      <th></th>\n",
       "      <th>maf_fn</th>\n",
       "      <th>wxs_purity</th>\n",
       "      <th>collection_date_dfd</th>\n",
       "      <th>cnv_seg_fn</th>\n",
       "      <th>participant_id</th>\n",
       "      <th>preservation_method</th>\n",
       "      <th>wxs_ploidy</th>\n",
       "      <th>ABSOLUTE_pp_calls_tab_fn</th>\n",
       "      <th>ABSOLUTE_pp_modes_data_fn</th>\n",
       "      <th>ABSOLUTE_pp_modes_plots_fn</th>\n",
       "      <th>ABSOLUTE_mode_res_rds_fn</th>\n",
       "      <th>ABSOLUTE_mode_tab_fn</th>\n",
       "      <th>ABSOLUTE_plot_fn</th>\n",
       "      <th>ABSOLUTE_SSNV_mode_res_rds_fn</th>\n",
       "      <th>ABSOLUTE_RData</th>\n",
       "    </tr>\n",
       "    <tr>\n",
       "      <th>sample_id</th>\n",
       "      <th></th>\n",
       "      <th></th>\n",
       "      <th></th>\n",
       "      <th></th>\n",
       "      <th></th>\n",
       "      <th></th>\n",
       "      <th></th>\n",
       "      <th></th>\n",
       "      <th></th>\n",
       "      <th></th>\n",
       "      <th></th>\n",
       "      <th></th>\n",
       "      <th></th>\n",
       "      <th></th>\n",
       "      <th></th>\n",
       "    </tr>\n",
       "  </thead>\n",
       "  <tbody>\n",
       "    <tr>\n",
       "      <th>p1_t1</th>\n",
       "      <td>/Users/cchu/Desktop/Methods/SimulatedTumorData...</td>\n",
       "      <td>0.70</td>\n",
       "      <td>50</td>\n",
       "      <td>SimulatedTumorData/sim_data/patient1/sample_cn...</td>\n",
       "      <td>patient1</td>\n",
       "      <td>NaN</td>\n",
       "      <td>1.83</td>\n",
       "      <td>SimulatedTumorData/sim_data/patient1/sample_AB...</td>\n",
       "      <td>SimulatedTumorData/sim_data/patient1/sample_AB...</td>\n",
       "      <td>SimulatedTumorData/sim_data/patient1/sample_AB...</td>\n",
       "      <td>SimulatedTumorData/sim_data/patient1/sample_AB...</td>\n",
       "      <td>SimulatedTumorData/sim_data/patient1/sample_AB...</td>\n",
       "      <td>SimulatedTumorData/sim_data/patient1/sample_AB...</td>\n",
       "      <td>SimulatedTumorData/sim_data/patient1/sample_AB...</td>\n",
       "      <td>SimulatedTumorData/sim_data/patient1/sample_AB...</td>\n",
       "    </tr>\n",
       "    <tr>\n",
       "      <th>p1_t2</th>\n",
       "      <td>/Users/cchu/Desktop/Methods/SimulatedTumorData...</td>\n",
       "      <td>0.45</td>\n",
       "      <td>100</td>\n",
       "      <td>SimulatedTumorData/sim_data/patient1/sample_cn...</td>\n",
       "      <td>patient1</td>\n",
       "      <td>NaN</td>\n",
       "      <td>1.90</td>\n",
       "      <td>SimulatedTumorData/sim_data/patient1/sample_AB...</td>\n",
       "      <td>SimulatedTumorData/sim_data/patient1/sample_AB...</td>\n",
       "      <td>SimulatedTumorData/sim_data/patient1/sample_AB...</td>\n",
       "      <td>SimulatedTumorData/sim_data/patient1/sample_AB...</td>\n",
       "      <td>SimulatedTumorData/sim_data/patient1/sample_AB...</td>\n",
       "      <td>SimulatedTumorData/sim_data/patient1/sample_AB...</td>\n",
       "      <td>SimulatedTumorData/sim_data/patient1/sample_AB...</td>\n",
       "      <td>SimulatedTumorData/sim_data/patient1/sample_AB...</td>\n",
       "    </tr>\n",
       "    <tr>\n",
       "      <th>p1_t3</th>\n",
       "      <td>/Users/cchu/Desktop/Methods/SimulatedTumorData...</td>\n",
       "      <td>0.90</td>\n",
       "      <td>120</td>\n",
       "      <td>SimulatedTumorData/sim_data/patient1/sample_cn...</td>\n",
       "      <td>patient1</td>\n",
       "      <td>NaN</td>\n",
       "      <td>1.75</td>\n",
       "      <td>SimulatedTumorData/sim_data/patient1/sample_AB...</td>\n",
       "      <td>SimulatedTumorData/sim_data/patient1/sample_AB...</td>\n",
       "      <td>SimulatedTumorData/sim_data/patient1/sample_AB...</td>\n",
       "      <td>SimulatedTumorData/sim_data/patient1/sample_AB...</td>\n",
       "      <td>SimulatedTumorData/sim_data/patient1/sample_AB...</td>\n",
       "      <td>SimulatedTumorData/sim_data/patient1/sample_AB...</td>\n",
       "      <td>SimulatedTumorData/sim_data/patient1/sample_AB...</td>\n",
       "      <td>SimulatedTumorData/sim_data/patient1/sample_AB...</td>\n",
       "    </tr>\n",
       "    <tr>\n",
       "      <th>p2_t1</th>\n",
       "      <td>/Users/cchu/Desktop/Methods/SimulatedTumorData...</td>\n",
       "      <td>0.50</td>\n",
       "      <td>100</td>\n",
       "      <td>SimulatedTumorData/sim_data/patient2/sample_cn...</td>\n",
       "      <td>patient2</td>\n",
       "      <td>NaN</td>\n",
       "      <td>1.99</td>\n",
       "      <td>SimulatedTumorData/sim_data/patient2/sample_AB...</td>\n",
       "      <td>SimulatedTumorData/sim_data/patient2/sample_AB...</td>\n",
       "      <td>SimulatedTumorData/sim_data/patient2/sample_AB...</td>\n",
       "      <td>SimulatedTumorData/sim_data/patient2/sample_AB...</td>\n",
       "      <td>SimulatedTumorData/sim_data/patient2/sample_AB...</td>\n",
       "      <td>SimulatedTumorData/sim_data/patient2/sample_AB...</td>\n",
       "      <td>SimulatedTumorData/sim_data/patient2/sample_AB...</td>\n",
       "      <td>SimulatedTumorData/sim_data/patient2/sample_AB...</td>\n",
       "    </tr>\n",
       "    <tr>\n",
       "      <th>p2_t2</th>\n",
       "      <td>/Users/cchu/Desktop/Methods/SimulatedTumorData...</td>\n",
       "      <td>0.85</td>\n",
       "      <td>150</td>\n",
       "      <td>SimulatedTumorData/sim_data/patient2/sample_cn...</td>\n",
       "      <td>patient2</td>\n",
       "      <td>NaN</td>\n",
       "      <td>1.99</td>\n",
       "      <td>SimulatedTumorData/sim_data/patient2/sample_AB...</td>\n",
       "      <td>SimulatedTumorData/sim_data/patient2/sample_AB...</td>\n",
       "      <td>SimulatedTumorData/sim_data/patient2/sample_AB...</td>\n",
       "      <td>SimulatedTumorData/sim_data/patient2/sample_AB...</td>\n",
       "      <td>SimulatedTumorData/sim_data/patient2/sample_AB...</td>\n",
       "      <td>SimulatedTumorData/sim_data/patient2/sample_AB...</td>\n",
       "      <td>SimulatedTumorData/sim_data/patient2/sample_AB...</td>\n",
       "      <td>SimulatedTumorData/sim_data/patient2/sample_AB...</td>\n",
       "    </tr>\n",
       "    <tr>\n",
       "      <th>p2_t3</th>\n",
       "      <td>/Users/cchu/Desktop/Methods/SimulatedTumorData...</td>\n",
       "      <td>0.20</td>\n",
       "      <td>180</td>\n",
       "      <td>SimulatedTumorData/sim_data/patient2/sample_cn...</td>\n",
       "      <td>patient2</td>\n",
       "      <td>NaN</td>\n",
       "      <td>2.00</td>\n",
       "      <td>SimulatedTumorData/sim_data/patient2/sample_AB...</td>\n",
       "      <td>SimulatedTumorData/sim_data/patient2/sample_AB...</td>\n",
       "      <td>SimulatedTumorData/sim_data/patient2/sample_AB...</td>\n",
       "      <td>SimulatedTumorData/sim_data/patient2/sample_AB...</td>\n",
       "      <td>SimulatedTumorData/sim_data/patient2/sample_AB...</td>\n",
       "      <td>SimulatedTumorData/sim_data/patient2/sample_AB...</td>\n",
       "      <td>SimulatedTumorData/sim_data/patient2/sample_AB...</td>\n",
       "      <td>SimulatedTumorData/sim_data/patient2/sample_AB...</td>\n",
       "    </tr>\n",
       "  </tbody>\n",
       "</table>\n",
       "</div>"
      ],
      "text/plain": [
       "                                                      maf_fn  wxs_purity  \\\n",
       "sample_id                                                                  \n",
       "p1_t1      /Users/cchu/Desktop/Methods/SimulatedTumorData...        0.70   \n",
       "p1_t2      /Users/cchu/Desktop/Methods/SimulatedTumorData...        0.45   \n",
       "p1_t3      /Users/cchu/Desktop/Methods/SimulatedTumorData...        0.90   \n",
       "p2_t1      /Users/cchu/Desktop/Methods/SimulatedTumorData...        0.50   \n",
       "p2_t2      /Users/cchu/Desktop/Methods/SimulatedTumorData...        0.85   \n",
       "p2_t3      /Users/cchu/Desktop/Methods/SimulatedTumorData...        0.20   \n",
       "\n",
       "           collection_date_dfd  \\\n",
       "sample_id                        \n",
       "p1_t1                       50   \n",
       "p1_t2                      100   \n",
       "p1_t3                      120   \n",
       "p2_t1                      100   \n",
       "p2_t2                      150   \n",
       "p2_t3                      180   \n",
       "\n",
       "                                                  cnv_seg_fn participant_id  \\\n",
       "sample_id                                                                     \n",
       "p1_t1      SimulatedTumorData/sim_data/patient1/sample_cn...       patient1   \n",
       "p1_t2      SimulatedTumorData/sim_data/patient1/sample_cn...       patient1   \n",
       "p1_t3      SimulatedTumorData/sim_data/patient1/sample_cn...       patient1   \n",
       "p2_t1      SimulatedTumorData/sim_data/patient2/sample_cn...       patient2   \n",
       "p2_t2      SimulatedTumorData/sim_data/patient2/sample_cn...       patient2   \n",
       "p2_t3      SimulatedTumorData/sim_data/patient2/sample_cn...       patient2   \n",
       "\n",
       "           preservation_method  wxs_ploidy  \\\n",
       "sample_id                                    \n",
       "p1_t1                      NaN        1.83   \n",
       "p1_t2                      NaN        1.90   \n",
       "p1_t3                      NaN        1.75   \n",
       "p2_t1                      NaN        1.99   \n",
       "p2_t2                      NaN        1.99   \n",
       "p2_t3                      NaN        2.00   \n",
       "\n",
       "                                    ABSOLUTE_pp_calls_tab_fn  \\\n",
       "sample_id                                                      \n",
       "p1_t1      SimulatedTumorData/sim_data/patient1/sample_AB...   \n",
       "p1_t2      SimulatedTumorData/sim_data/patient1/sample_AB...   \n",
       "p1_t3      SimulatedTumorData/sim_data/patient1/sample_AB...   \n",
       "p2_t1      SimulatedTumorData/sim_data/patient2/sample_AB...   \n",
       "p2_t2      SimulatedTumorData/sim_data/patient2/sample_AB...   \n",
       "p2_t3      SimulatedTumorData/sim_data/patient2/sample_AB...   \n",
       "\n",
       "                                   ABSOLUTE_pp_modes_data_fn  \\\n",
       "sample_id                                                      \n",
       "p1_t1      SimulatedTumorData/sim_data/patient1/sample_AB...   \n",
       "p1_t2      SimulatedTumorData/sim_data/patient1/sample_AB...   \n",
       "p1_t3      SimulatedTumorData/sim_data/patient1/sample_AB...   \n",
       "p2_t1      SimulatedTumorData/sim_data/patient2/sample_AB...   \n",
       "p2_t2      SimulatedTumorData/sim_data/patient2/sample_AB...   \n",
       "p2_t3      SimulatedTumorData/sim_data/patient2/sample_AB...   \n",
       "\n",
       "                                  ABSOLUTE_pp_modes_plots_fn  \\\n",
       "sample_id                                                      \n",
       "p1_t1      SimulatedTumorData/sim_data/patient1/sample_AB...   \n",
       "p1_t2      SimulatedTumorData/sim_data/patient1/sample_AB...   \n",
       "p1_t3      SimulatedTumorData/sim_data/patient1/sample_AB...   \n",
       "p2_t1      SimulatedTumorData/sim_data/patient2/sample_AB...   \n",
       "p2_t2      SimulatedTumorData/sim_data/patient2/sample_AB...   \n",
       "p2_t3      SimulatedTumorData/sim_data/patient2/sample_AB...   \n",
       "\n",
       "                                    ABSOLUTE_mode_res_rds_fn  \\\n",
       "sample_id                                                      \n",
       "p1_t1      SimulatedTumorData/sim_data/patient1/sample_AB...   \n",
       "p1_t2      SimulatedTumorData/sim_data/patient1/sample_AB...   \n",
       "p1_t3      SimulatedTumorData/sim_data/patient1/sample_AB...   \n",
       "p2_t1      SimulatedTumorData/sim_data/patient2/sample_AB...   \n",
       "p2_t2      SimulatedTumorData/sim_data/patient2/sample_AB...   \n",
       "p2_t3      SimulatedTumorData/sim_data/patient2/sample_AB...   \n",
       "\n",
       "                                        ABSOLUTE_mode_tab_fn  \\\n",
       "sample_id                                                      \n",
       "p1_t1      SimulatedTumorData/sim_data/patient1/sample_AB...   \n",
       "p1_t2      SimulatedTumorData/sim_data/patient1/sample_AB...   \n",
       "p1_t3      SimulatedTumorData/sim_data/patient1/sample_AB...   \n",
       "p2_t1      SimulatedTumorData/sim_data/patient2/sample_AB...   \n",
       "p2_t2      SimulatedTumorData/sim_data/patient2/sample_AB...   \n",
       "p2_t3      SimulatedTumorData/sim_data/patient2/sample_AB...   \n",
       "\n",
       "                                            ABSOLUTE_plot_fn  \\\n",
       "sample_id                                                      \n",
       "p1_t1      SimulatedTumorData/sim_data/patient1/sample_AB...   \n",
       "p1_t2      SimulatedTumorData/sim_data/patient1/sample_AB...   \n",
       "p1_t3      SimulatedTumorData/sim_data/patient1/sample_AB...   \n",
       "p2_t1      SimulatedTumorData/sim_data/patient2/sample_AB...   \n",
       "p2_t2      SimulatedTumorData/sim_data/patient2/sample_AB...   \n",
       "p2_t3      SimulatedTumorData/sim_data/patient2/sample_AB...   \n",
       "\n",
       "                               ABSOLUTE_SSNV_mode_res_rds_fn  \\\n",
       "sample_id                                                      \n",
       "p1_t1      SimulatedTumorData/sim_data/patient1/sample_AB...   \n",
       "p1_t2      SimulatedTumorData/sim_data/patient1/sample_AB...   \n",
       "p1_t3      SimulatedTumorData/sim_data/patient1/sample_AB...   \n",
       "p2_t1      SimulatedTumorData/sim_data/patient2/sample_AB...   \n",
       "p2_t2      SimulatedTumorData/sim_data/patient2/sample_AB...   \n",
       "p2_t3      SimulatedTumorData/sim_data/patient2/sample_AB...   \n",
       "\n",
       "                                              ABSOLUTE_RData  \n",
       "sample_id                                                     \n",
       "p1_t1      SimulatedTumorData/sim_data/patient1/sample_AB...  \n",
       "p1_t2      SimulatedTumorData/sim_data/patient1/sample_AB...  \n",
       "p1_t3      SimulatedTumorData/sim_data/patient1/sample_AB...  \n",
       "p2_t1      SimulatedTumorData/sim_data/patient2/sample_AB...  \n",
       "p2_t2      SimulatedTumorData/sim_data/patient2/sample_AB...  \n",
       "p2_t3      SimulatedTumorData/sim_data/patient2/sample_AB...  "
      ]
     },
     "execution_count": 9,
     "metadata": {},
     "output_type": "execute_result"
    }
   ],
   "source": [
    "samples"
   ]
  },
  {
   "cell_type": "code",
   "execution_count": 10,
   "id": "f2b01e6b-1d5d-439d-8af5-4d268105bb3e",
   "metadata": {},
   "outputs": [
    {
     "data": {
      "text/html": [
       "<div>\n",
       "<style scoped>\n",
       "    .dataframe tbody tr th:only-of-type {\n",
       "        vertical-align: middle;\n",
       "    }\n",
       "\n",
       "    .dataframe tbody tr th {\n",
       "        vertical-align: top;\n",
       "    }\n",
       "\n",
       "    .dataframe thead th {\n",
       "        text-align: right;\n",
       "    }\n",
       "</style>\n",
       "<table border=\"1\" class=\"dataframe\">\n",
       "  <thead>\n",
       "    <tr style=\"text-align: right;\">\n",
       "      <th></th>\n",
       "      <th>maf_fn</th>\n",
       "      <th>cluster_ccfs_fn</th>\n",
       "      <th>build_tree_posterior_fn</th>\n",
       "      <th>tumor_molecular_subtype</th>\n",
       "      <th>tumor_morphology</th>\n",
       "      <th>tumor_primary_site</th>\n",
       "      <th>cancer_stage</th>\n",
       "      <th>vital_status</th>\n",
       "      <th>death_date_dfd</th>\n",
       "      <th>follow_up_date</th>\n",
       "      <th>age_at_diagnosis</th>\n",
       "      <th>gender</th>\n",
       "      <th>notes</th>\n",
       "      <th>treatments_fn</th>\n",
       "    </tr>\n",
       "    <tr>\n",
       "      <th>participant_id</th>\n",
       "      <th></th>\n",
       "      <th></th>\n",
       "      <th></th>\n",
       "      <th></th>\n",
       "      <th></th>\n",
       "      <th></th>\n",
       "      <th></th>\n",
       "      <th></th>\n",
       "      <th></th>\n",
       "      <th></th>\n",
       "      <th></th>\n",
       "      <th></th>\n",
       "      <th></th>\n",
       "      <th></th>\n",
       "    </tr>\n",
       "  </thead>\n",
       "  <tbody>\n",
       "    <tr>\n",
       "      <th>patient1</th>\n",
       "      <td>SimulatedTumorData/sim_data/patient1/phylogicN...</td>\n",
       "      <td>SimulatedTumorData/sim_data/patient1/phylogicN...</td>\n",
       "      <td>SimulatedTumorData/sim_data/patient1/phylogicN...</td>\n",
       "      <td>Unknown</td>\n",
       "      <td>Unknown</td>\n",
       "      <td>NaN</td>\n",
       "      <td>NaN</td>\n",
       "      <td>NaN</td>\n",
       "      <td>NaN</td>\n",
       "      <td>NaN</td>\n",
       "      <td>32</td>\n",
       "      <td>NaN</td>\n",
       "      <td>NaN</td>\n",
       "      <td>SimulatedTumorData/sim_data/patient1/patient1_...</td>\n",
       "    </tr>\n",
       "    <tr>\n",
       "      <th>patient2</th>\n",
       "      <td>SimulatedTumorData/sim_data/patient2/phylogicN...</td>\n",
       "      <td>SimulatedTumorData/sim_data/patient2/phylogicN...</td>\n",
       "      <td>SimulatedTumorData/sim_data/patient2/phylogicN...</td>\n",
       "      <td>Unknown</td>\n",
       "      <td>Unknown</td>\n",
       "      <td>NaN</td>\n",
       "      <td>NaN</td>\n",
       "      <td>NaN</td>\n",
       "      <td>NaN</td>\n",
       "      <td>NaN</td>\n",
       "      <td>32</td>\n",
       "      <td>NaN</td>\n",
       "      <td>NaN</td>\n",
       "      <td>SimulatedTumorData/sim_data/patient2/patient2_...</td>\n",
       "    </tr>\n",
       "  </tbody>\n",
       "</table>\n",
       "</div>"
      ],
      "text/plain": [
       "                                                           maf_fn  \\\n",
       "participant_id                                                      \n",
       "patient1        SimulatedTumorData/sim_data/patient1/phylogicN...   \n",
       "patient2        SimulatedTumorData/sim_data/patient2/phylogicN...   \n",
       "\n",
       "                                                  cluster_ccfs_fn  \\\n",
       "participant_id                                                      \n",
       "patient1        SimulatedTumorData/sim_data/patient1/phylogicN...   \n",
       "patient2        SimulatedTumorData/sim_data/patient2/phylogicN...   \n",
       "\n",
       "                                          build_tree_posterior_fn  \\\n",
       "participant_id                                                      \n",
       "patient1        SimulatedTumorData/sim_data/patient1/phylogicN...   \n",
       "patient2        SimulatedTumorData/sim_data/patient2/phylogicN...   \n",
       "\n",
       "               tumor_molecular_subtype tumor_morphology  tumor_primary_site  \\\n",
       "participant_id                                                                \n",
       "patient1                       Unknown          Unknown                 NaN   \n",
       "patient2                       Unknown          Unknown                 NaN   \n",
       "\n",
       "                cancer_stage  vital_status  death_date_dfd  follow_up_date  \\\n",
       "participant_id                                                               \n",
       "patient1                 NaN           NaN             NaN             NaN   \n",
       "patient2                 NaN           NaN             NaN             NaN   \n",
       "\n",
       "                age_at_diagnosis  gender  notes  \\\n",
       "participant_id                                    \n",
       "patient1                      32     NaN    NaN   \n",
       "patient2                      32     NaN    NaN   \n",
       "\n",
       "                                                    treatments_fn  \n",
       "participant_id                                                     \n",
       "patient1        SimulatedTumorData/sim_data/patient1/patient1_...  \n",
       "patient2        SimulatedTumorData/sim_data/patient2/patient2_...  "
      ]
     },
     "execution_count": 10,
     "metadata": {},
     "output_type": "execute_result"
    }
   ],
   "source": [
    "participants"
   ]
  },
  {
   "cell_type": "markdown",
   "id": "7363b447-af85-498c-9536-498612c40653",
   "metadata": {},
   "source": [
    "# Reviewer"
   ]
  },
  {
   "cell_type": "code",
   "execution_count": 11,
   "id": "c8a593ce-2172-4152-9e82-869b3a5e7ff3",
   "metadata": {},
   "outputs": [],
   "source": [
    "from PurityReviewer.AppComponents.utils import parse_absolute_soln, CSIZE_DEFAULT\n",
    "from PurityReviewer.AppComponents.utils import parse_absolute_soln_simulatedTumorData"
   ]
  },
  {
   "cell_type": "code",
   "execution_count": 12,
   "id": "f043359e-668b-4977-8126-f7196c8ee8b5",
   "metadata": {},
   "outputs": [],
   "source": [
    "data_pkl_fn = 'simulated_data_purity_review.pkl'"
   ]
  },
  {
   "cell_type": "code",
   "execution_count": 13,
   "id": "10b880fd-dd35-4861-92a9-3c44df751ea4",
   "metadata": {},
   "outputs": [
    {
     "name": "stderr",
     "output_type": "stream",
     "text": [
      "/Users/cchu/Desktop/Methods/AnnoMate/AnnoMate/ReviewDataInterface.py:38: UserWarning: Loading existing data pkl file\n",
      "  warnings.warn(f\"Loading existing data pkl file\")\n"
     ]
    }
   ],
   "source": [
    "matched_reviewer = MatchedPurityReviewer()\n",
    "matched_reviewer.set_review_data(\n",
    "    data_pkl_fn = data_pkl_fn, \n",
    "    description='Matched purity reviewer for simulated data', \n",
    "    df=samples, #pcyc_wm_pairs_df, # optional if directory above already exists. \n",
    "    index=samples.index, #pcyc_wm_pairs_df.index,\n",
    ")\n",
    "matched_reviewer.set_review_app(\n",
    "    sample_info_cols=['ABSOLUTE_plot_fn', 'wxs_purity', 'wxs_ploidy'],\n",
    "    acs_col='cnv_seg_fn', \n",
    "    maf_col='maf_fn',\n",
    "    rdata_fn_col='ABSOLUTE_RData',\n",
    "    mut_fig_hover_data=['Hugo_Symbol', 'Chromosome', 'Start_position'],\n",
    "    csize=CSIZE_DEFAULT,\n",
    "    custom_parse_absolute_soln=parse_absolute_soln_simulatedTumorData # <-- update with my_custom_parse_absolute_soln()\n",
    ")\n",
    "\n",
    "matched_reviewer.set_default_review_data_annotations_configuration()\n",
    "matched_reviewer.set_default_autofill()"
   ]
  },
  {
   "cell_type": "code",
   "execution_count": 14,
   "id": "2899b183-856c-4159-a46e-bef0587fbd72",
   "metadata": {},
   "outputs": [
    {
     "name": "stdout",
     "output_type": "stream",
     "text": [
      "Setting auto_export_path to simulated_data_purity_review.auto_export\n",
      "Using simulated_data_purity_review.auto_export for auto exporting.\n",
      "Dash app running on http://0.0.0.0:8099/\n"
     ]
    },
    {
     "data": {
      "application/javascript": [
       "window.open('http://0.0.0.0:8099/')"
      ],
      "text/plain": [
       "<IPython.core.display.Javascript object>"
      ]
     },
     "metadata": {},
     "output_type": "display_data"
    }
   ],
   "source": [
    "matched_reviewer.run(port=8099, mode='tab', collapsable=False, hide_history_df_cols=['source_data_fn'])"
   ]
  },
  {
   "cell_type": "code",
   "execution_count": 19,
   "id": "b0e62bef-2e6b-48e3-bab4-dc94fcf5722d",
   "metadata": {},
   "outputs": [],
   "source": [
    "fn = samples['ABSOLUTE_mode_tab_fn'].iloc[0]"
   ]
  },
  {
   "cell_type": "code",
   "execution_count": 25,
   "id": "586c6a4b-ace8-4dd0-9509-68f72a4532cd",
   "metadata": {},
   "outputs": [
    {
     "data": {
      "text/plain": [
       "Index(['maf_fn', 'wxs_purity', 'collection_date_dfd', 'cnv_seg_fn',\n",
       "       'participant_id', 'preservation_method', 'wxs_ploidy',\n",
       "       'ABSOLUTE_pp_calls_tab_fn', 'ABSOLUTE_pp_modes_data_fn',\n",
       "       'ABSOLUTE_pp_modes_plots_fn', 'ABSOLUTE_mode_res_rds_fn',\n",
       "       'ABSOLUTE_mode_tab_fn', 'ABSOLUTE_plot_fn',\n",
       "       'ABSOLUTE_SSNV_mode_res_rds_fn', 'ABSOLUTE_RData'],\n",
       "      dtype='object')"
      ]
     },
     "execution_count": 25,
     "metadata": {},
     "output_type": "execute_result"
    }
   ],
   "source": [
    "samples.columns"
   ]
  },
  {
   "cell_type": "code",
   "execution_count": 32,
   "id": "1cde75c4-1f1e-491f-a9c9-09257b5271a2",
   "metadata": {},
   "outputs": [
    {
     "name": "stdout",
     "output_type": "stream",
     "text": [
      "/Users/cchu/Desktop/Methods/SimulatedTumorData/sim_data/patient1/sample_muts_annotated/p1_t1.variants.annotated.tsv\n"
     ]
    }
   ],
   "source": [
    "fn = samples['maf_fn'].iloc[0]\n",
    "print(fn)\n",
    "df = pd.read_csv(fn, sep='\\t', encoding='iso-8859-1')"
   ]
  },
  {
   "cell_type": "code",
   "execution_count": 34,
   "id": "8f98e32d-8300-4dcf-83b3-b6b2710a77e9",
   "metadata": {},
   "outputs": [],
   "source": [
    "import plotly.express as px"
   ]
  },
  {
   "cell_type": "code",
   "execution_count": 37,
   "id": "d793aa80-1533-494b-93de-e02d6e0ace36",
   "metadata": {},
   "outputs": [
    {
     "data": {
      "application/vnd.plotly.v1+json": {
       "config": {
        "plotlyServerURL": "https://plot.ly"
       },
       "data": [
        {
         "hovertemplate": "t_alt_count=%{x}<br>t_ref_count=%{y}<extra></extra>",
         "legendgroup": "",
         "marker": {
          "color": "#636efa",
          "symbol": "circle"
         },
         "mode": "markers",
         "name": "",
         "orientation": "v",
         "showlegend": false,
         "type": "scatter",
         "x": [
          0,
          37,
          28,
          43,
          48,
          0,
          43,
          39,
          47,
          37,
          46,
          35,
          46,
          0,
          51,
          34,
          0,
          43,
          0,
          3,
          39,
          50,
          0,
          20,
          35,
          0,
          0,
          0,
          7,
          6,
          17,
          26,
          0,
          20,
          0,
          41,
          13,
          39,
          4,
          0,
          32,
          44,
          1,
          3,
          50,
          0,
          4,
          6,
          0,
          46,
          35,
          5,
          18,
          43,
          21,
          8,
          24,
          0,
          40,
          0,
          40,
          23,
          0,
          24,
          34,
          0,
          0,
          0,
          0,
          36,
          0,
          41,
          75,
          28,
          26,
          30,
          6,
          78,
          35,
          3,
          19,
          0,
          0,
          0,
          7,
          0
         ],
         "xaxis": "x",
         "y": [
          100,
          104,
          50,
          77,
          116,
          140,
          75,
          40,
          73,
          83,
          74,
          85,
          74,
          120,
          68,
          44,
          141,
          77,
          120,
          75,
          82,
          70,
          79,
          59,
          44,
          79,
          160,
          120,
          157,
          115,
          144,
          95,
          120,
          99,
          142,
          110,
          108,
          80,
          74,
          120,
          110,
          74,
          98,
          159,
          70,
          78,
          116,
          113,
          163,
          104,
          85,
          157,
          100,
          78,
          58,
          112,
          139,
          161,
          80,
          119,
          79,
          55,
          119,
          54,
          86,
          120,
          118,
          119,
          77,
          84,
          78,
          79,
          76,
          50,
          53,
          91,
          114,
          73,
          80,
          116,
          122,
          151,
          120,
          120,
          113,
          120
         ],
         "yaxis": "y"
        }
       ],
       "layout": {
        "height": 400,
        "legend": {
         "tracegroupgap": 0
        },
        "margin": {
         "t": 60
        },
        "template": {
         "data": {
          "bar": [
           {
            "error_x": {
             "color": "#2a3f5f"
            },
            "error_y": {
             "color": "#2a3f5f"
            },
            "marker": {
             "line": {
              "color": "#E5ECF6",
              "width": 0.5
             },
             "pattern": {
              "fillmode": "overlay",
              "size": 10,
              "solidity": 0.2
             }
            },
            "type": "bar"
           }
          ],
          "barpolar": [
           {
            "marker": {
             "line": {
              "color": "#E5ECF6",
              "width": 0.5
             },
             "pattern": {
              "fillmode": "overlay",
              "size": 10,
              "solidity": 0.2
             }
            },
            "type": "barpolar"
           }
          ],
          "carpet": [
           {
            "aaxis": {
             "endlinecolor": "#2a3f5f",
             "gridcolor": "white",
             "linecolor": "white",
             "minorgridcolor": "white",
             "startlinecolor": "#2a3f5f"
            },
            "baxis": {
             "endlinecolor": "#2a3f5f",
             "gridcolor": "white",
             "linecolor": "white",
             "minorgridcolor": "white",
             "startlinecolor": "#2a3f5f"
            },
            "type": "carpet"
           }
          ],
          "choropleth": [
           {
            "colorbar": {
             "outlinewidth": 0,
             "ticks": ""
            },
            "type": "choropleth"
           }
          ],
          "contour": [
           {
            "colorbar": {
             "outlinewidth": 0,
             "ticks": ""
            },
            "colorscale": [
             [
              0,
              "#0d0887"
             ],
             [
              0.1111111111111111,
              "#46039f"
             ],
             [
              0.2222222222222222,
              "#7201a8"
             ],
             [
              0.3333333333333333,
              "#9c179e"
             ],
             [
              0.4444444444444444,
              "#bd3786"
             ],
             [
              0.5555555555555556,
              "#d8576b"
             ],
             [
              0.6666666666666666,
              "#ed7953"
             ],
             [
              0.7777777777777778,
              "#fb9f3a"
             ],
             [
              0.8888888888888888,
              "#fdca26"
             ],
             [
              1,
              "#f0f921"
             ]
            ],
            "type": "contour"
           }
          ],
          "contourcarpet": [
           {
            "colorbar": {
             "outlinewidth": 0,
             "ticks": ""
            },
            "type": "contourcarpet"
           }
          ],
          "heatmap": [
           {
            "colorbar": {
             "outlinewidth": 0,
             "ticks": ""
            },
            "colorscale": [
             [
              0,
              "#0d0887"
             ],
             [
              0.1111111111111111,
              "#46039f"
             ],
             [
              0.2222222222222222,
              "#7201a8"
             ],
             [
              0.3333333333333333,
              "#9c179e"
             ],
             [
              0.4444444444444444,
              "#bd3786"
             ],
             [
              0.5555555555555556,
              "#d8576b"
             ],
             [
              0.6666666666666666,
              "#ed7953"
             ],
             [
              0.7777777777777778,
              "#fb9f3a"
             ],
             [
              0.8888888888888888,
              "#fdca26"
             ],
             [
              1,
              "#f0f921"
             ]
            ],
            "type": "heatmap"
           }
          ],
          "heatmapgl": [
           {
            "colorbar": {
             "outlinewidth": 0,
             "ticks": ""
            },
            "colorscale": [
             [
              0,
              "#0d0887"
             ],
             [
              0.1111111111111111,
              "#46039f"
             ],
             [
              0.2222222222222222,
              "#7201a8"
             ],
             [
              0.3333333333333333,
              "#9c179e"
             ],
             [
              0.4444444444444444,
              "#bd3786"
             ],
             [
              0.5555555555555556,
              "#d8576b"
             ],
             [
              0.6666666666666666,
              "#ed7953"
             ],
             [
              0.7777777777777778,
              "#fb9f3a"
             ],
             [
              0.8888888888888888,
              "#fdca26"
             ],
             [
              1,
              "#f0f921"
             ]
            ],
            "type": "heatmapgl"
           }
          ],
          "histogram": [
           {
            "marker": {
             "pattern": {
              "fillmode": "overlay",
              "size": 10,
              "solidity": 0.2
             }
            },
            "type": "histogram"
           }
          ],
          "histogram2d": [
           {
            "colorbar": {
             "outlinewidth": 0,
             "ticks": ""
            },
            "colorscale": [
             [
              0,
              "#0d0887"
             ],
             [
              0.1111111111111111,
              "#46039f"
             ],
             [
              0.2222222222222222,
              "#7201a8"
             ],
             [
              0.3333333333333333,
              "#9c179e"
             ],
             [
              0.4444444444444444,
              "#bd3786"
             ],
             [
              0.5555555555555556,
              "#d8576b"
             ],
             [
              0.6666666666666666,
              "#ed7953"
             ],
             [
              0.7777777777777778,
              "#fb9f3a"
             ],
             [
              0.8888888888888888,
              "#fdca26"
             ],
             [
              1,
              "#f0f921"
             ]
            ],
            "type": "histogram2d"
           }
          ],
          "histogram2dcontour": [
           {
            "colorbar": {
             "outlinewidth": 0,
             "ticks": ""
            },
            "colorscale": [
             [
              0,
              "#0d0887"
             ],
             [
              0.1111111111111111,
              "#46039f"
             ],
             [
              0.2222222222222222,
              "#7201a8"
             ],
             [
              0.3333333333333333,
              "#9c179e"
             ],
             [
              0.4444444444444444,
              "#bd3786"
             ],
             [
              0.5555555555555556,
              "#d8576b"
             ],
             [
              0.6666666666666666,
              "#ed7953"
             ],
             [
              0.7777777777777778,
              "#fb9f3a"
             ],
             [
              0.8888888888888888,
              "#fdca26"
             ],
             [
              1,
              "#f0f921"
             ]
            ],
            "type": "histogram2dcontour"
           }
          ],
          "mesh3d": [
           {
            "colorbar": {
             "outlinewidth": 0,
             "ticks": ""
            },
            "type": "mesh3d"
           }
          ],
          "parcoords": [
           {
            "line": {
             "colorbar": {
              "outlinewidth": 0,
              "ticks": ""
             }
            },
            "type": "parcoords"
           }
          ],
          "pie": [
           {
            "automargin": true,
            "type": "pie"
           }
          ],
          "scatter": [
           {
            "fillpattern": {
             "fillmode": "overlay",
             "size": 10,
             "solidity": 0.2
            },
            "type": "scatter"
           }
          ],
          "scatter3d": [
           {
            "line": {
             "colorbar": {
              "outlinewidth": 0,
              "ticks": ""
             }
            },
            "marker": {
             "colorbar": {
              "outlinewidth": 0,
              "ticks": ""
             }
            },
            "type": "scatter3d"
           }
          ],
          "scattercarpet": [
           {
            "marker": {
             "colorbar": {
              "outlinewidth": 0,
              "ticks": ""
             }
            },
            "type": "scattercarpet"
           }
          ],
          "scattergeo": [
           {
            "marker": {
             "colorbar": {
              "outlinewidth": 0,
              "ticks": ""
             }
            },
            "type": "scattergeo"
           }
          ],
          "scattergl": [
           {
            "marker": {
             "colorbar": {
              "outlinewidth": 0,
              "ticks": ""
             }
            },
            "type": "scattergl"
           }
          ],
          "scattermapbox": [
           {
            "marker": {
             "colorbar": {
              "outlinewidth": 0,
              "ticks": ""
             }
            },
            "type": "scattermapbox"
           }
          ],
          "scatterpolar": [
           {
            "marker": {
             "colorbar": {
              "outlinewidth": 0,
              "ticks": ""
             }
            },
            "type": "scatterpolar"
           }
          ],
          "scatterpolargl": [
           {
            "marker": {
             "colorbar": {
              "outlinewidth": 0,
              "ticks": ""
             }
            },
            "type": "scatterpolargl"
           }
          ],
          "scatterternary": [
           {
            "marker": {
             "colorbar": {
              "outlinewidth": 0,
              "ticks": ""
             }
            },
            "type": "scatterternary"
           }
          ],
          "surface": [
           {
            "colorbar": {
             "outlinewidth": 0,
             "ticks": ""
            },
            "colorscale": [
             [
              0,
              "#0d0887"
             ],
             [
              0.1111111111111111,
              "#46039f"
             ],
             [
              0.2222222222222222,
              "#7201a8"
             ],
             [
              0.3333333333333333,
              "#9c179e"
             ],
             [
              0.4444444444444444,
              "#bd3786"
             ],
             [
              0.5555555555555556,
              "#d8576b"
             ],
             [
              0.6666666666666666,
              "#ed7953"
             ],
             [
              0.7777777777777778,
              "#fb9f3a"
             ],
             [
              0.8888888888888888,
              "#fdca26"
             ],
             [
              1,
              "#f0f921"
             ]
            ],
            "type": "surface"
           }
          ],
          "table": [
           {
            "cells": {
             "fill": {
              "color": "#EBF0F8"
             },
             "line": {
              "color": "white"
             }
            },
            "header": {
             "fill": {
              "color": "#C8D4E3"
             },
             "line": {
              "color": "white"
             }
            },
            "type": "table"
           }
          ]
         },
         "layout": {
          "annotationdefaults": {
           "arrowcolor": "#2a3f5f",
           "arrowhead": 0,
           "arrowwidth": 1
          },
          "autotypenumbers": "strict",
          "coloraxis": {
           "colorbar": {
            "outlinewidth": 0,
            "ticks": ""
           }
          },
          "colorscale": {
           "diverging": [
            [
             0,
             "#8e0152"
            ],
            [
             0.1,
             "#c51b7d"
            ],
            [
             0.2,
             "#de77ae"
            ],
            [
             0.3,
             "#f1b6da"
            ],
            [
             0.4,
             "#fde0ef"
            ],
            [
             0.5,
             "#f7f7f7"
            ],
            [
             0.6,
             "#e6f5d0"
            ],
            [
             0.7,
             "#b8e186"
            ],
            [
             0.8,
             "#7fbc41"
            ],
            [
             0.9,
             "#4d9221"
            ],
            [
             1,
             "#276419"
            ]
           ],
           "sequential": [
            [
             0,
             "#0d0887"
            ],
            [
             0.1111111111111111,
             "#46039f"
            ],
            [
             0.2222222222222222,
             "#7201a8"
            ],
            [
             0.3333333333333333,
             "#9c179e"
            ],
            [
             0.4444444444444444,
             "#bd3786"
            ],
            [
             0.5555555555555556,
             "#d8576b"
            ],
            [
             0.6666666666666666,
             "#ed7953"
            ],
            [
             0.7777777777777778,
             "#fb9f3a"
            ],
            [
             0.8888888888888888,
             "#fdca26"
            ],
            [
             1,
             "#f0f921"
            ]
           ],
           "sequentialminus": [
            [
             0,
             "#0d0887"
            ],
            [
             0.1111111111111111,
             "#46039f"
            ],
            [
             0.2222222222222222,
             "#7201a8"
            ],
            [
             0.3333333333333333,
             "#9c179e"
            ],
            [
             0.4444444444444444,
             "#bd3786"
            ],
            [
             0.5555555555555556,
             "#d8576b"
            ],
            [
             0.6666666666666666,
             "#ed7953"
            ],
            [
             0.7777777777777778,
             "#fb9f3a"
            ],
            [
             0.8888888888888888,
             "#fdca26"
            ],
            [
             1,
             "#f0f921"
            ]
           ]
          },
          "colorway": [
           "#636efa",
           "#EF553B",
           "#00cc96",
           "#ab63fa",
           "#FFA15A",
           "#19d3f3",
           "#FF6692",
           "#B6E880",
           "#FF97FF",
           "#FECB52"
          ],
          "font": {
           "color": "#2a3f5f"
          },
          "geo": {
           "bgcolor": "white",
           "lakecolor": "white",
           "landcolor": "#E5ECF6",
           "showlakes": true,
           "showland": true,
           "subunitcolor": "white"
          },
          "hoverlabel": {
           "align": "left"
          },
          "hovermode": "closest",
          "mapbox": {
           "style": "light"
          },
          "paper_bgcolor": "white",
          "plot_bgcolor": "#E5ECF6",
          "polar": {
           "angularaxis": {
            "gridcolor": "white",
            "linecolor": "white",
            "ticks": ""
           },
           "bgcolor": "#E5ECF6",
           "radialaxis": {
            "gridcolor": "white",
            "linecolor": "white",
            "ticks": ""
           }
          },
          "scene": {
           "xaxis": {
            "backgroundcolor": "#E5ECF6",
            "gridcolor": "white",
            "gridwidth": 2,
            "linecolor": "white",
            "showbackground": true,
            "ticks": "",
            "zerolinecolor": "white"
           },
           "yaxis": {
            "backgroundcolor": "#E5ECF6",
            "gridcolor": "white",
            "gridwidth": 2,
            "linecolor": "white",
            "showbackground": true,
            "ticks": "",
            "zerolinecolor": "white"
           },
           "zaxis": {
            "backgroundcolor": "#E5ECF6",
            "gridcolor": "white",
            "gridwidth": 2,
            "linecolor": "white",
            "showbackground": true,
            "ticks": "",
            "zerolinecolor": "white"
           }
          },
          "shapedefaults": {
           "line": {
            "color": "#2a3f5f"
           }
          },
          "ternary": {
           "aaxis": {
            "gridcolor": "white",
            "linecolor": "white",
            "ticks": ""
           },
           "baxis": {
            "gridcolor": "white",
            "linecolor": "white",
            "ticks": ""
           },
           "bgcolor": "#E5ECF6",
           "caxis": {
            "gridcolor": "white",
            "linecolor": "white",
            "ticks": ""
           }
          },
          "title": {
           "x": 0.05
          },
          "xaxis": {
           "automargin": true,
           "gridcolor": "white",
           "linecolor": "white",
           "ticks": "",
           "title": {
            "standoff": 15
           },
           "zerolinecolor": "white",
           "zerolinewidth": 2
          },
          "yaxis": {
           "automargin": true,
           "gridcolor": "white",
           "linecolor": "white",
           "ticks": "",
           "title": {
            "standoff": 15
           },
           "zerolinecolor": "white",
           "zerolinewidth": 2
          }
         }
        },
        "width": 800,
        "xaxis": {
         "anchor": "y",
         "autorange": true,
         "domain": [
          0,
          1
         ],
         "range": [
          -4.905013192612137,
          82.90501319261213
         ],
         "title": {
          "text": "t_alt_count"
         },
         "type": "linear"
        },
        "yaxis": {
         "anchor": "x",
         "autorange": true,
         "domain": [
          0,
          1
         ],
         "range": [
          30.903973509933774,
          172.09602649006624
         ],
         "title": {
          "text": "t_ref_count"
         },
         "type": "linear"
        }
       }
      },
      "text/html": [
       "<div>                            <div id=\"568b8af1-c0be-4765-a67b-5f5001d7a551\" class=\"plotly-graph-div\" style=\"height:400px; width:800px;\"></div>            <script type=\"text/javascript\">                require([\"plotly\"], function(Plotly) {                    window.PLOTLYENV=window.PLOTLYENV || {};                                    if (document.getElementById(\"568b8af1-c0be-4765-a67b-5f5001d7a551\")) {                    Plotly.newPlot(                        \"568b8af1-c0be-4765-a67b-5f5001d7a551\",                        [{\"hovertemplate\":\"t_alt_count=%{x}\\u003cbr\\u003et_ref_count=%{y}\\u003cextra\\u003e\\u003c\\u002fextra\\u003e\",\"legendgroup\":\"\",\"marker\":{\"color\":\"#636efa\",\"symbol\":\"circle\"},\"mode\":\"markers\",\"name\":\"\",\"orientation\":\"v\",\"showlegend\":false,\"x\":[0.0,37.0,28.0,43.0,48.0,0.0,43.0,39.0,47.0,37.0,46.0,35.0,46.0,0.0,51.0,34.0,0.0,43.0,0.0,3.0,39.0,50.0,0.0,20.0,35.0,0.0,0.0,0.0,7.0,6.0,17.0,26.0,0.0,20.0,0.0,41.0,13.0,39.0,4.0,0.0,32.0,44.0,1.0,3.0,50.0,0.0,4.0,6.0,0.0,46.0,35.0,5.0,18.0,43.0,21.0,8.0,24.0,0.0,40.0,0.0,40.0,23.0,0.0,24.0,34.0,0.0,0.0,0.0,0.0,36.0,0.0,41.0,75.0,28.0,26.0,30.0,6.0,78.0,35.0,3.0,19.0,0.0,0.0,0.0,7.0,0.0],\"xaxis\":\"x\",\"y\":[100.0,104.0,50.0,77.0,116.0,140.0,75.0,40.0,73.0,83.0,74.0,85.0,74.0,120.0,68.0,44.0,141.0,77.0,120.0,75.0,82.0,70.0,79.0,59.0,44.0,79.0,160.0,120.0,157.0,115.0,144.0,95.0,120.0,99.0,142.0,110.0,108.0,80.0,74.0,120.0,110.0,74.0,98.0,159.0,70.0,78.0,116.0,113.0,163.0,104.0,85.0,157.0,100.0,78.0,58.0,112.0,139.0,161.0,80.0,119.0,79.0,55.0,119.0,54.0,86.0,120.0,118.0,119.0,77.0,84.0,78.0,79.0,76.0,50.0,53.0,91.0,114.0,73.0,80.0,116.0,122.0,151.0,120.0,120.0,113.0,120.0],\"yaxis\":\"y\",\"type\":\"scatter\"}],                        {\"template\":{\"data\":{\"histogram2dcontour\":[{\"type\":\"histogram2dcontour\",\"colorbar\":{\"outlinewidth\":0,\"ticks\":\"\"},\"colorscale\":[[0.0,\"#0d0887\"],[0.1111111111111111,\"#46039f\"],[0.2222222222222222,\"#7201a8\"],[0.3333333333333333,\"#9c179e\"],[0.4444444444444444,\"#bd3786\"],[0.5555555555555556,\"#d8576b\"],[0.6666666666666666,\"#ed7953\"],[0.7777777777777778,\"#fb9f3a\"],[0.8888888888888888,\"#fdca26\"],[1.0,\"#f0f921\"]]}],\"choropleth\":[{\"type\":\"choropleth\",\"colorbar\":{\"outlinewidth\":0,\"ticks\":\"\"}}],\"histogram2d\":[{\"type\":\"histogram2d\",\"colorbar\":{\"outlinewidth\":0,\"ticks\":\"\"},\"colorscale\":[[0.0,\"#0d0887\"],[0.1111111111111111,\"#46039f\"],[0.2222222222222222,\"#7201a8\"],[0.3333333333333333,\"#9c179e\"],[0.4444444444444444,\"#bd3786\"],[0.5555555555555556,\"#d8576b\"],[0.6666666666666666,\"#ed7953\"],[0.7777777777777778,\"#fb9f3a\"],[0.8888888888888888,\"#fdca26\"],[1.0,\"#f0f921\"]]}],\"heatmap\":[{\"type\":\"heatmap\",\"colorbar\":{\"outlinewidth\":0,\"ticks\":\"\"},\"colorscale\":[[0.0,\"#0d0887\"],[0.1111111111111111,\"#46039f\"],[0.2222222222222222,\"#7201a8\"],[0.3333333333333333,\"#9c179e\"],[0.4444444444444444,\"#bd3786\"],[0.5555555555555556,\"#d8576b\"],[0.6666666666666666,\"#ed7953\"],[0.7777777777777778,\"#fb9f3a\"],[0.8888888888888888,\"#fdca26\"],[1.0,\"#f0f921\"]]}],\"heatmapgl\":[{\"type\":\"heatmapgl\",\"colorbar\":{\"outlinewidth\":0,\"ticks\":\"\"},\"colorscale\":[[0.0,\"#0d0887\"],[0.1111111111111111,\"#46039f\"],[0.2222222222222222,\"#7201a8\"],[0.3333333333333333,\"#9c179e\"],[0.4444444444444444,\"#bd3786\"],[0.5555555555555556,\"#d8576b\"],[0.6666666666666666,\"#ed7953\"],[0.7777777777777778,\"#fb9f3a\"],[0.8888888888888888,\"#fdca26\"],[1.0,\"#f0f921\"]]}],\"contourcarpet\":[{\"type\":\"contourcarpet\",\"colorbar\":{\"outlinewidth\":0,\"ticks\":\"\"}}],\"contour\":[{\"type\":\"contour\",\"colorbar\":{\"outlinewidth\":0,\"ticks\":\"\"},\"colorscale\":[[0.0,\"#0d0887\"],[0.1111111111111111,\"#46039f\"],[0.2222222222222222,\"#7201a8\"],[0.3333333333333333,\"#9c179e\"],[0.4444444444444444,\"#bd3786\"],[0.5555555555555556,\"#d8576b\"],[0.6666666666666666,\"#ed7953\"],[0.7777777777777778,\"#fb9f3a\"],[0.8888888888888888,\"#fdca26\"],[1.0,\"#f0f921\"]]}],\"surface\":[{\"type\":\"surface\",\"colorbar\":{\"outlinewidth\":0,\"ticks\":\"\"},\"colorscale\":[[0.0,\"#0d0887\"],[0.1111111111111111,\"#46039f\"],[0.2222222222222222,\"#7201a8\"],[0.3333333333333333,\"#9c179e\"],[0.4444444444444444,\"#bd3786\"],[0.5555555555555556,\"#d8576b\"],[0.6666666666666666,\"#ed7953\"],[0.7777777777777778,\"#fb9f3a\"],[0.8888888888888888,\"#fdca26\"],[1.0,\"#f0f921\"]]}],\"mesh3d\":[{\"type\":\"mesh3d\",\"colorbar\":{\"outlinewidth\":0,\"ticks\":\"\"}}],\"scatter\":[{\"fillpattern\":{\"fillmode\":\"overlay\",\"size\":10,\"solidity\":0.2},\"type\":\"scatter\"}],\"parcoords\":[{\"type\":\"parcoords\",\"line\":{\"colorbar\":{\"outlinewidth\":0,\"ticks\":\"\"}}}],\"scatterpolargl\":[{\"type\":\"scatterpolargl\",\"marker\":{\"colorbar\":{\"outlinewidth\":0,\"ticks\":\"\"}}}],\"bar\":[{\"error_x\":{\"color\":\"#2a3f5f\"},\"error_y\":{\"color\":\"#2a3f5f\"},\"marker\":{\"line\":{\"color\":\"#E5ECF6\",\"width\":0.5},\"pattern\":{\"fillmode\":\"overlay\",\"size\":10,\"solidity\":0.2}},\"type\":\"bar\"}],\"scattergeo\":[{\"type\":\"scattergeo\",\"marker\":{\"colorbar\":{\"outlinewidth\":0,\"ticks\":\"\"}}}],\"scatterpolar\":[{\"type\":\"scatterpolar\",\"marker\":{\"colorbar\":{\"outlinewidth\":0,\"ticks\":\"\"}}}],\"histogram\":[{\"marker\":{\"pattern\":{\"fillmode\":\"overlay\",\"size\":10,\"solidity\":0.2}},\"type\":\"histogram\"}],\"scattergl\":[{\"type\":\"scattergl\",\"marker\":{\"colorbar\":{\"outlinewidth\":0,\"ticks\":\"\"}}}],\"scatter3d\":[{\"type\":\"scatter3d\",\"line\":{\"colorbar\":{\"outlinewidth\":0,\"ticks\":\"\"}},\"marker\":{\"colorbar\":{\"outlinewidth\":0,\"ticks\":\"\"}}}],\"scattermapbox\":[{\"type\":\"scattermapbox\",\"marker\":{\"colorbar\":{\"outlinewidth\":0,\"ticks\":\"\"}}}],\"scatterternary\":[{\"type\":\"scatterternary\",\"marker\":{\"colorbar\":{\"outlinewidth\":0,\"ticks\":\"\"}}}],\"scattercarpet\":[{\"type\":\"scattercarpet\",\"marker\":{\"colorbar\":{\"outlinewidth\":0,\"ticks\":\"\"}}}],\"carpet\":[{\"aaxis\":{\"endlinecolor\":\"#2a3f5f\",\"gridcolor\":\"white\",\"linecolor\":\"white\",\"minorgridcolor\":\"white\",\"startlinecolor\":\"#2a3f5f\"},\"baxis\":{\"endlinecolor\":\"#2a3f5f\",\"gridcolor\":\"white\",\"linecolor\":\"white\",\"minorgridcolor\":\"white\",\"startlinecolor\":\"#2a3f5f\"},\"type\":\"carpet\"}],\"table\":[{\"cells\":{\"fill\":{\"color\":\"#EBF0F8\"},\"line\":{\"color\":\"white\"}},\"header\":{\"fill\":{\"color\":\"#C8D4E3\"},\"line\":{\"color\":\"white\"}},\"type\":\"table\"}],\"barpolar\":[{\"marker\":{\"line\":{\"color\":\"#E5ECF6\",\"width\":0.5},\"pattern\":{\"fillmode\":\"overlay\",\"size\":10,\"solidity\":0.2}},\"type\":\"barpolar\"}],\"pie\":[{\"automargin\":true,\"type\":\"pie\"}]},\"layout\":{\"autotypenumbers\":\"strict\",\"colorway\":[\"#636efa\",\"#EF553B\",\"#00cc96\",\"#ab63fa\",\"#FFA15A\",\"#19d3f3\",\"#FF6692\",\"#B6E880\",\"#FF97FF\",\"#FECB52\"],\"font\":{\"color\":\"#2a3f5f\"},\"hovermode\":\"closest\",\"hoverlabel\":{\"align\":\"left\"},\"paper_bgcolor\":\"white\",\"plot_bgcolor\":\"#E5ECF6\",\"polar\":{\"bgcolor\":\"#E5ECF6\",\"angularaxis\":{\"gridcolor\":\"white\",\"linecolor\":\"white\",\"ticks\":\"\"},\"radialaxis\":{\"gridcolor\":\"white\",\"linecolor\":\"white\",\"ticks\":\"\"}},\"ternary\":{\"bgcolor\":\"#E5ECF6\",\"aaxis\":{\"gridcolor\":\"white\",\"linecolor\":\"white\",\"ticks\":\"\"},\"baxis\":{\"gridcolor\":\"white\",\"linecolor\":\"white\",\"ticks\":\"\"},\"caxis\":{\"gridcolor\":\"white\",\"linecolor\":\"white\",\"ticks\":\"\"}},\"coloraxis\":{\"colorbar\":{\"outlinewidth\":0,\"ticks\":\"\"}},\"colorscale\":{\"sequential\":[[0.0,\"#0d0887\"],[0.1111111111111111,\"#46039f\"],[0.2222222222222222,\"#7201a8\"],[0.3333333333333333,\"#9c179e\"],[0.4444444444444444,\"#bd3786\"],[0.5555555555555556,\"#d8576b\"],[0.6666666666666666,\"#ed7953\"],[0.7777777777777778,\"#fb9f3a\"],[0.8888888888888888,\"#fdca26\"],[1.0,\"#f0f921\"]],\"sequentialminus\":[[0.0,\"#0d0887\"],[0.1111111111111111,\"#46039f\"],[0.2222222222222222,\"#7201a8\"],[0.3333333333333333,\"#9c179e\"],[0.4444444444444444,\"#bd3786\"],[0.5555555555555556,\"#d8576b\"],[0.6666666666666666,\"#ed7953\"],[0.7777777777777778,\"#fb9f3a\"],[0.8888888888888888,\"#fdca26\"],[1.0,\"#f0f921\"]],\"diverging\":[[0,\"#8e0152\"],[0.1,\"#c51b7d\"],[0.2,\"#de77ae\"],[0.3,\"#f1b6da\"],[0.4,\"#fde0ef\"],[0.5,\"#f7f7f7\"],[0.6,\"#e6f5d0\"],[0.7,\"#b8e186\"],[0.8,\"#7fbc41\"],[0.9,\"#4d9221\"],[1,\"#276419\"]]},\"xaxis\":{\"gridcolor\":\"white\",\"linecolor\":\"white\",\"ticks\":\"\",\"title\":{\"standoff\":15},\"zerolinecolor\":\"white\",\"automargin\":true,\"zerolinewidth\":2},\"yaxis\":{\"gridcolor\":\"white\",\"linecolor\":\"white\",\"ticks\":\"\",\"title\":{\"standoff\":15},\"zerolinecolor\":\"white\",\"automargin\":true,\"zerolinewidth\":2},\"scene\":{\"xaxis\":{\"backgroundcolor\":\"#E5ECF6\",\"gridcolor\":\"white\",\"linecolor\":\"white\",\"showbackground\":true,\"ticks\":\"\",\"zerolinecolor\":\"white\",\"gridwidth\":2},\"yaxis\":{\"backgroundcolor\":\"#E5ECF6\",\"gridcolor\":\"white\",\"linecolor\":\"white\",\"showbackground\":true,\"ticks\":\"\",\"zerolinecolor\":\"white\",\"gridwidth\":2},\"zaxis\":{\"backgroundcolor\":\"#E5ECF6\",\"gridcolor\":\"white\",\"linecolor\":\"white\",\"showbackground\":true,\"ticks\":\"\",\"zerolinecolor\":\"white\",\"gridwidth\":2}},\"shapedefaults\":{\"line\":{\"color\":\"#2a3f5f\"}},\"annotationdefaults\":{\"arrowcolor\":\"#2a3f5f\",\"arrowhead\":0,\"arrowwidth\":1},\"geo\":{\"bgcolor\":\"white\",\"landcolor\":\"#E5ECF6\",\"subunitcolor\":\"white\",\"showland\":true,\"showlakes\":true,\"lakecolor\":\"white\"},\"title\":{\"x\":0.05},\"mapbox\":{\"style\":\"light\"}}},\"xaxis\":{\"anchor\":\"y\",\"domain\":[0.0,1.0],\"title\":{\"text\":\"t_alt_count\"}},\"yaxis\":{\"anchor\":\"x\",\"domain\":[0.0,1.0],\"title\":{\"text\":\"t_ref_count\"}},\"legend\":{\"tracegroupgap\":0},\"margin\":{\"t\":60},\"height\":400,\"width\":800},                        {\"responsive\": true}                    ).then(function(){\n",
       "                            \n",
       "var gd = document.getElementById('568b8af1-c0be-4765-a67b-5f5001d7a551');\n",
       "var x = new MutationObserver(function (mutations, observer) {{\n",
       "        var display = window.getComputedStyle(gd).display;\n",
       "        if (!display || display === 'none') {{\n",
       "            console.log([gd, 'removed!']);\n",
       "            Plotly.purge(gd);\n",
       "            observer.disconnect();\n",
       "        }}\n",
       "}});\n",
       "\n",
       "// Listen for the removal of the full notebook cells\n",
       "var notebookContainer = gd.closest('#notebook-container');\n",
       "if (notebookContainer) {{\n",
       "    x.observe(notebookContainer, {childList: true});\n",
       "}}\n",
       "\n",
       "// Listen for the clearing of the current output cell\n",
       "var outputEl = gd.closest('.output');\n",
       "if (outputEl) {{\n",
       "    x.observe(outputEl, {childList: true});\n",
       "}}\n",
       "\n",
       "                        })                };                });            </script>        </div>"
      ]
     },
     "metadata": {},
     "output_type": "display_data"
    }
   ],
   "source": [
    "px.scatter(df, x='t_alt_count', y='t_ref_count', width=800, height=400)"
   ]
  },
  {
   "cell_type": "code",
   "execution_count": 39,
   "id": "e224691e-d3c8-4fb7-a8c2-054a471585ef",
   "metadata": {},
   "outputs": [],
   "source": [
    "from scipy.stats import beta"
   ]
  },
  {
   "cell_type": "code",
   "execution_count": null,
   "id": "a058f9da-83e7-4d4a-8b3a-406e70298a66",
   "metadata": {},
   "outputs": [],
   "source": [
    "x = np.linspace(beta.ppf(0.01, a, b),\n",
    "                beta.ppf(0.99, a, b), 100)"
   ]
  },
  {
   "cell_type": "code",
   "execution_count": null,
   "id": "a68ed3a8-da33-409a-83e4-c7282b70fb7b",
   "metadata": {},
   "outputs": [],
   "source": [
    "x, beta.pdf(x, a, b)"
   ]
  },
  {
   "cell_type": "code",
   "execution_count": 49,
   "id": "725a21fc-80d6-4152-9f83-101532e3f8c4",
   "metadata": {},
   "outputs": [],
   "source": [
    "def get_beta_distr(a, b, x=None):\n",
    "    \n",
    "    x = np.linspace(beta.ppf(0.01, a, b),\n",
    "                beta.ppf(0.99, a, b), 100) if x is None else x\n",
    "\n",
    "    return pd.Series(index=x, data=beta.pdf(x, a, b))"
   ]
  },
  {
   "cell_type": "code",
   "execution_count": 53,
   "id": "13a62a4a-edc6-4a9a-bd9d-fe17c8bb869d",
   "metadata": {},
   "outputs": [],
   "source": [
    "step = 0.05\n",
    "x = np.round(np.arange(0, 1 + step, step), 2)"
   ]
  },
  {
   "cell_type": "code",
   "execution_count": 54,
   "id": "2d9ed4fd-cbc0-46f2-a78a-5e41c54850b5",
   "metadata": {},
   "outputs": [],
   "source": [
    "df.loc[:, x] = df.apply(lambda r: get_beta_distr(a=r['t_alt_count'] + 1, b=r['t_ref_count'] + 1, x=x), axis=1)"
   ]
  },
  {
   "cell_type": "code",
   "execution_count": 55,
   "id": "f8e9a776-5f49-470f-834d-4d8cde5b3865",
   "metadata": {},
   "outputs": [
    {
     "data": {
      "text/html": [
       "<div>\n",
       "<style scoped>\n",
       "    .dataframe tbody tr th:only-of-type {\n",
       "        vertical-align: middle;\n",
       "    }\n",
       "\n",
       "    .dataframe tbody tr th {\n",
       "        vertical-align: top;\n",
       "    }\n",
       "\n",
       "    .dataframe thead th {\n",
       "        text-align: right;\n",
       "    }\n",
       "</style>\n",
       "<table border=\"1\" class=\"dataframe\">\n",
       "  <thead>\n",
       "    <tr style=\"text-align: right;\">\n",
       "      <th></th>\n",
       "      <th>Hugo_Symbol</th>\n",
       "      <th>Chromosome</th>\n",
       "      <th>Start_position</th>\n",
       "      <th>Reference_Allele</th>\n",
       "      <th>Tumor_Seq_Allele2</th>\n",
       "      <th>Variant_Type</th>\n",
       "      <th>t_alt_count</th>\n",
       "      <th>t_ref_count</th>\n",
       "      <th>n_alt_count</th>\n",
       "      <th>n_ref_count</th>\n",
       "      <th>...</th>\n",
       "      <th>0.9</th>\n",
       "      <th>0.9500000000000001</th>\n",
       "      <th>1.0</th>\n",
       "      <th>0.15</th>\n",
       "      <th>0.3</th>\n",
       "      <th>0.35</th>\n",
       "      <th>0.6</th>\n",
       "      <th>0.7</th>\n",
       "      <th>0.85</th>\n",
       "      <th>0.95</th>\n",
       "    </tr>\n",
       "  </thead>\n",
       "  <tbody>\n",
       "    <tr>\n",
       "      <th>0</th>\n",
       "      <td>FGD2</td>\n",
       "      <td>6</td>\n",
       "      <td>36993628</td>\n",
       "      <td>A</td>\n",
       "      <td>T</td>\n",
       "      <td>SNP</td>\n",
       "      <td>0.0</td>\n",
       "      <td>100.0</td>\n",
       "      <td>0</td>\n",
       "      <td>100.0</td>\n",
       "      <td>...</td>\n",
       "      <td>1.010000e-98</td>\n",
       "      <td>7.967495e-129</td>\n",
       "      <td>0.0</td>\n",
       "      <td>8.835150e-06</td>\n",
       "      <td>3.266821e-14</td>\n",
       "      <td>1.975409e-17</td>\n",
       "      <td>1.623007e-38</td>\n",
       "      <td>5.205313e-51</td>\n",
       "      <td>4.106268e-81</td>\n",
       "      <td>7.967495e-129</td>\n",
       "    </tr>\n",
       "    <tr>\n",
       "      <th>1</th>\n",
       "      <td>C19orf57</td>\n",
       "      <td>19</td>\n",
       "      <td>14000618</td>\n",
       "      <td>C</td>\n",
       "      <td>G</td>\n",
       "      <td>SNP</td>\n",
       "      <td>37.0</td>\n",
       "      <td>104.0</td>\n",
       "      <td>0</td>\n",
       "      <td>141.0</td>\n",
       "      <td>...</td>\n",
       "      <td>3.855295e-70</td>\n",
       "      <td>1.405202e-100</td>\n",
       "      <td>0.0</td>\n",
       "      <td>2.844655e-02</td>\n",
       "      <td>6.649169e+00</td>\n",
       "      <td>8.965851e-01</td>\n",
       "      <td>4.840834e-14</td>\n",
       "      <td>1.473407e-24</td>\n",
       "      <td>9.573616e-53</td>\n",
       "      <td>1.405202e-100</td>\n",
       "    </tr>\n",
       "    <tr>\n",
       "      <th>2</th>\n",
       "      <td>PCNXL2</td>\n",
       "      <td>1</td>\n",
       "      <td>233394701</td>\n",
       "      <td>A</td>\n",
       "      <td>T</td>\n",
       "      <td>SNP</td>\n",
       "      <td>28.0</td>\n",
       "      <td>50.0</td>\n",
       "      <td>0</td>\n",
       "      <td>78.0</td>\n",
       "      <td>...</td>\n",
       "      <td>5.049081e-29</td>\n",
       "      <td>2.037902e-43</td>\n",
       "      <td>0.0</td>\n",
       "      <td>2.431776e-04</td>\n",
       "      <td>3.969348e+00</td>\n",
       "      <td>7.311309e+00</td>\n",
       "      <td>7.510288e-04</td>\n",
       "      <td>3.185884e-08</td>\n",
       "      <td>6.497031e-21</td>\n",
       "      <td>2.037902e-43</td>\n",
       "    </tr>\n",
       "    <tr>\n",
       "      <th>3</th>\n",
       "      <td>RANBP6</td>\n",
       "      <td>9</td>\n",
       "      <td>6014284</td>\n",
       "      <td>A</td>\n",
       "      <td>G</td>\n",
       "      <td>SNP</td>\n",
       "      <td>43.0</td>\n",
       "      <td>77.0</td>\n",
       "      <td>0</td>\n",
       "      <td>120.0</td>\n",
       "      <td>...</td>\n",
       "      <td>9.943618e-45</td>\n",
       "      <td>6.728556e-67</td>\n",
       "      <td>0.0</td>\n",
       "      <td>1.265604e-06</td>\n",
       "      <td>3.579971e+00</td>\n",
       "      <td>9.002661e+00</td>\n",
       "      <td>6.084706e-06</td>\n",
       "      <td>1.103237e-12</td>\n",
       "      <td>3.084305e-32</td>\n",
       "      <td>6.728556e-67</td>\n",
       "    </tr>\n",
       "    <tr>\n",
       "      <th>4</th>\n",
       "      <td>L3MBTL1</td>\n",
       "      <td>20</td>\n",
       "      <td>42143973</td>\n",
       "      <td>C</td>\n",
       "      <td>G</td>\n",
       "      <td>SNP</td>\n",
       "      <td>48.0</td>\n",
       "      <td>116.0</td>\n",
       "      <td>0</td>\n",
       "      <td>164.0</td>\n",
       "      <td>...</td>\n",
       "      <td>8.193065e-75</td>\n",
       "      <td>1.321477e-108</td>\n",
       "      <td>0.0</td>\n",
       "      <td>2.370182e-04</td>\n",
       "      <td>1.104076e+01</td>\n",
       "      <td>3.334429e+00</td>\n",
       "      <td>1.995377e-13</td>\n",
       "      <td>1.048522e-24</td>\n",
       "      <td>1.407669e-55</td>\n",
       "      <td>1.321477e-108</td>\n",
       "    </tr>\n",
       "    <tr>\n",
       "      <th>...</th>\n",
       "      <td>...</td>\n",
       "      <td>...</td>\n",
       "      <td>...</td>\n",
       "      <td>...</td>\n",
       "      <td>...</td>\n",
       "      <td>...</td>\n",
       "      <td>...</td>\n",
       "      <td>...</td>\n",
       "      <td>...</td>\n",
       "      <td>...</td>\n",
       "      <td>...</td>\n",
       "      <td>...</td>\n",
       "      <td>...</td>\n",
       "      <td>...</td>\n",
       "      <td>...</td>\n",
       "      <td>...</td>\n",
       "      <td>...</td>\n",
       "      <td>...</td>\n",
       "      <td>...</td>\n",
       "      <td>...</td>\n",
       "      <td>...</td>\n",
       "    </tr>\n",
       "    <tr>\n",
       "      <th>81</th>\n",
       "      <td>MBTPS2</td>\n",
       "      <td>23</td>\n",
       "      <td>21875555</td>\n",
       "      <td>G</td>\n",
       "      <td>C</td>\n",
       "      <td>SNP</td>\n",
       "      <td>0.0</td>\n",
       "      <td>151.0</td>\n",
       "      <td>0</td>\n",
       "      <td>151.0</td>\n",
       "      <td>...</td>\n",
       "      <td>1.520000e-149</td>\n",
       "      <td>5.324934e-195</td>\n",
       "      <td>0.0</td>\n",
       "      <td>3.342731e-09</td>\n",
       "      <td>6.189387e-22</td>\n",
       "      <td>8.545952e-27</td>\n",
       "      <td>1.238518e-58</td>\n",
       "      <td>1.687147e-77</td>\n",
       "      <td>5.910493e-123</td>\n",
       "      <td>5.324934e-195</td>\n",
       "    </tr>\n",
       "    <tr>\n",
       "      <th>82</th>\n",
       "      <td>USP43</td>\n",
       "      <td>17</td>\n",
       "      <td>9603498</td>\n",
       "      <td>T</td>\n",
       "      <td>A</td>\n",
       "      <td>SNP</td>\n",
       "      <td>0.0</td>\n",
       "      <td>120.0</td>\n",
       "      <td>0</td>\n",
       "      <td>120.0</td>\n",
       "      <td>...</td>\n",
       "      <td>1.210000e-118</td>\n",
       "      <td>9.103028e-155</td>\n",
       "      <td>0.0</td>\n",
       "      <td>4.102574e-07</td>\n",
       "      <td>3.122843e-17</td>\n",
       "      <td>4.289317e-21</td>\n",
       "      <td>2.137885e-46</td>\n",
       "      <td>2.174382e-61</td>\n",
       "      <td>1.635824e-97</td>\n",
       "      <td>9.103028e-155</td>\n",
       "    </tr>\n",
       "    <tr>\n",
       "      <th>83</th>\n",
       "      <td>ARHGAP21</td>\n",
       "      <td>10</td>\n",
       "      <td>24923955</td>\n",
       "      <td>C</td>\n",
       "      <td>T</td>\n",
       "      <td>SNP</td>\n",
       "      <td>0.0</td>\n",
       "      <td>120.0</td>\n",
       "      <td>0</td>\n",
       "      <td>120.0</td>\n",
       "      <td>...</td>\n",
       "      <td>1.210000e-118</td>\n",
       "      <td>9.103028e-155</td>\n",
       "      <td>0.0</td>\n",
       "      <td>4.102574e-07</td>\n",
       "      <td>3.122843e-17</td>\n",
       "      <td>4.289317e-21</td>\n",
       "      <td>2.137885e-46</td>\n",
       "      <td>2.174382e-61</td>\n",
       "      <td>1.635824e-97</td>\n",
       "      <td>9.103028e-155</td>\n",
       "    </tr>\n",
       "    <tr>\n",
       "      <th>84</th>\n",
       "      <td>TOP3A</td>\n",
       "      <td>17</td>\n",
       "      <td>18218028</td>\n",
       "      <td>G</td>\n",
       "      <td>C</td>\n",
       "      <td>SNP</td>\n",
       "      <td>7.0</td>\n",
       "      <td>113.0</td>\n",
       "      <td>0</td>\n",
       "      <td>120.0</td>\n",
       "      <td>...</td>\n",
       "      <td>3.442779e-101</td>\n",
       "      <td>4.840468e-135</td>\n",
       "      <td>0.0</td>\n",
       "      <td>1.300736e-01</td>\n",
       "      <td>4.933316e-09</td>\n",
       "      <td>3.348862e-12</td>\n",
       "      <td>2.172948e-34</td>\n",
       "      <td>4.870793e-48</td>\n",
       "      <td>1.825813e-81</td>\n",
       "      <td>4.840468e-135</td>\n",
       "    </tr>\n",
       "    <tr>\n",
       "      <th>85</th>\n",
       "      <td>TP53</td>\n",
       "      <td>17</td>\n",
       "      <td>7578190</td>\n",
       "      <td>T</td>\n",
       "      <td>C</td>\n",
       "      <td>SNP</td>\n",
       "      <td>0.0</td>\n",
       "      <td>120.0</td>\n",
       "      <td>0</td>\n",
       "      <td>120.0</td>\n",
       "      <td>...</td>\n",
       "      <td>1.210000e-118</td>\n",
       "      <td>9.103028e-155</td>\n",
       "      <td>0.0</td>\n",
       "      <td>4.102574e-07</td>\n",
       "      <td>3.122843e-17</td>\n",
       "      <td>4.289317e-21</td>\n",
       "      <td>2.137885e-46</td>\n",
       "      <td>2.174382e-61</td>\n",
       "      <td>1.635824e-97</td>\n",
       "      <td>9.103028e-155</td>\n",
       "    </tr>\n",
       "  </tbody>\n",
       "</table>\n",
       "<p>86 rows × 68 columns</p>\n",
       "</div>"
      ],
      "text/plain": [
       "   Hugo_Symbol  Chromosome  Start_position Reference_Allele Tumor_Seq_Allele2  \\\n",
       "0         FGD2           6        36993628                A                 T   \n",
       "1     C19orf57          19        14000618                C                 G   \n",
       "2       PCNXL2           1       233394701                A                 T   \n",
       "3       RANBP6           9         6014284                A                 G   \n",
       "4      L3MBTL1          20        42143973                C                 G   \n",
       "..         ...         ...             ...              ...               ...   \n",
       "81      MBTPS2          23        21875555                G                 C   \n",
       "82       USP43          17         9603498                T                 A   \n",
       "83    ARHGAP21          10        24923955                C                 T   \n",
       "84       TOP3A          17        18218028                G                 C   \n",
       "85        TP53          17         7578190                T                 C   \n",
       "\n",
       "   Variant_Type  t_alt_count  t_ref_count  n_alt_count  n_ref_count  ...  \\\n",
       "0           SNP          0.0        100.0            0        100.0  ...   \n",
       "1           SNP         37.0        104.0            0        141.0  ...   \n",
       "2           SNP         28.0         50.0            0         78.0  ...   \n",
       "3           SNP         43.0         77.0            0        120.0  ...   \n",
       "4           SNP         48.0        116.0            0        164.0  ...   \n",
       "..          ...          ...          ...          ...          ...  ...   \n",
       "81          SNP          0.0        151.0            0        151.0  ...   \n",
       "82          SNP          0.0        120.0            0        120.0  ...   \n",
       "83          SNP          0.0        120.0            0        120.0  ...   \n",
       "84          SNP          7.0        113.0            0        120.0  ...   \n",
       "85          SNP          0.0        120.0            0        120.0  ...   \n",
       "\n",
       "              0.9  0.9500000000000001  1.0          0.15           0.3  \\\n",
       "0    1.010000e-98       7.967495e-129  0.0  8.835150e-06  3.266821e-14   \n",
       "1    3.855295e-70       1.405202e-100  0.0  2.844655e-02  6.649169e+00   \n",
       "2    5.049081e-29        2.037902e-43  0.0  2.431776e-04  3.969348e+00   \n",
       "3    9.943618e-45        6.728556e-67  0.0  1.265604e-06  3.579971e+00   \n",
       "4    8.193065e-75       1.321477e-108  0.0  2.370182e-04  1.104076e+01   \n",
       "..            ...                 ...  ...           ...           ...   \n",
       "81  1.520000e-149       5.324934e-195  0.0  3.342731e-09  6.189387e-22   \n",
       "82  1.210000e-118       9.103028e-155  0.0  4.102574e-07  3.122843e-17   \n",
       "83  1.210000e-118       9.103028e-155  0.0  4.102574e-07  3.122843e-17   \n",
       "84  3.442779e-101       4.840468e-135  0.0  1.300736e-01  4.933316e-09   \n",
       "85  1.210000e-118       9.103028e-155  0.0  4.102574e-07  3.122843e-17   \n",
       "\n",
       "            0.35           0.6           0.7           0.85           0.95  \n",
       "0   1.975409e-17  1.623007e-38  5.205313e-51   4.106268e-81  7.967495e-129  \n",
       "1   8.965851e-01  4.840834e-14  1.473407e-24   9.573616e-53  1.405202e-100  \n",
       "2   7.311309e+00  7.510288e-04  3.185884e-08   6.497031e-21   2.037902e-43  \n",
       "3   9.002661e+00  6.084706e-06  1.103237e-12   3.084305e-32   6.728556e-67  \n",
       "4   3.334429e+00  1.995377e-13  1.048522e-24   1.407669e-55  1.321477e-108  \n",
       "..           ...           ...           ...            ...            ...  \n",
       "81  8.545952e-27  1.238518e-58  1.687147e-77  5.910493e-123  5.324934e-195  \n",
       "82  4.289317e-21  2.137885e-46  2.174382e-61   1.635824e-97  9.103028e-155  \n",
       "83  4.289317e-21  2.137885e-46  2.174382e-61   1.635824e-97  9.103028e-155  \n",
       "84  3.348862e-12  2.172948e-34  4.870793e-48   1.825813e-81  4.840468e-135  \n",
       "85  4.289317e-21  2.137885e-46  2.174382e-61   1.635824e-97  9.103028e-155  \n",
       "\n",
       "[86 rows x 68 columns]"
      ]
     },
     "execution_count": 55,
     "metadata": {},
     "output_type": "execute_result"
    }
   ],
   "source": [
    "df"
   ]
  },
  {
   "cell_type": "code",
   "execution_count": null,
   "id": "ca9d7249-445a-4f6f-ba74-875820ed195a",
   "metadata": {},
   "outputs": [],
   "source": [
    "def plot_marginal_betas(df, a_col, b_col)\n"
   ]
  },
  {
   "cell_type": "code",
   "execution_count": 33,
   "id": "7dba7c29-c247-404e-906d-13a9d3b96bb7",
   "metadata": {},
   "outputs": [
    {
     "data": {
      "text/html": [
       "<div>\n",
       "<style scoped>\n",
       "    .dataframe tbody tr th:only-of-type {\n",
       "        vertical-align: middle;\n",
       "    }\n",
       "\n",
       "    .dataframe tbody tr th {\n",
       "        vertical-align: top;\n",
       "    }\n",
       "\n",
       "    .dataframe thead th {\n",
       "        text-align: right;\n",
       "    }\n",
       "</style>\n",
       "<table border=\"1\" class=\"dataframe\">\n",
       "  <thead>\n",
       "    <tr style=\"text-align: right;\">\n",
       "      <th></th>\n",
       "      <th>Hugo_Symbol</th>\n",
       "      <th>Chromosome</th>\n",
       "      <th>Start_position</th>\n",
       "      <th>Reference_Allele</th>\n",
       "      <th>Tumor_Seq_Allele2</th>\n",
       "      <th>Variant_Type</th>\n",
       "      <th>t_alt_count</th>\n",
       "      <th>t_ref_count</th>\n",
       "      <th>n_alt_count</th>\n",
       "      <th>n_ref_count</th>\n",
       "      <th>...</th>\n",
       "      <th>CDNA Position</th>\n",
       "      <th>CDS Position</th>\n",
       "      <th>AA Position</th>\n",
       "      <th>AA Change</th>\n",
       "      <th>Detail</th>\n",
       "      <th>Splice Distance</th>\n",
       "      <th>Proteins</th>\n",
       "      <th>Variant_Classification</th>\n",
       "      <th>Protein_Change</th>\n",
       "      <th>UniProt_AApos</th>\n",
       "    </tr>\n",
       "  </thead>\n",
       "  <tbody>\n",
       "    <tr>\n",
       "      <th>0</th>\n",
       "      <td>FGD2</td>\n",
       "      <td>6</td>\n",
       "      <td>36993628</td>\n",
       "      <td>A</td>\n",
       "      <td>T</td>\n",
       "      <td>SNP</td>\n",
       "      <td>0.0</td>\n",
       "      <td>100.0</td>\n",
       "      <td>0</td>\n",
       "      <td>100.0</td>\n",
       "      <td>...</td>\n",
       "      <td>1690</td>\n",
       "      <td>1519</td>\n",
       "      <td>507</td>\n",
       "      <td>N&gt;Y</td>\n",
       "      <td>nonsyn</td>\n",
       "      <td>None</td>\n",
       "      <td>MKGASEEKLASVSNLVTVFENSRTPEAAPRGQRLEDVHHRPECRPP...</td>\n",
       "      <td>nonsyn</td>\n",
       "      <td>p.N507Y</td>\n",
       "      <td>507.0</td>\n",
       "    </tr>\n",
       "    <tr>\n",
       "      <th>1</th>\n",
       "      <td>C19orf57</td>\n",
       "      <td>19</td>\n",
       "      <td>14000618</td>\n",
       "      <td>C</td>\n",
       "      <td>G</td>\n",
       "      <td>SNP</td>\n",
       "      <td>37.0</td>\n",
       "      <td>104.0</td>\n",
       "      <td>0</td>\n",
       "      <td>141.0</td>\n",
       "      <td>...</td>\n",
       "      <td>None</td>\n",
       "      <td>None</td>\n",
       "      <td>None</td>\n",
       "      <td>None</td>\n",
       "      <td>NaN</td>\n",
       "      <td>2981</td>\n",
       "      <td>None</td>\n",
       "      <td>intronic</td>\n",
       "      <td>NaN</td>\n",
       "      <td>NaN</td>\n",
       "    </tr>\n",
       "    <tr>\n",
       "      <th>2</th>\n",
       "      <td>PCNXL2</td>\n",
       "      <td>1</td>\n",
       "      <td>233394701</td>\n",
       "      <td>A</td>\n",
       "      <td>T</td>\n",
       "      <td>SNP</td>\n",
       "      <td>28.0</td>\n",
       "      <td>50.0</td>\n",
       "      <td>0</td>\n",
       "      <td>78.0</td>\n",
       "      <td>...</td>\n",
       "      <td>1142</td>\n",
       "      <td>907</td>\n",
       "      <td>303</td>\n",
       "      <td>S&gt;T</td>\n",
       "      <td>nonsyn</td>\n",
       "      <td>None</td>\n",
       "      <td>MVSQVLQLLRQGVWAALTGGWYHDPEQSKFTNSCHLYLWLFLLLLP...</td>\n",
       "      <td>nonsyn</td>\n",
       "      <td>p.S303T</td>\n",
       "      <td>303.0</td>\n",
       "    </tr>\n",
       "    <tr>\n",
       "      <th>3</th>\n",
       "      <td>RANBP6</td>\n",
       "      <td>9</td>\n",
       "      <td>6014284</td>\n",
       "      <td>A</td>\n",
       "      <td>G</td>\n",
       "      <td>SNP</td>\n",
       "      <td>43.0</td>\n",
       "      <td>77.0</td>\n",
       "      <td>0</td>\n",
       "      <td>120.0</td>\n",
       "      <td>...</td>\n",
       "      <td>242</td>\n",
       "      <td>None</td>\n",
       "      <td>None</td>\n",
       "      <td>None</td>\n",
       "      <td>NaN</td>\n",
       "      <td>None</td>\n",
       "      <td>None</td>\n",
       "      <td>3utr</td>\n",
       "      <td>NaN</td>\n",
       "      <td>NaN</td>\n",
       "    </tr>\n",
       "    <tr>\n",
       "      <th>4</th>\n",
       "      <td>L3MBTL1</td>\n",
       "      <td>20</td>\n",
       "      <td>42143973</td>\n",
       "      <td>C</td>\n",
       "      <td>G</td>\n",
       "      <td>SNP</td>\n",
       "      <td>48.0</td>\n",
       "      <td>116.0</td>\n",
       "      <td>0</td>\n",
       "      <td>164.0</td>\n",
       "      <td>...</td>\n",
       "      <td>534</td>\n",
       "      <td>425</td>\n",
       "      <td>142</td>\n",
       "      <td>S&gt;C</td>\n",
       "      <td>nonsyn</td>\n",
       "      <td>None</td>\n",
       "      <td>MRRREGHGTDSEMGQGPVRESQSSDPPALQFRISEYKPLNMAGVEQ...</td>\n",
       "      <td>nonsyn</td>\n",
       "      <td>p.S142C</td>\n",
       "      <td>142.0</td>\n",
       "    </tr>\n",
       "    <tr>\n",
       "      <th>...</th>\n",
       "      <td>...</td>\n",
       "      <td>...</td>\n",
       "      <td>...</td>\n",
       "      <td>...</td>\n",
       "      <td>...</td>\n",
       "      <td>...</td>\n",
       "      <td>...</td>\n",
       "      <td>...</td>\n",
       "      <td>...</td>\n",
       "      <td>...</td>\n",
       "      <td>...</td>\n",
       "      <td>...</td>\n",
       "      <td>...</td>\n",
       "      <td>...</td>\n",
       "      <td>...</td>\n",
       "      <td>...</td>\n",
       "      <td>...</td>\n",
       "      <td>...</td>\n",
       "      <td>...</td>\n",
       "      <td>...</td>\n",
       "      <td>...</td>\n",
       "    </tr>\n",
       "    <tr>\n",
       "      <th>81</th>\n",
       "      <td>MBTPS2</td>\n",
       "      <td>23</td>\n",
       "      <td>21875555</td>\n",
       "      <td>G</td>\n",
       "      <td>C</td>\n",
       "      <td>SNP</td>\n",
       "      <td>0.0</td>\n",
       "      <td>151.0</td>\n",
       "      <td>0</td>\n",
       "      <td>151.0</td>\n",
       "      <td>...</td>\n",
       "      <td>NaN</td>\n",
       "      <td>NaN</td>\n",
       "      <td>NaN</td>\n",
       "      <td>NaN</td>\n",
       "      <td>NaN</td>\n",
       "      <td>NaN</td>\n",
       "      <td>NaN</td>\n",
       "      <td>NaN</td>\n",
       "      <td>NaN</td>\n",
       "      <td>NaN</td>\n",
       "    </tr>\n",
       "    <tr>\n",
       "      <th>82</th>\n",
       "      <td>USP43</td>\n",
       "      <td>17</td>\n",
       "      <td>9603498</td>\n",
       "      <td>T</td>\n",
       "      <td>A</td>\n",
       "      <td>SNP</td>\n",
       "      <td>0.0</td>\n",
       "      <td>120.0</td>\n",
       "      <td>0</td>\n",
       "      <td>120.0</td>\n",
       "      <td>...</td>\n",
       "      <td>1563</td>\n",
       "      <td>1467</td>\n",
       "      <td>489</td>\n",
       "      <td>H&gt;Q</td>\n",
       "      <td>nonsyn</td>\n",
       "      <td>None</td>\n",
       "      <td>MDLGPGDAAGGGPLAPRPRRRRSLRRLFSRFLLALGSRSRPGDSPP...</td>\n",
       "      <td>nonsyn</td>\n",
       "      <td>p.H489Q</td>\n",
       "      <td>489.0</td>\n",
       "    </tr>\n",
       "    <tr>\n",
       "      <th>83</th>\n",
       "      <td>ARHGAP21</td>\n",
       "      <td>10</td>\n",
       "      <td>24923955</td>\n",
       "      <td>C</td>\n",
       "      <td>T</td>\n",
       "      <td>SNP</td>\n",
       "      <td>0.0</td>\n",
       "      <td>120.0</td>\n",
       "      <td>0</td>\n",
       "      <td>120.0</td>\n",
       "      <td>...</td>\n",
       "      <td>833</td>\n",
       "      <td>346</td>\n",
       "      <td>116</td>\n",
       "      <td>A&gt;T</td>\n",
       "      <td>nonsyn</td>\n",
       "      <td>None</td>\n",
       "      <td>MMATRRTGLSEGDGDKLKACEVSKNKDGKEQSETVSLSEDETFSWP...</td>\n",
       "      <td>nonsyn</td>\n",
       "      <td>p.A116T</td>\n",
       "      <td>116.0</td>\n",
       "    </tr>\n",
       "    <tr>\n",
       "      <th>84</th>\n",
       "      <td>TOP3A</td>\n",
       "      <td>17</td>\n",
       "      <td>18218028</td>\n",
       "      <td>G</td>\n",
       "      <td>C</td>\n",
       "      <td>SNP</td>\n",
       "      <td>7.0</td>\n",
       "      <td>113.0</td>\n",
       "      <td>0</td>\n",
       "      <td>120.0</td>\n",
       "      <td>...</td>\n",
       "      <td>None</td>\n",
       "      <td>None</td>\n",
       "      <td>None</td>\n",
       "      <td>None</td>\n",
       "      <td>NaN</td>\n",
       "      <td>None</td>\n",
       "      <td>None</td>\n",
       "      <td>5upstream</td>\n",
       "      <td>NaN</td>\n",
       "      <td>NaN</td>\n",
       "    </tr>\n",
       "    <tr>\n",
       "      <th>85</th>\n",
       "      <td>TP53</td>\n",
       "      <td>17</td>\n",
       "      <td>7578190</td>\n",
       "      <td>T</td>\n",
       "      <td>C</td>\n",
       "      <td>SNP</td>\n",
       "      <td>0.0</td>\n",
       "      <td>120.0</td>\n",
       "      <td>0</td>\n",
       "      <td>120.0</td>\n",
       "      <td>...</td>\n",
       "      <td>861</td>\n",
       "      <td>659</td>\n",
       "      <td>220</td>\n",
       "      <td>Y&gt;C</td>\n",
       "      <td>nonsyn</td>\n",
       "      <td>None</td>\n",
       "      <td>MEEPQSDPSVEPPLSQETFSDLWKLLPENNVLSPLPSQAMDDLMLS...</td>\n",
       "      <td>nonsyn</td>\n",
       "      <td>p.Y220C</td>\n",
       "      <td>220.0</td>\n",
       "    </tr>\n",
       "  </tbody>\n",
       "</table>\n",
       "<p>86 rows × 40 columns</p>\n",
       "</div>"
      ],
      "text/plain": [
       "   Hugo_Symbol  Chromosome  Start_position Reference_Allele Tumor_Seq_Allele2  \\\n",
       "0         FGD2           6        36993628                A                 T   \n",
       "1     C19orf57          19        14000618                C                 G   \n",
       "2       PCNXL2           1       233394701                A                 T   \n",
       "3       RANBP6           9         6014284                A                 G   \n",
       "4      L3MBTL1          20        42143973                C                 G   \n",
       "..         ...         ...             ...              ...               ...   \n",
       "81      MBTPS2          23        21875555                G                 C   \n",
       "82       USP43          17         9603498                T                 A   \n",
       "83    ARHGAP21          10        24923955                C                 T   \n",
       "84       TOP3A          17        18218028                G                 C   \n",
       "85        TP53          17         7578190                T                 C   \n",
       "\n",
       "   Variant_Type  t_alt_count  t_ref_count  n_alt_count  n_ref_count  ...  \\\n",
       "0           SNP          0.0        100.0            0        100.0  ...   \n",
       "1           SNP         37.0        104.0            0        141.0  ...   \n",
       "2           SNP         28.0         50.0            0         78.0  ...   \n",
       "3           SNP         43.0         77.0            0        120.0  ...   \n",
       "4           SNP         48.0        116.0            0        164.0  ...   \n",
       "..          ...          ...          ...          ...          ...  ...   \n",
       "81          SNP          0.0        151.0            0        151.0  ...   \n",
       "82          SNP          0.0        120.0            0        120.0  ...   \n",
       "83          SNP          0.0        120.0            0        120.0  ...   \n",
       "84          SNP          7.0        113.0            0        120.0  ...   \n",
       "85          SNP          0.0        120.0            0        120.0  ...   \n",
       "\n",
       "    CDNA Position  CDS Position  AA Position AA Change  Detail  \\\n",
       "0            1690          1519          507       N>Y  nonsyn   \n",
       "1            None          None         None      None     NaN   \n",
       "2            1142           907          303       S>T  nonsyn   \n",
       "3             242          None         None      None     NaN   \n",
       "4             534           425          142       S>C  nonsyn   \n",
       "..            ...           ...          ...       ...     ...   \n",
       "81            NaN           NaN          NaN       NaN     NaN   \n",
       "82           1563          1467          489       H>Q  nonsyn   \n",
       "83            833           346          116       A>T  nonsyn   \n",
       "84           None          None         None      None     NaN   \n",
       "85            861           659          220       Y>C  nonsyn   \n",
       "\n",
       "    Splice Distance                                           Proteins  \\\n",
       "0              None  MKGASEEKLASVSNLVTVFENSRTPEAAPRGQRLEDVHHRPECRPP...   \n",
       "1              2981                                               None   \n",
       "2              None  MVSQVLQLLRQGVWAALTGGWYHDPEQSKFTNSCHLYLWLFLLLLP...   \n",
       "3              None                                               None   \n",
       "4              None  MRRREGHGTDSEMGQGPVRESQSSDPPALQFRISEYKPLNMAGVEQ...   \n",
       "..              ...                                                ...   \n",
       "81              NaN                                                NaN   \n",
       "82             None  MDLGPGDAAGGGPLAPRPRRRRSLRRLFSRFLLALGSRSRPGDSPP...   \n",
       "83             None  MMATRRTGLSEGDGDKLKACEVSKNKDGKEQSETVSLSEDETFSWP...   \n",
       "84             None                                               None   \n",
       "85             None  MEEPQSDPSVEPPLSQETFSDLWKLLPENNVLSPLPSQAMDDLMLS...   \n",
       "\n",
       "   Variant_Classification Protein_Change  UniProt_AApos  \n",
       "0                  nonsyn        p.N507Y          507.0  \n",
       "1                intronic            NaN            NaN  \n",
       "2                  nonsyn        p.S303T          303.0  \n",
       "3                    3utr            NaN            NaN  \n",
       "4                  nonsyn        p.S142C          142.0  \n",
       "..                    ...            ...            ...  \n",
       "81                    NaN            NaN            NaN  \n",
       "82                 nonsyn        p.H489Q          489.0  \n",
       "83                 nonsyn        p.A116T          116.0  \n",
       "84              5upstream            NaN            NaN  \n",
       "85                 nonsyn        p.Y220C          220.0  \n",
       "\n",
       "[86 rows x 40 columns]"
      ]
     },
     "execution_count": 33,
     "metadata": {},
     "output_type": "execute_result"
    }
   ],
   "source": [
    "df"
   ]
  },
  {
   "cell_type": "markdown",
   "id": "62d44268-7544-49c4-9213-b8f65ca32ae5",
   "metadata": {},
   "source": [
    "# Purity Review from Terra"
   ]
  },
  {
   "cell_type": "code",
   "execution_count": 7,
   "id": "c80af344-a930-424c-a389-eabd491c33b6",
   "metadata": {},
   "outputs": [],
   "source": [
    "wm = dalmatian.WorkspaceManager('broad-getzlab-ibm-taml-t/TCGA_LUAD_Tonly2_Validation')\n",
    "pairs_df = wm.get_pairs()\n",
    "luad_pairs_df = pairs_df[pairs_df['absolute_rdata_WGS'].notna()].head(5).copy()"
   ]
  },
  {
   "cell_type": "code",
   "execution_count": 8,
   "id": "87256c4e-aaee-4b11-929b-823de6f37313",
   "metadata": {},
   "outputs": [
    {
     "data": {
      "text/plain": [
       "['mutation_validator_validated_maf_make_forcecall_intervals',\n",
       " 'mutation_validator_validated_maf_WGS',\n",
       " 'mutation_validator_validated_maf_make_forcecall_intervals_forcecalled_snps_and_indels_maf']"
      ]
     },
     "execution_count": 8,
     "metadata": {},
     "output_type": "execute_result"
    }
   ],
   "source": [
    "[c for c in pairs_df.columns.tolist() if 'mutation_validator_validated_maf' in c]"
   ]
  },
  {
   "cell_type": "code",
   "execution_count": 9,
   "id": "b4f73bb7-86e0-4188-b2e8-90c6b5e7c794",
   "metadata": {},
   "outputs": [],
   "source": [
    "import os\n",
    "os.environ[\"GCLOUD_PROJECT\"] = \"broad-getzlab-ibm-taml\""
   ]
  },
  {
   "cell_type": "code",
   "execution_count": 10,
   "id": "1f3bffef-520d-4e4a-8593-b928fe1a51b1",
   "metadata": {},
   "outputs": [],
   "source": [
    "# download rdata locally\n",
    "rdata_dir = f'/Users/cchu/Desktop/Methods/PurityReviewers/example_notebooks/data/luad_local_rdata_2023-09-11'\n",
    "downloaded_rdata_s = download_rdata(luad_pairs_df['absolute_rdata_WGS'], rdata_dir=rdata_dir)\n",
    "downloaded_rdata_s.name = 'local_absolute_rdata'\n",
    "luad_pairs_df = pd.concat([luad_pairs_df, downloaded_rdata_s], axis=1)"
   ]
  },
  {
   "cell_type": "code",
   "execution_count": 12,
   "id": "a9e99c08-c98d-42ff-a6f5-2d62cf51a132",
   "metadata": {},
   "outputs": [],
   "source": [
    "matched_reviewer = MatchedPurityReviewer()\n",
    "matched_reviewer.set_review_data(\n",
    "    data_pkl_fn = 'luad.review_data.pkl', \n",
    "    description='Matched purity reviewer', \n",
    "    df=luad_pairs_df, # optional if directory above already exists. \n",
    "    index=luad_pairs_df.index,\n",
    ")\n",
    "matched_reviewer.set_review_app(\n",
    "    sample_info_cols=['participant', 'alleliccapseg_plot_WGS'],\n",
    "    acs_col='alleliccapseg_tsv_WGS', \n",
    "    maf_col='mutation_validator_validated_maf_WGS',\n",
    "    rdata_fn_col='local_absolute_rdata',\n",
    "    mut_fig_hover_data=['Hugo_Symbol', 'Chromosome', 'Start_position'],\n",
    "    csize=CSIZE_DEFAULT,\n",
    "    custom_parse_absolute_soln=parse_absolute_soln # <-- update with my_custom_parse_absolute_soln()\n",
    ")\n",
    "\n",
    "matched_reviewer.set_default_review_data_annotations_configuration()\n",
    "matched_reviewer.set_default_autofill()"
   ]
  },
  {
   "cell_type": "code",
   "execution_count": 14,
   "id": "0460d48d-bdf9-4bce-a325-9644729c6a46",
   "metadata": {},
   "outputs": [
    {
     "name": "stdout",
     "output_type": "stream",
     "text": [
      "Setting auto_export_path to luad.review_data.auto_export\n",
      "Making directory luad.review_data.auto_export for auto exporting.\n",
      "Using luad.review_data.auto_export for auto exporting.\n",
      "Dash app running on http://0.0.0.0:8099/\n"
     ]
    },
    {
     "name": "stderr",
     "output_type": "stream",
     "text": [
      "/Users/cchu/opt/anaconda3/envs/purity_reviewer_annomate_env/lib/python3.9/site-packages/AnnoMate/ReviewDataApp.py:685: UserWarning: DataFrame columns are not unique, some columns will be omitted.\n",
      "  review_data_table_data = new_review_data_table_df.reset_index().to_dict('records')\n"
     ]
    },
    {
     "data": {
      "application/javascript": [
       "window.open('http://0.0.0.0:8099/')"
      ],
      "text/plain": [
       "<IPython.core.display.Javascript object>"
      ]
     },
     "metadata": {},
     "output_type": "display_data"
    },
    {
     "name": "stderr",
     "output_type": "stream",
     "text": [
      "/Users/cchu/opt/anaconda3/envs/purity_reviewer_annomate_env/lib/python3.9/site-packages/AnnoMate/AppComponents/utils.py:102: DtypeWarning:\n",
      "\n",
      "Columns (38,56,72,73,74,84,88,91,92,95,100,102,104,105,106,107,109,110,111,113,114,121,122,147) have mixed types. Specify dtype option on import or set low_memory=False.\n",
      "\n"
     ]
    },
    {
     "name": "stdout",
     "output_type": "stream",
     "text": [
      "\u001b[1;31m---------------------------------------------------------------------------\u001b[0m\n",
      "\u001b[1;31mKeyError\u001b[0m                                  Traceback (most recent call last)\n",
      "File \u001b[1;32m~/opt/anaconda3/envs/purity_reviewer_annomate_env/lib/python3.9/site-packages/AnnoMate/ReviewDataApp.py:325\u001b[0m, in \u001b[0;36mReviewDataApp.run.<locals>.update_components\u001b[1;34m(\n",
      "    output_dict={'more_component_outputs': {'Absolute Solutions': [<dash._callback.NoUpdate object>, <dash._callback.NoUpdate object>, <dash._callback.NoUpdate object>, <dash._callback.NoUpdate object>, <dash._callback.NoUpdate object>, <dash._callback.NoUpdate object>, <dash._callback.NoUpdate object>], 'Annotated Data Information table': [<dash._callback.NoUpdate object>], 'Manual Purity': [<dash._callback.NoUpdate object>, <dash._callback.NoUpdate object>, <dash._callback.NoUpdate object>, <dash._callback.NoUpdate object>, <dash._callback.NoUpdate object>, <dash._callback.NoUpdate object>]}, 'review_data_page_current': 0, 'review_data_selected_value': Int64Index([0], dtype='int64')},\n",
      "    subject_index_value='01f94091-eb70-40d3-9d56-70c4f847cb4c_6c1516a2-6916-4d9b-949d-4f5abb97b94c',\n",
      "    more_component_inputs_as_states={'Absolute Solutions': [[0]], 'Annotated Data In...[[0.5, 1], None, None, None, None, 'Use slider']}\n",
      ")\u001b[0m\n",
      "\u001b[0;32m    323\u001b[0m \u001b[38;5;28;01mfor\u001b[39;00m c_name, component \u001b[38;5;129;01min\u001b[39;00m \u001b[38;5;28mself\u001b[39m\u001b[38;5;241m.\u001b[39mmore_components\u001b[38;5;241m.\u001b[39mitems():\n",
      "\u001b[0;32m    324\u001b[0m     \u001b[38;5;28;01mif\u001b[39;00m component\u001b[38;5;241m.\u001b[39mnew_data_callback \u001b[38;5;129;01mis\u001b[39;00m \u001b[38;5;129;01mnot\u001b[39;00m \u001b[38;5;28;01mNone\u001b[39;00m:\n",
      "\u001b[1;32m--> 325\u001b[0m         component_output \u001b[38;5;241m=\u001b[39m \u001b[43mcomponent\u001b[49m\u001b[38;5;241;43m.\u001b[39;49m\u001b[43mnew_data_callback\u001b[49m\u001b[43m(\u001b[49m\n",
      "        component \u001b[1;34m= <AnnoMate.ReviewDataApp.AppComponent object at 0x7f9faadd6b80>\u001b[0m\u001b[1;34m\n",
      "        \u001b[0mcomponent.new_data_callback \u001b[1;34m= <function ReviewDataApp.add_component.<locals>.<lambda> at 0x7f9fad885d30>\u001b[0m\u001b[1;34m\n",
      "        \u001b[0mreview_data.data \u001b[1;34m= <AnnoMate.DataTypes.GenericData.GenericData object at 0x7f9faadef0a0>\u001b[0m\u001b[1;34m\n",
      "        \u001b[0mreview_data \u001b[1;34m= <AnnoMate.ReviewDataInterface.ReviewDataInterface object at 0x7f9faadef6a0>\u001b[0m\u001b[1;34m\n",
      "        \u001b[0msubject_index_value \u001b[1;34m= '01f94091-eb70-40d3-9d56-70c4f847cb4c_6c1516a2-6916-4d9b-949d-4f5abb97b94c'\u001b[0m\u001b[1;34m\n",
      "        \u001b[0mcomponent.name \u001b[1;34m= 'Absolute Solutions'\u001b[0m\u001b[1;34m\n",
      "        \u001b[0mmore_component_inputs_as_states \u001b[1;34m= {'Absolute Solutions': [[0]], 'Annotated Data Information table': [], 'Manual Purity': [[0.5, 1], None, None, None, None, 'Use slider']}\u001b[0m\n",
      "\u001b[0;32m    326\u001b[0m \u001b[43m            \u001b[49m\u001b[43mreview_data\u001b[49m\u001b[38;5;241;43m.\u001b[39;49m\u001b[43mdata\u001b[49m\u001b[43m,\u001b[49m\n",
      "\u001b[0;32m    327\u001b[0m \u001b[43m            \u001b[49m\u001b[43msubject_index_value\u001b[49m\u001b[43m,\u001b[49m\n",
      "\u001b[0;32m    328\u001b[0m \u001b[43m            \u001b[49m\u001b[38;5;241;43m*\u001b[39;49m\u001b[43mmore_component_inputs_as_states\u001b[49m\u001b[43m[\u001b[49m\u001b[43mcomponent\u001b[49m\u001b[38;5;241;43m.\u001b[39;49m\u001b[43mname\u001b[49m\u001b[43m]\u001b[49m\n",
      "\u001b[0;32m    329\u001b[0m \u001b[43m        \u001b[49m\u001b[43m)\u001b[49m\n",
      "\u001b[0;32m    330\u001b[0m         validate_callback_outputs(component_output, component, which_callback\u001b[38;5;241m=\u001b[39m\u001b[38;5;124m'\u001b[39m\u001b[38;5;124mnew_data_callback\u001b[39m\u001b[38;5;124m'\u001b[39m)\n",
      "\u001b[0;32m    331\u001b[0m         output_dict[\u001b[38;5;124m'\u001b[39m\u001b[38;5;124mmore_component_outputs\u001b[39m\u001b[38;5;124m'\u001b[39m][component\u001b[38;5;241m.\u001b[39mname] \u001b[38;5;241m=\u001b[39m component_output\n",
      "\n",
      "File \u001b[1;32m~/opt/anaconda3/envs/purity_reviewer_annomate_env/lib/python3.9/site-packages/AnnoMate/ReviewDataApp.py:953\u001b[0m, in \u001b[0;36mReviewDataApp.add_component.<locals>.<lambda>\u001b[1;34m(\n",
      "    *args=(<AnnoMate.DataTypes.GenericData.GenericData object>, '01f94091-eb70-40d3-9d56-70c4f847cb4c_6c1516a2-6916-4d9b-949d-4f5abb97b94c', [0])\n",
      ")\u001b[0m\n",
      "\u001b[0;32m    951\u001b[0m new_component \u001b[38;5;241m=\u001b[39m copy\u001b[38;5;241m.\u001b[39mdeepcopy(component)\n",
      "\u001b[0;32m    952\u001b[0m \u001b[38;5;28;01mif\u001b[39;00m component\u001b[38;5;241m.\u001b[39mnew_data_callback \u001b[38;5;129;01mis\u001b[39;00m \u001b[38;5;129;01mnot\u001b[39;00m \u001b[38;5;28;01mNone\u001b[39;00m:\n",
      "\u001b[1;32m--> 953\u001b[0m     new_component\u001b[38;5;241m.\u001b[39mnew_data_callback \u001b[38;5;241m=\u001b[39m \u001b[38;5;28;01mlambda\u001b[39;00m \u001b[38;5;241m*\u001b[39margs: \u001b[43mcomponent\u001b[49m\u001b[38;5;241;43m.\u001b[39;49m\u001b[43mnew_data_callback\u001b[49m\u001b[43m(\u001b[49m\u001b[38;5;241;43m*\u001b[39;49m\u001b[43margs\u001b[49m\u001b[43m,\u001b[49m\u001b[43m \u001b[49m\u001b[38;5;241;43m*\u001b[39;49m\u001b[38;5;241;43m*\u001b[39;49m\u001b[43mkwargs\u001b[49m\u001b[43m)\u001b[49m\n",
      "        component \u001b[1;34m= <AnnoMate.ReviewDataApp.AppComponent object at 0x7f9faadd6340>\u001b[0m\u001b[1;34m\n",
      "        \u001b[0mcomponent.new_data_callback \u001b[1;34m= <function gen_absolute_solutions_report_new_data at 0x7f9fc7f64280>\u001b[0m\u001b[1;34m\n",
      "        \u001b[0margs \u001b[1;34m= (<AnnoMate.DataTypes.GenericData.GenericData object at 0x7f9faadef0a0>, '01f94091-eb70-40d3-9d56-70c4f847cb4c_6c1516a2-6916-4d9b-949d-4f5abb97b94c', [0])\u001b[0m\u001b[1;34m\n",
      "        \u001b[0mkwargs \u001b[1;34m= {'rdata_fn_col': 'local_absolute_rdata', 'acs_col': 'alleliccapseg_tsv_WGS', 'maf_col': 'mutation_validator_validated_maf_WGS', 'mut_fig_hover_data': ['Hugo_Symbol', 'Chromosome', 'Start_position'], 'csize': {'1': 249250621, '2': 243199373, '3': 198022430, '4': 191154276, '5': 180915260, '6': 171115067, '7': 159138663, '8': 146364022, '9': 141213431, '10': 135534747, '11': 135006516, '12': 133851895, '13': 115169878, '14': 107349540, '15': 102531392, '16': 90354753, '17': 81195210, '18': 78077248, '19': 59128983, '20': 63025520, '21': 48129895, '22': 51304566, '23': 156040895, '24': 57227415}, 'custom_parse_absolute_soln': <function parse_absolute_soln at 0x7f9faad5e1f0>}\u001b[0m\n",
      "\u001b[0;32m    954\u001b[0m \u001b[38;5;28;01melse\u001b[39;00m:\n",
      "\u001b[0;32m    955\u001b[0m     new_component\u001b[38;5;241m.\u001b[39mnew_data_callback \u001b[38;5;241m=\u001b[39m \u001b[38;5;28;01mNone\u001b[39;00m\n",
      "\n",
      "File \u001b[1;32m~/Desktop/Methods/PurityReviewers/PurityReviewer/AppComponents/AbsoluteSolutionsReportComponent.py:104\u001b[0m, in \u001b[0;36mgen_absolute_solutions_report_new_data\u001b[1;34m(\n",
      "    data=<AnnoMate.DataTypes.GenericData.GenericData object>,\n",
      "    data_id='01f94091-eb70-40d3-9d56-70c4f847cb4c_6c1516a2-6916-4d9b-949d-4f5abb97b94c',\n",
      "    selected_row_array=[0],\n",
      "    rdata_fn_col='local_absolute_rdata',\n",
      "    acs_col='alleliccapseg_tsv_WGS',\n",
      "    maf_col='mutation_validator_validated_maf_WGS',\n",
      "    mut_fig_hover_data=['Hugo_Symbol', 'Chromosome', 'Start_position'],\n",
      "    csize={'1': 249250621, '10': 135534747, '11': 135006516, '12': 133851895, '13': 115169878, '14': 107349540, '15': 102531392, '16': 90354753, '17': 81195210, '18': 78077248, ...},\n",
      "    custom_parse_absolute_soln=<function parse_absolute_soln>\n",
      ")\u001b[0m\n",
      "\u001b[0;32m    101\u001b[0m absolute_rdata_df \u001b[38;5;241m=\u001b[39m absolute_rdata_df\u001b[38;5;241m.\u001b[39mround(\u001b[38;5;241m2\u001b[39m)\n",
      "\u001b[0;32m    103\u001b[0m cnp_fig \u001b[38;5;241m=\u001b[39m gen_cnp_figure(r[acs_col], csize\u001b[38;5;241m=\u001b[39mCSIZE_DEFAULT)\n",
      "\u001b[1;32m--> 104\u001b[0m mut_fig \u001b[38;5;241m=\u001b[39m \u001b[43mgen_mut_figure\u001b[49m\u001b[43m(\u001b[49m\u001b[43mr\u001b[49m\u001b[43m[\u001b[49m\u001b[43mmaf_col\u001b[49m\u001b[43m]\u001b[49m\u001b[43m,\u001b[49m\u001b[43m \u001b[49m\u001b[43mhover_data\u001b[49m\u001b[38;5;241;43m=\u001b[39;49m\u001b[43mmut_fig_hover_data\u001b[49m\u001b[43m,\u001b[49m\u001b[43m \u001b[49m\u001b[43mcsize\u001b[49m\u001b[38;5;241;43m=\u001b[39;49m\u001b[43mCSIZE_DEFAULT\u001b[49m\u001b[43m)\u001b[49m\n",
      "        r \u001b[1;34m= Purity                                                                                                                                               0.28\n",
      "case_sample                                                                                                          01f94091-eb70-40d3-9d56-70c4f847cb4c\n",
      "control_sample                                                                                                       6c1516a2-6916-4d9b-949d-4f5abb97b94c\n",
      "WXS__Pindel__raw_simple_somatic_mutation__vcf__drs_url                                                  drs://dg.4DFC:30b14d42-ea75-4fe4-beed-14c4cefe...\n",
      "WXS__MuTect2Annot__annotated_somatic_mutation__vcf__drs_url                                             drs://dg.4DFC:6edcb505-75e4-4b57-80c2-63fa2063...\n",
      "                                                                                                                              ...                        \n",
      "FFPE__WXS__AliquotEnsembleSomaticVariantMergingandMasking__aggregated_somatic_mutation__maf__drs_url                                                  NaN\n",
      "FFPE__WXS__MuTect2Annot__annotated_somatic_mutation__vcf__drs_url                                                                                     NaN\n",
      "FFPE__WXS__Pindel__raw_simple_somatic_mutation__vcf__drs_url                                                                                          NaN\n",
      "mutation_validator_validated_maf_make_forcecall_intervals_forcecalled_snps_and_indels_maf                                                             NaN\n",
      "local_absolute_rdata                                                                                    /Users/cchu/Desktop/Methods/PurityReviewers/ex...\n",
      "Name: 01f94091-eb70-40d3-9d56-70c4f847cb4c_6c1516a2-6916-4d9b-949d-4f5abb97b94c, Length: 118, dtype: object\u001b[0m\u001b[1;34m\n",
      "        \u001b[0mCSIZE_DEFAULT \u001b[1;34m= {'1': 249250621, '2': 243199373, '3': 198022430, '4': 191154276, '5': 180915260, '6': 171115067, '7': 159138663, '8': 146364022, '9': 141213431, '10': 135534747, '11': 135006516, '12': 133851895, '13': 115169878, '14': 107349540, '15': 102531392, '16': 90354753, '17': 81195210, '18': 78077248, '19': 59128983, '20': 63025520, '21': 48129895, '22': 51304566, '23': 156040895, '24': 57227415}\u001b[0m\u001b[1;34m\n",
      "        \u001b[0mmaf_col \u001b[1;34m= 'mutation_validator_validated_maf_WGS'\u001b[0m\u001b[1;34m\n",
      "        \u001b[0mmut_fig_hover_data \u001b[1;34m= ['Hugo_Symbol', 'Chromosome', 'Start_position']\u001b[0m\n",
      "\u001b[0;32m    106\u001b[0m \u001b[38;5;66;03m# add 1 and 0 lines\u001b[39;00m\n",
      "\u001b[0;32m    107\u001b[0m mut_fig_with_lines \u001b[38;5;241m=\u001b[39m go\u001b[38;5;241m.\u001b[39mFigure(mut_fig)\n",
      "\n",
      "File \u001b[1;32m~/opt/anaconda3/envs/purity_reviewer_annomate_env/lib/python3.9/site-packages/AnnoMate/AppComponents/utils.py:117\u001b[0m, in \u001b[0;36mfreezeargs.<locals>.wrapped\u001b[1;34m(\n",
      "    *args=('gs://fc-secure-98487fe8-e652-406a-9261-329c9283a...c1516a2-6916-4d9b-949d-4f5abb97b94c.validated.maf',),\n",
      "    **kwargs={'csize': frozendict.frozendict({'1': 249250621, '2': 2431...'22': 51304566, '23': 156040895, '24': 57227415}), 'hover_data': ('Hugo_Symbol', 'Chromosome', 'Start_position')}\n",
      ")\u001b[0m\n",
      "\u001b[0;32m    115\u001b[0m args \u001b[38;5;241m=\u001b[39m \u001b[38;5;28mtuple\u001b[39m([fdict(arg) \u001b[38;5;28;01mif\u001b[39;00m \u001b[38;5;28misinstance\u001b[39m(arg, \u001b[38;5;28mdict\u001b[39m) \u001b[38;5;28;01melse\u001b[39;00m (\u001b[38;5;28mtuple\u001b[39m(arg) \u001b[38;5;28;01mif\u001b[39;00m \u001b[38;5;28misinstance\u001b[39m(arg, \u001b[38;5;28mlist\u001b[39m) \u001b[38;5;28;01melse\u001b[39;00m arg) \u001b[38;5;28;01mfor\u001b[39;00m arg \u001b[38;5;129;01min\u001b[39;00m args])\n",
      "\u001b[0;32m    116\u001b[0m kwargs \u001b[38;5;241m=\u001b[39m {k: fdict(v) \u001b[38;5;28;01mif\u001b[39;00m \u001b[38;5;28misinstance\u001b[39m(v, \u001b[38;5;28mdict\u001b[39m) \u001b[38;5;28;01melse\u001b[39;00m (\u001b[38;5;28mtuple\u001b[39m(v) \u001b[38;5;28;01mif\u001b[39;00m \u001b[38;5;28misinstance\u001b[39m(v, \u001b[38;5;28mlist\u001b[39m) \u001b[38;5;28;01melse\u001b[39;00m v) \u001b[38;5;28;01mfor\u001b[39;00m k, v \u001b[38;5;129;01min\u001b[39;00m kwargs\u001b[38;5;241m.\u001b[39mitems()}\n",
      "\u001b[1;32m--> 117\u001b[0m \u001b[38;5;28;01mreturn\u001b[39;00m \u001b[43mfunc\u001b[49m\u001b[43m(\u001b[49m\u001b[38;5;241;43m*\u001b[39;49m\u001b[43margs\u001b[49m\u001b[43m,\u001b[49m\u001b[43m \u001b[49m\u001b[38;5;241;43m*\u001b[39;49m\u001b[38;5;241;43m*\u001b[39;49m\u001b[43mkwargs\u001b[49m\u001b[43m)\u001b[49m\n",
      "        args \u001b[1;34m= ('gs://fc-secure-98487fe8-e652-406a-9261-329c9283a50b/pair/01f94091-eb70-40d3-9d56-70c4f847cb4c_6c1516a2-6916-4d9b-949d-4f5abb97b94c/MutationValidator__2023-03-30--18-47-40_t455xoi_mi5nr3i_mkm30nsh01x0e/jobs/0/workspace/01f94091-eb70-40d3-9d56-70c4f847cb4c_6c1516a2-6916-4d9b-949d-4f5abb97b94c.validated.maf',)\u001b[0m\u001b[1;34m\n",
      "        \u001b[0mkwargs \u001b[1;34m= {'hover_data': ('Hugo_Symbol', 'Chromosome', 'Start_position'), 'csize': frozendict.frozendict({'1': 249250621, '2': 243199373, '3': 198022430, '4': 191154276, '5': 180915260, '6': 171115067, '7': 159138663, '8': 146364022, '9': 141213431, '10': 135534747, '11': 135006516, '12': 133851895, '13': 115169878, '14': 107349540, '15': 102531392, '16': 90354753, '17': 81195210, '18': 78077248, '19': 59128983, '20': 63025520, '21': 48129895, '22': 51304566, '23': 156040895, '24': 57227415})}\u001b[0m\u001b[1;34m\n",
      "        \u001b[0mfunc \u001b[1;34m= <functools._lru_cache_wrapper object at 0x7f9faa46e220>\u001b[0m\n",
      "\n",
      "File \u001b[1;32m~/Desktop/Methods/PurityReviewers/PurityReviewer/AppComponents/utils.py:188\u001b[0m, in \u001b[0;36mgen_mut_figure\u001b[1;34m(\n",
      "    maf_fn='gs://fc-secure-98487fe8-e652-406a-9261-329c9283a...c1516a2-6916-4d9b-949d-4f5abb97b94c.validated.maf',\n",
      "    chromosome_col='Chromosome',\n",
      "    start_position_col='Start_position',\n",
      "    hugo_symbol_col='Hugo_Symbol',\n",
      "    variant_type_col='Variant_Type',\n",
      "    alt_count_col='t_alt_count',\n",
      "    ref_count_col='t_ref_count',\n",
      "    hover_data=['Hugo_Symbol', 'Chromosome', 'Start_position'],\n",
      "    csize=frozendict.frozendict({'1': 249250621, '2': 2431...'22': 51304566, '23': 156040895, '24': 57227415})\n",
      ")\u001b[0m\n",
      "\u001b[0;32m    185\u001b[0m     maf_df[chromosome_col]\u001b[38;5;241m.\u001b[39mreplace({\u001b[38;5;124m'\u001b[39m\u001b[38;5;124mX\u001b[39m\u001b[38;5;124m'\u001b[39m: \u001b[38;5;241m23\u001b[39m, \u001b[38;5;124m'\u001b[39m\u001b[38;5;124mY\u001b[39m\u001b[38;5;124m'\u001b[39m: \u001b[38;5;241m24\u001b[39m}, inplace\u001b[38;5;241m=\u001b[39m\u001b[38;5;28;01mTrue\u001b[39;00m)\n",
      "\u001b[0;32m    186\u001b[0m maf_df[chromosome_col] \u001b[38;5;241m=\u001b[39m maf_df[chromosome_col]\u001b[38;5;241m.\u001b[39mastype(\u001b[38;5;28mstr\u001b[39m)\n",
      "\u001b[1;32m--> 188\u001b[0m maf_df[\u001b[38;5;124m'\u001b[39m\u001b[38;5;124mnew_position\u001b[39m\u001b[38;5;124m'\u001b[39m] \u001b[38;5;241m=\u001b[39m \u001b[43mmaf_df\u001b[49m\u001b[38;5;241;43m.\u001b[39;49m\u001b[43mapply\u001b[49m\u001b[43m(\u001b[49m\u001b[38;5;28;43;01mlambda\u001b[39;49;00m\u001b[43m \u001b[49m\u001b[43mr\u001b[49m\u001b[43m:\u001b[49m\u001b[43m \u001b[49m\u001b[43mcum_sum_csize\u001b[49m\u001b[43m[\u001b[49m\u001b[43mr\u001b[49m\u001b[43m[\u001b[49m\u001b[43mchromosome_col\u001b[49m\u001b[43m]\u001b[49m\u001b[43m]\u001b[49m\u001b[43m \u001b[49m\u001b[38;5;241;43m+\u001b[39;49m\u001b[43m \u001b[49m\u001b[43mr\u001b[49m\u001b[43m[\u001b[49m\u001b[43mstart_position_col\u001b[49m\u001b[43m]\u001b[49m\u001b[43m,\u001b[49m\u001b[43m \u001b[49m\u001b[43maxis\u001b[49m\u001b[38;5;241;43m=\u001b[39;49m\u001b[38;5;241;43m1\u001b[39;49m\u001b[43m)\u001b[49m\n",
      "        cum_sum_csize \u001b[1;34m= {'1': 0, '2': 249250621, '3': 492449994, '4': 690472424, '5': 881626700, '6': 1062541960, '7': 1233657027, '8': 1392795690, '9': 1539159712, '10': 1680373143, '11': 1815907890, '12': 1950914406, '13': 2084766301, '14': 2199936179, '15': 2307285719, '16': 2409817111, '17': 2500171864, '18': 2581367074, '19': 2659444322, '20': 2718573305, '21': 2781598825, '22': 2829728720, '23': 2881033286, '24': 3037074181}\u001b[0m\u001b[1;34m\n",
      "        \u001b[0mmaf_df \u001b[1;34m=       Hugo_Symbol  Entrez_Gene_Id   Center NCBI_Build Chromosome  \\\n",
      "0        C1orf159         54991.0  UNKNOWN       hg38       chr1   \n",
      "1         Unknown             NaN  UNKNOWN       hg38       chr1   \n",
      "2            SDF4         51150.0  UNKNOWN       hg38       chr1   \n",
      "3          UBE2J2        118424.0  UNKNOWN       hg38       chr1   \n",
      "4            DVL1          1855.0  UNKNOWN       hg38       chr1   \n",
      "...           ...             ...      ...        ...        ...   \n",
      "60964       VAMP7          6845.0  UNKNOWN       hg38       chrX   \n",
      "60965       VAMP7          6845.0  UNKNOWN       hg38       chrX   \n",
      "60966     Unknown             NaN  UNKNOWN       hg38       chrY   \n",
      "60967     Unknown             NaN  UNKNOWN       hg38       chrY   \n",
      "60968     Unknown             NaN  UNKNOWN       hg38       chrY   \n",
      "\n",
      "       Start_position  End_position Strand Variant_Classification  \\\n",
      "0             1091802       1091802      +                 Intron   \n",
      "1             1124150       1124150      +                    IGR   \n",
      "2             1231570       1231570      +                 Intron   \n",
      "3             1269151       1269151      +                 Intron   \n",
      "4             1343499       1343499      +                 Intron   \n",
      "...               ...           ...    ...                    ...   \n",
      "60964       155922165     155922165      +                 Intron   \n",
      "60965       155923456     155923456      +                 Intron   \n",
      "60966        56856367      56856367      +                    IGR   \n",
      "60967        56859888      56859888      +                    IGR   \n",
      "60968        56872802      56872802      +                    IGR   \n",
      "\n",
      "      Variant_Type  ...                    dbSNP_VP dbSNP_WGT dbSNP_WTD  \\\n",
      "0              SNP  ...  0x050000080005000002000100         1     false   \n",
      "1              SNP  ...                         NaN       NaN     false   \n",
      "2              SNP  ...                         NaN       NaN     false   \n",
      "3              SNP  ...  0x050000080005000102000100         1     false   \n",
      "4              SNP  ...                         NaN       NaN     false   \n",
      "...            ...  ...                         ...       ...       ...   \n",
      "60964          SNP  ...                         NaN       NaN     false   \n",
      "60965          SNP  ...                         NaN       NaN     false   \n",
      "60966          SNP  ...                         NaN       NaN     false   \n",
      "60967          SNP  ...                         NaN       NaN     false   \n",
      "60968          SNP  ...                         NaN       NaN     false   \n",
      "\n",
      "      dbSNP_dbSNPBuildID     dbSNP_ID dbSNP_FILTER  \\\n",
      "0                    150  rs923604496          NaN   \n",
      "1                    NaN          NaN          NaN   \n",
      "2                    NaN          NaN          NaN   \n",
      "3                    132  rs111549720          NaN   \n",
      "4                    NaN          NaN          NaN   \n",
      "...                  ...          ...          ...   \n",
      "60964                NaN          NaN          NaN   \n",
      "60965                NaN          NaN          NaN   \n",
      "60966                NaN          NaN          NaN   \n",
      "60967                NaN          NaN          NaN   \n",
      "60968                NaN          NaN          NaN   \n",
      "\n",
      "      HGNC_Entrez_Gene_ID(supplied_by_NCBI) dbSNP_RSPOS dbSNP_VLD SOMATIC  \n",
      "0                                   54991.0     1091802     false    True  \n",
      "1                                       NaN         NaN     false    True  \n",
      "2                                   51150.0         NaN     false    True  \n",
      "3                                  118424.0     1269151     false    True  \n",
      "4                                    1855.0         NaN     false    True  \n",
      "...                                     ...         ...       ...     ...  \n",
      "60964                                6845.0         NaN     false    True  \n",
      "60965                                6845.0         NaN     false    True  \n",
      "60966                                   NaN         NaN     false    True  \n",
      "60967                                   NaN         NaN     false    True  \n",
      "60968                                   NaN         NaN     false    True  \n",
      "\n",
      "[60969 rows x 205 columns]\u001b[0m\u001b[1;34m\n",
      "        \u001b[0mchromosome_col \u001b[1;34m= 'Chromosome'\u001b[0m\u001b[1;34m\n",
      "        \u001b[0mstart_position_col \u001b[1;34m= 'Start_position'\u001b[0m\n",
      "\u001b[0;32m    189\u001b[0m maf_df[\u001b[38;5;124m'\u001b[39m\u001b[38;5;124mtumor_f\u001b[39m\u001b[38;5;124m'\u001b[39m] \u001b[38;5;241m=\u001b[39m maf_df[alt_count_col] \u001b[38;5;241m/\u001b[39m (maf_df[alt_count_col] \u001b[38;5;241m+\u001b[39m maf_df[ref_count_col])\n",
      "\u001b[0;32m    191\u001b[0m fig \u001b[38;5;241m=\u001b[39m px\u001b[38;5;241m.\u001b[39mscatter(maf_df, x\u001b[38;5;241m=\u001b[39m\u001b[38;5;124m'\u001b[39m\u001b[38;5;124mnew_position\u001b[39m\u001b[38;5;124m'\u001b[39m, y\u001b[38;5;241m=\u001b[39m\u001b[38;5;124m'\u001b[39m\u001b[38;5;124mtumor_f\u001b[39m\u001b[38;5;124m'\u001b[39m, marginal_y\u001b[38;5;241m=\u001b[39m\u001b[38;5;124m'\u001b[39m\u001b[38;5;124mhistogram\u001b[39m\u001b[38;5;124m'\u001b[39m, hover_data\u001b[38;5;241m=\u001b[39mhover_data)\n",
      "\n",
      "File \u001b[1;32m~/opt/anaconda3/envs/purity_reviewer_annomate_env/lib/python3.9/site-packages/pandas/core/frame.py:9565\u001b[0m, in \u001b[0;36mDataFrame.apply\u001b[1;34m(\n",
      "    self=      Hugo_Symbol  Entrez_Gene_Id   Center NCBI_...N     false    True  \n",
      "\n",
      "[60969 rows x 205 columns],\n",
      "    func=<function gen_mut_figure.<locals>.<lambda>>,\n",
      "    axis=1,\n",
      "    raw=False,\n",
      "    result_type=None,\n",
      "    args=(),\n",
      "    **kwargs={}\n",
      ")\u001b[0m\n",
      "\u001b[0;32m   9554\u001b[0m \u001b[38;5;28;01mfrom\u001b[39;00m \u001b[38;5;21;01mpandas\u001b[39;00m\u001b[38;5;21;01m.\u001b[39;00m\u001b[38;5;21;01mcore\u001b[39;00m\u001b[38;5;21;01m.\u001b[39;00m\u001b[38;5;21;01mapply\u001b[39;00m \u001b[38;5;28;01mimport\u001b[39;00m frame_apply\n",
      "\u001b[0;32m   9556\u001b[0m op \u001b[38;5;241m=\u001b[39m frame_apply(\n",
      "\u001b[0;32m   9557\u001b[0m     \u001b[38;5;28mself\u001b[39m,\n",
      "\u001b[0;32m   9558\u001b[0m     func\u001b[38;5;241m=\u001b[39mfunc,\n",
      "\u001b[1;32m   (...)\u001b[0m\n",
      "\u001b[0;32m   9563\u001b[0m     kwargs\u001b[38;5;241m=\u001b[39mkwargs,\n",
      "\u001b[0;32m   9564\u001b[0m )\n",
      "\u001b[1;32m-> 9565\u001b[0m \u001b[38;5;28;01mreturn\u001b[39;00m \u001b[43mop\u001b[49m\u001b[38;5;241;43m.\u001b[39;49m\u001b[43mapply\u001b[49m\u001b[43m(\u001b[49m\u001b[43m)\u001b[49m\u001b[38;5;241m.\u001b[39m__finalize__(\u001b[38;5;28mself\u001b[39m, method\u001b[38;5;241m=\u001b[39m\u001b[38;5;124m\"\u001b[39m\u001b[38;5;124mapply\u001b[39m\u001b[38;5;124m\"\u001b[39m)\n",
      "        op \u001b[1;34m= <pandas.core.apply.FrameColumnApply object at 0x7f9fa895c490>\u001b[0m\u001b[1;34m\n",
      "        \u001b[0mself \u001b[1;34m=       Hugo_Symbol  Entrez_Gene_Id   Center NCBI_Build Chromosome  \\\n",
      "0        C1orf159         54991.0  UNKNOWN       hg38       chr1   \n",
      "1         Unknown             NaN  UNKNOWN       hg38       chr1   \n",
      "2            SDF4         51150.0  UNKNOWN       hg38       chr1   \n",
      "3          UBE2J2        118424.0  UNKNOWN       hg38       chr1   \n",
      "4            DVL1          1855.0  UNKNOWN       hg38       chr1   \n",
      "...           ...             ...      ...        ...        ...   \n",
      "60964       VAMP7          6845.0  UNKNOWN       hg38       chrX   \n",
      "60965       VAMP7          6845.0  UNKNOWN       hg38       chrX   \n",
      "60966     Unknown             NaN  UNKNOWN       hg38       chrY   \n",
      "60967     Unknown             NaN  UNKNOWN       hg38       chrY   \n",
      "60968     Unknown             NaN  UNKNOWN       hg38       chrY   \n",
      "\n",
      "       Start_position  End_position Strand Variant_Classification  \\\n",
      "0             1091802       1091802      +                 Intron   \n",
      "1             1124150       1124150      +                    IGR   \n",
      "2             1231570       1231570      +                 Intron   \n",
      "3             1269151       1269151      +                 Intron   \n",
      "4             1343499       1343499      +                 Intron   \n",
      "...               ...           ...    ...                    ...   \n",
      "60964       155922165     155922165      +                 Intron   \n",
      "60965       155923456     155923456      +                 Intron   \n",
      "60966        56856367      56856367      +                    IGR   \n",
      "60967        56859888      56859888      +                    IGR   \n",
      "60968        56872802      56872802      +                    IGR   \n",
      "\n",
      "      Variant_Type  ...                    dbSNP_VP dbSNP_WGT dbSNP_WTD  \\\n",
      "0              SNP  ...  0x050000080005000002000100         1     false   \n",
      "1              SNP  ...                         NaN       NaN     false   \n",
      "2              SNP  ...                         NaN       NaN     false   \n",
      "3              SNP  ...  0x050000080005000102000100         1     false   \n",
      "4              SNP  ...                         NaN       NaN     false   \n",
      "...            ...  ...                         ...       ...       ...   \n",
      "60964          SNP  ...                         NaN       NaN     false   \n",
      "60965          SNP  ...                         NaN       NaN     false   \n",
      "60966          SNP  ...                         NaN       NaN     false   \n",
      "60967          SNP  ...                         NaN       NaN     false   \n",
      "60968          SNP  ...                         NaN       NaN     false   \n",
      "\n",
      "      dbSNP_dbSNPBuildID     dbSNP_ID dbSNP_FILTER  \\\n",
      "0                    150  rs923604496          NaN   \n",
      "1                    NaN          NaN          NaN   \n",
      "2                    NaN          NaN          NaN   \n",
      "3                    132  rs111549720          NaN   \n",
      "4                    NaN          NaN          NaN   \n",
      "...                  ...          ...          ...   \n",
      "60964                NaN          NaN          NaN   \n",
      "60965                NaN          NaN          NaN   \n",
      "60966                NaN          NaN          NaN   \n",
      "60967                NaN          NaN          NaN   \n",
      "60968                NaN          NaN          NaN   \n",
      "\n",
      "      HGNC_Entrez_Gene_ID(supplied_by_NCBI) dbSNP_RSPOS dbSNP_VLD SOMATIC  \n",
      "0                                   54991.0     1091802     false    True  \n",
      "1                                       NaN         NaN     false    True  \n",
      "2                                   51150.0         NaN     false    True  \n",
      "3                                  118424.0     1269151     false    True  \n",
      "4                                    1855.0         NaN     false    True  \n",
      "...                                     ...         ...       ...     ...  \n",
      "60964                                6845.0         NaN     false    True  \n",
      "60965                                6845.0         NaN     false    True  \n",
      "60966                                   NaN         NaN     false    True  \n",
      "60967                                   NaN         NaN     false    True  \n",
      "60968                                   NaN         NaN     false    True  \n",
      "\n",
      "[60969 rows x 205 columns]\u001b[0m\n",
      "\n",
      "File \u001b[1;32m~/opt/anaconda3/envs/purity_reviewer_annomate_env/lib/python3.9/site-packages/pandas/core/apply.py:746\u001b[0m, in \u001b[0;36mFrameApply.apply\u001b[1;34m(\n",
      "    self=<pandas.core.apply.FrameColumnApply object>\n",
      ")\u001b[0m\n",
      "\u001b[0;32m    743\u001b[0m \u001b[38;5;28;01melif\u001b[39;00m \u001b[38;5;28mself\u001b[39m\u001b[38;5;241m.\u001b[39mraw:\n",
      "\u001b[0;32m    744\u001b[0m     \u001b[38;5;28;01mreturn\u001b[39;00m \u001b[38;5;28mself\u001b[39m\u001b[38;5;241m.\u001b[39mapply_raw()\n",
      "\u001b[1;32m--> 746\u001b[0m \u001b[38;5;28;01mreturn\u001b[39;00m \u001b[38;5;28;43mself\u001b[39;49m\u001b[38;5;241;43m.\u001b[39;49m\u001b[43mapply_standard\u001b[49m\u001b[43m(\u001b[49m\u001b[43m)\u001b[49m\n",
      "        self \u001b[1;34m= <pandas.core.apply.FrameColumnApply object at 0x7f9fa895c490>\u001b[0m\n",
      "\n",
      "File \u001b[1;32m~/opt/anaconda3/envs/purity_reviewer_annomate_env/lib/python3.9/site-packages/pandas/core/apply.py:873\u001b[0m, in \u001b[0;36mFrameApply.apply_standard\u001b[1;34m(\n",
      "    self=<pandas.core.apply.FrameColumnApply object>\n",
      ")\u001b[0m\n",
      "\u001b[0;32m    872\u001b[0m \u001b[38;5;28;01mdef\u001b[39;00m \u001b[38;5;21mapply_standard\u001b[39m(\u001b[38;5;28mself\u001b[39m):\n",
      "\u001b[1;32m--> 873\u001b[0m     results, res_index \u001b[38;5;241m=\u001b[39m \u001b[38;5;28;43mself\u001b[39;49m\u001b[38;5;241;43m.\u001b[39;49m\u001b[43mapply_series_generator\u001b[49m\u001b[43m(\u001b[49m\u001b[43m)\u001b[49m\n",
      "        self \u001b[1;34m= <pandas.core.apply.FrameColumnApply object at 0x7f9fa895c490>\u001b[0m\n",
      "\u001b[0;32m    875\u001b[0m     \u001b[38;5;66;03m# wrap results\u001b[39;00m\n",
      "\u001b[0;32m    876\u001b[0m     \u001b[38;5;28;01mreturn\u001b[39;00m \u001b[38;5;28mself\u001b[39m\u001b[38;5;241m.\u001b[39mwrap_results(results, res_index)\n",
      "\n",
      "File \u001b[1;32m~/opt/anaconda3/envs/purity_reviewer_annomate_env/lib/python3.9/site-packages/pandas/core/apply.py:889\u001b[0m, in \u001b[0;36mFrameApply.apply_series_generator\u001b[1;34m(\n",
      "    self=<pandas.core.apply.FrameColumnApply object>\n",
      ")\u001b[0m\n",
      "\u001b[0;32m    886\u001b[0m \u001b[38;5;28;01mwith\u001b[39;00m option_context(\u001b[38;5;124m\"\u001b[39m\u001b[38;5;124mmode.chained_assignment\u001b[39m\u001b[38;5;124m\"\u001b[39m, \u001b[38;5;28;01mNone\u001b[39;00m):\n",
      "\u001b[0;32m    887\u001b[0m     \u001b[38;5;28;01mfor\u001b[39;00m i, v \u001b[38;5;129;01min\u001b[39;00m \u001b[38;5;28menumerate\u001b[39m(series_gen):\n",
      "\u001b[0;32m    888\u001b[0m         \u001b[38;5;66;03m# ignore SettingWithCopy here in case the user mutates\u001b[39;00m\n",
      "\u001b[1;32m--> 889\u001b[0m         results[i] \u001b[38;5;241m=\u001b[39m \u001b[38;5;28;43mself\u001b[39;49m\u001b[38;5;241;43m.\u001b[39;49m\u001b[43mf\u001b[49m\u001b[43m(\u001b[49m\u001b[43mv\u001b[49m\u001b[43m)\u001b[49m\n",
      "        results \u001b[1;34m= {}\u001b[0m\u001b[1;34m\n",
      "        \u001b[0mself.f \u001b[1;34m= <function gen_mut_figure.<locals>.<lambda> at 0x7f9f8e1dcf70>\u001b[0m\u001b[1;34m\n",
      "        \u001b[0mself \u001b[1;34m= <pandas.core.apply.FrameColumnApply object at 0x7f9fa895c490>\u001b[0m\u001b[1;34m\n",
      "        \u001b[0mi \u001b[1;34m= 0\u001b[0m\u001b[1;34m\n",
      "        \u001b[0mv \u001b[1;34m= Hugo_Symbol                              C1orf159\n",
      "Entrez_Gene_Id                            54991.0\n",
      "Center                                    UNKNOWN\n",
      "NCBI_Build                                   hg38\n",
      "Chromosome                                   chr1\n",
      "                                           ...   \n",
      "dbSNP_FILTER                                  NaN\n",
      "HGNC_Entrez_Gene_ID(supplied_by_NCBI)     54991.0\n",
      "dbSNP_RSPOS                               1091802\n",
      "dbSNP_VLD                                   false\n",
      "SOMATIC                                      True\n",
      "Name: 0, Length: 205, dtype: object\u001b[0m\n",
      "\u001b[0;32m    890\u001b[0m         \u001b[38;5;28;01mif\u001b[39;00m \u001b[38;5;28misinstance\u001b[39m(results[i], ABCSeries):\n",
      "\u001b[0;32m    891\u001b[0m             \u001b[38;5;66;03m# If we have a view on v, we need to make a copy because\u001b[39;00m\n",
      "\u001b[0;32m    892\u001b[0m             \u001b[38;5;66;03m#  series_generator will swap out the underlying data\u001b[39;00m\n",
      "\u001b[0;32m    893\u001b[0m             results[i] \u001b[38;5;241m=\u001b[39m results[i]\u001b[38;5;241m.\u001b[39mcopy(deep\u001b[38;5;241m=\u001b[39m\u001b[38;5;28;01mFalse\u001b[39;00m)\n",
      "\n",
      "File \u001b[1;32m~/Desktop/Methods/PurityReviewers/PurityReviewer/AppComponents/utils.py:188\u001b[0m, in \u001b[0;36mgen_mut_figure.<locals>.<lambda>\u001b[1;34m(\n",
      "    r=Hugo_Symbol                              C1orf15...         True\n",
      "Name: 0, Length: 205, dtype: object\n",
      ")\u001b[0m\n",
      "\u001b[0;32m    185\u001b[0m     maf_df[chromosome_col]\u001b[38;5;241m.\u001b[39mreplace({\u001b[38;5;124m'\u001b[39m\u001b[38;5;124mX\u001b[39m\u001b[38;5;124m'\u001b[39m: \u001b[38;5;241m23\u001b[39m, \u001b[38;5;124m'\u001b[39m\u001b[38;5;124mY\u001b[39m\u001b[38;5;124m'\u001b[39m: \u001b[38;5;241m24\u001b[39m}, inplace\u001b[38;5;241m=\u001b[39m\u001b[38;5;28;01mTrue\u001b[39;00m)\n",
      "\u001b[0;32m    186\u001b[0m maf_df[chromosome_col] \u001b[38;5;241m=\u001b[39m maf_df[chromosome_col]\u001b[38;5;241m.\u001b[39mastype(\u001b[38;5;28mstr\u001b[39m)\n",
      "\u001b[1;32m--> 188\u001b[0m maf_df[\u001b[38;5;124m'\u001b[39m\u001b[38;5;124mnew_position\u001b[39m\u001b[38;5;124m'\u001b[39m] \u001b[38;5;241m=\u001b[39m maf_df\u001b[38;5;241m.\u001b[39mapply(\u001b[38;5;28;01mlambda\u001b[39;00m r: \u001b[43mcum_sum_csize\u001b[49m\u001b[43m[\u001b[49m\u001b[43mr\u001b[49m\u001b[43m[\u001b[49m\u001b[43mchromosome_col\u001b[49m\u001b[43m]\u001b[49m\u001b[43m]\u001b[49m \u001b[38;5;241m+\u001b[39m r[start_position_col], axis\u001b[38;5;241m=\u001b[39m\u001b[38;5;241m1\u001b[39m)\n",
      "        cum_sum_csize \u001b[1;34m= {'1': 0, '2': 249250621, '3': 492449994, '4': 690472424, '5': 881626700, '6': 1062541960, '7': 1233657027, '8': 1392795690, '9': 1539159712, '10': 1680373143, '11': 1815907890, '12': 1950914406, '13': 2084766301, '14': 2199936179, '15': 2307285719, '16': 2409817111, '17': 2500171864, '18': 2581367074, '19': 2659444322, '20': 2718573305, '21': 2781598825, '22': 2829728720, '23': 2881033286, '24': 3037074181}\u001b[0m\u001b[1;34m\n",
      "        \u001b[0mchromosome_col \u001b[1;34m= 'Chromosome'\u001b[0m\u001b[1;34m\n",
      "        \u001b[0mr \u001b[1;34m= Hugo_Symbol                              C1orf159\n",
      "Entrez_Gene_Id                            54991.0\n",
      "Center                                    UNKNOWN\n",
      "NCBI_Build                                   hg38\n",
      "Chromosome                                   chr1\n",
      "                                           ...   \n",
      "dbSNP_FILTER                                  NaN\n",
      "HGNC_Entrez_Gene_ID(supplied_by_NCBI)     54991.0\n",
      "dbSNP_RSPOS                               1091802\n",
      "dbSNP_VLD                                   false\n",
      "SOMATIC                                      True\n",
      "Name: 0, Length: 205, dtype: object\u001b[0m\u001b[1;34m\n",
      "        \u001b[0mstart_position_col \u001b[1;34m= 'Start_position'\u001b[0m\n",
      "\u001b[0;32m    189\u001b[0m maf_df[\u001b[38;5;124m'\u001b[39m\u001b[38;5;124mtumor_f\u001b[39m\u001b[38;5;124m'\u001b[39m] \u001b[38;5;241m=\u001b[39m maf_df[alt_count_col] \u001b[38;5;241m/\u001b[39m (maf_df[alt_count_col] \u001b[38;5;241m+\u001b[39m maf_df[ref_count_col])\n",
      "\u001b[0;32m    191\u001b[0m fig \u001b[38;5;241m=\u001b[39m px\u001b[38;5;241m.\u001b[39mscatter(maf_df, x\u001b[38;5;241m=\u001b[39m\u001b[38;5;124m'\u001b[39m\u001b[38;5;124mnew_position\u001b[39m\u001b[38;5;124m'\u001b[39m, y\u001b[38;5;241m=\u001b[39m\u001b[38;5;124m'\u001b[39m\u001b[38;5;124mtumor_f\u001b[39m\u001b[38;5;124m'\u001b[39m, marginal_y\u001b[38;5;241m=\u001b[39m\u001b[38;5;124m'\u001b[39m\u001b[38;5;124mhistogram\u001b[39m\u001b[38;5;124m'\u001b[39m, hover_data\u001b[38;5;241m=\u001b[39mhover_data)\n",
      "\n",
      "\u001b[1;31mKeyError\u001b[0m: 'chr1'\n",
      "\n"
     ]
    }
   ],
   "source": [
    "matched_reviewer.run(port=8099, review_data_table_df=luad_pairs_df[['Purity', 'participant']], mode='tab')"
   ]
  },
  {
   "cell_type": "code",
   "execution_count": null,
   "id": "ae2f4534-aa43-4a3e-8b47-73fa3c0119f7",
   "metadata": {},
   "outputs": [],
   "source": []
  }
 ],
 "metadata": {
  "kernelspec": {
   "display_name": "Python [conda env:purity_reviewer_annomate_env]",
   "language": "python",
   "name": "conda-env-purity_reviewer_annomate_env-py"
  },
  "language_info": {
   "codemirror_mode": {
    "name": "ipython",
    "version": 3
   },
   "file_extension": ".py",
   "mimetype": "text/x-python",
   "name": "python",
   "nbconvert_exporter": "python",
   "pygments_lexer": "ipython3",
   "version": "3.9.0"
  }
 },
 "nbformat": 4,
 "nbformat_minor": 5
}
