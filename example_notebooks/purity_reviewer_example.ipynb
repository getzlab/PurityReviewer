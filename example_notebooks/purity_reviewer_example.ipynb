{
 "cells": [
  {
   "cell_type": "markdown",
   "id": "9847202b-8c65-4cbe-92f2-919cbf10f650",
   "metadata": {},
   "source": [
    "# Purity Reviewer Example"
   ]
  },
  {
   "cell_type": "code",
   "execution_count": null,
   "id": "6ed06b3d-93bf-4ab6-8e36-c5dab8251bb4",
   "metadata": {},
   "outputs": [],
   "source": [
    "%load_ext autoreload\n",
    "%autoreload 2\n",
    "    "
   ]
  },
  {
   "cell_type": "code",
   "execution_count": null,
   "id": "8eba07f4-3c8a-4a23-9ec8-68821ec8aa2b",
   "metadata": {},
   "outputs": [],
   "source": [
    "from PurityReviewer.Reviewers.MatchedPurityReviewer import MatchedPurityReviewer\n",
    "from PurityReviewer.Reviewers.ManualPurityReviewer import ManualPurityReviewer\n",
    "from PurityReviewer.AppComponents.utils import download_rdata\n",
    "import pandas as pd\n",
    "import numpy as np\n",
    "import os"
   ]
  },
  {
   "cell_type": "markdown",
   "id": "19530ec4-dc0d-401f-859f-c22fb8510dd4",
   "metadata": {},
   "source": [
    "# Run with simuated tumor data\n",
    "## Setup\n",
    "\n",
    "Clone the `SimulatedTumorData` repo and install in your environment.\n",
    "```\n",
    "cd <path to put SimulatedTumorData repo>\n",
    "git clone https://github.com/getzlab/SimulatedTumorData\n",
    "\n",
    "conda activate <your env>\n",
    "pip install -e <path to put SimulatedTumorData repo>\n",
    "```\n",
    "\n",
    "This only needs to be done once."
   ]
  },
  {
   "cell_type": "markdown",
   "id": "f52bbae6-d4e7-4573-8ff0-ab5e8bd82591",
   "metadata": {},
   "source": [
    "## Load simulated data"
   ]
  },
  {
   "cell_type": "code",
   "execution_count": null,
   "id": "ff5bef6c-e5bc-41c7-9f24-4bf3991f6af2",
   "metadata": {},
   "outputs": [],
   "source": [
    "from SimulatedTumorData.src.generate_simulated_data import load_patients_and_samples"
   ]
  },
  {
   "cell_type": "code",
   "execution_count": null,
   "id": "1aeda3c2-ceff-4260-b6aa-fca801b2eefc",
   "metadata": {},
   "outputs": [],
   "source": [
    "samples, participants = load_patients_and_samples(path_to_sim_data=\"SimulatedTumorData/sim_data\")"
   ]
  },
  {
   "cell_type": "markdown",
   "id": "426265a5-612c-4c75-93cd-0d58e484d760",
   "metadata": {},
   "source": [
    "## Pass in data"
   ]
  },
  {
   "cell_type": "code",
   "execution_count": null,
   "id": "c8a593ce-2172-4152-9e82-869b3a5e7ff3",
   "metadata": {},
   "outputs": [],
   "source": [
    "from PurityReviewer.AppComponents.utils import parse_absolute_soln, CSIZE_DEFAULT\n",
    "from PurityReviewer.AppComponents.utils import parse_absolute_soln_simulatedTumorData"
   ]
  },
  {
   "cell_type": "code",
   "execution_count": null,
   "id": "f043359e-668b-4977-8126-f7196c8ee8b5",
   "metadata": {},
   "outputs": [],
   "source": [
    "data_path = 'simulated_data_purity_review'"
   ]
  },
  {
   "cell_type": "code",
   "execution_count": null,
   "id": "10b880fd-dd35-4861-92a9-3c44df751ea4",
   "metadata": {},
   "outputs": [],
   "source": [
    "matched_reviewer = MatchedPurityReviewer()\n",
    "matched_reviewer.set_review_data(\n",
    "    data_path=data_path, \n",
    "    description='Matched purity reviewer for simulated data', \n",
    "    df=samples,\n",
    "    index=samples.index, \n",
    ")\n",
    "matched_reviewer.set_review_app(\n",
    "    sample_info_cols=['ABSOLUTE_plot_fn', 'wxs_purity', 'wxs_ploidy'],\n",
    "    acs_col='cnv_seg_fn', \n",
    "    maf_col='maf_fn',\n",
    "    rdata_fn_col='ABSOLUTE_RData',\n",
    "    mut_fig_hover_data=['Hugo_Symbol', 'Chromosome', 'Start_position'],\n",
    "    csize=CSIZE_DEFAULT,\n",
    "    custom_parse_absolute_soln=parse_absolute_soln_simulatedTumorData # <-- update with my_custom_parse_absolute_soln()\n",
    ")\n",
    "\n",
    "matched_reviewer.set_default_review_data_annotations_configuration()\n",
    "matched_reviewer.set_default_autofill()"
   ]
  },
  {
   "cell_type": "markdown",
   "id": "f7ccb3fe-1296-42c4-b11b-fb417cb9ef07",
   "metadata": {},
   "source": [
    "## Run the reviewer"
   ]
  },
  {
   "cell_type": "code",
   "execution_count": null,
   "id": "2899b183-856c-4159-a46e-bef0587fbd72",
   "metadata": {},
   "outputs": [],
   "source": [
    "matched_reviewer.run(port=8099, mode='tab', collapsable=False, hide_history_df_cols=['source_data_fn'])"
   ]
  },
  {
   "cell_type": "code",
   "execution_count": null,
   "id": "e04b008f-8990-461f-99ab-bc32f3ea621c",
   "metadata": {},
   "outputs": [],
   "source": [
    "matched_reviewer.get_annot()"
   ]
  },
  {
   "cell_type": "markdown",
   "id": "62d44268-7544-49c4-9213-b8f65ca32ae5",
   "metadata": {},
   "source": [
    "# Purity Review from CGA characterization pipeline Terra workspace"
   ]
  },
  {
   "cell_type": "markdown",
   "id": "bc0b43cc-df84-42aa-acd6-95165410d2a3",
   "metadata": {},
   "source": [
    "## Load data"
   ]
  },
  {
   "cell_type": "code",
   "execution_count": null,
   "id": "dd7b5241-5196-43f5-a830-3f4f7b76dcf1",
   "metadata": {},
   "outputs": [],
   "source": [
    "import dalmatian"
   ]
  },
  {
   "cell_type": "markdown",
   "id": "1daa6617-01c3-41c5-954b-61a459c64d05",
   "metadata": {},
   "source": [
    "```\n",
    "import os\n",
    "os.environ[\"GCLOUD_PROJECT\"] = <google project>\n",
    "\n",
    "wm = dalmatian.WorkspaceManager(<namespace>/<workspace_name>)\n",
    "pairs_df = wm.get_pairs()\n",
    "\n",
    "# Download rdata from ABSOLUTE locally\n",
    "rdata_dir = <directory to save rData>\n",
    "downloaded_rdata_s = download_rdata(pairs_df['absolute_rdata'], rdata_dir=rdata_dir)\n",
    "downloaded_rdata_s.name = 'local_absolute_rdata'\n",
    "pairs_df = pd.concat([pairs_df, downloaded_rdata_s], axis=1)\n",
    "```"
   ]
  },
  {
   "cell_type": "code",
   "execution_count": null,
   "id": "d994ca32-fc89-4194-99ae-304e99eec5e0",
   "metadata": {},
   "outputs": [],
   "source": [
    "workspace = 'broad-tcga-wgs-terra/TCGA_OV_WGS'\n",
    "wm = dalmatian.WorkspaceManager(workspace)\n",
    "wm_pairs_df = wm.get_pairs().iloc[:5]\n",
    "display(wm_pairs_df.head())"
   ]
  },
  {
   "cell_type": "code",
   "execution_count": null,
   "id": "42a8730e-78c6-4168-97e6-ca4500e7c47a",
   "metadata": {},
   "outputs": [],
   "source": [
    "# download rdata locally\n",
    "rdata_dir = f'/Users/cchu/Desktop/Methods/JupyterReviewer/data/Purity_Reviewer_Tutorial/local_rdata_2023-01-30'\n",
    "wm_pairs_df['local_absolute_rdata'] = download_rdata(wm_pairs_df['absolute_rdata'], rdata_dir=rdata_dir)"
   ]
  },
  {
   "cell_type": "code",
   "execution_count": null,
   "id": "23d6da64-9b7e-4319-aad6-866973b20747",
   "metadata": {},
   "outputs": [],
   "source": [
    "wm_pairs_df['local_absolute_rdata'].iloc[0]"
   ]
  },
  {
   "cell_type": "markdown",
   "id": "cb49373a-1443-4b1c-8d36-fbc48c27ffba",
   "metadata": {},
   "source": [
    "## Pass in data"
   ]
  },
  {
   "cell_type": "markdown",
   "id": "42a3d9ce-5218-4c78-9f64-ea996595d952",
   "metadata": {},
   "source": [
    "```\n",
    "from PurityReviewer.AppComponents.utils import CSIZE_DEFAULT\n",
    "sex_chr_map = {'23': 'X', '24': 'Y'}\n",
    "rename_chroms = {x: sex_chr_map[x] if x in sex_chr_map.keys() else x for x in CSIZE_DEFAULT.keys()}\n",
    "custom_csize = {f'chr{rename_chroms[chrom]}': length for chrom, length in CSIZE_DEFAULT.items()}\n",
    "custom_csize"
   ]
  },
  {
   "cell_type": "code",
   "execution_count": null,
   "id": "196917f2-03ab-4d1c-9c63-51ec5fc85899",
   "metadata": {},
   "outputs": [],
   "source": [
    "from rpy2.robjects import r, pandas2ri\n",
    "import rpy2.robjects as robjects\n",
    "\n",
    "def my_custom_parse_absolute_soln(rdata_path: str): # has to be a local path   \n",
    "    absolute_rdata_cols = ['alpha', 'tau', 'tau_hat', '0_line', '1_line',\n",
    "                       'sigma_H', \n",
    "                       'theta_Q', \n",
    "                       'lambda',  \n",
    "                       'SCNA_likelihood', \n",
    "                       'Kar_likelihood', \n",
    "                       'SSNVs_likelihood']\n",
    "    pandas2ri.activate()\n",
    "    print('New version!')\n",
    "    r_list_vector = robjects.r['load'](rdata_path)\n",
    "    r_list_vector = robjects.r[r_list_vector[0]]\n",
    "    # r_data_id = r_list_vector.names[0]\n",
    "\n",
    "    # rdata_tables = r_list_vector.rx2(str(r_data_id))\n",
    "    \n",
    "    # mode_res = rdata_tables.rx2('mode.res')\n",
    "    # mode_tab = mode_res.rx2('mode.tab')\n",
    "    mode_res = r_list_vector.rx2('mode.res')\n",
    "    mode_tab = r_list_vector.rx2('mode.tab') # or segtab?\n",
    "    mod_tab_df = pd.DataFrame(columns=absolute_rdata_cols)\n",
    "    mod_tab_df['alpha'] = mode_tab[:, 0]\n",
    "    mod_tab_df['tau'] = mode_tab[:, 1]\n",
    "    mod_tab_df['tau_hat'] = mode_tab[:, 7]\n",
    "    mod_tab_df['0_line'] = mode_tab[:, 3]\n",
    "    mod_tab_df['step_size'] = mode_tab[:, 4] * 2\n",
    "    mod_tab_df['1_line'] = mod_tab_df['step_size'] + mod_tab_df['0_line']\n",
    "    mod_tab_df['sigma_H'] = mode_tab[:, 8]\n",
    "    mod_tab_df['theta_Q'] = mode_tab[:, 11]\n",
    "    mod_tab_df['lambda'] = mode_tab[:, 12]\n",
    "    mod_tab_df['SCNA_likelihood'] = mode_tab[:, 15]\n",
    "    mod_tab_df['Kar_likelihood'] = mode_tab[:, 17]\n",
    "    mod_tab_df['SSNVs_likelihood'] = mode_tab[:, 20]\n",
    "\n",
    "    return mod_tab_df"
   ]
  },
  {
   "cell_type": "code",
   "execution_count": null,
   "id": "294780e2-889f-4a13-8853-cc12e6234174",
   "metadata": {
    "tags": []
   },
   "outputs": [],
   "source": [
    "matched_reviewer = MatchedPurityReviewer()\n",
    "matched_reviewer.set_review_data(\n",
    "    data_path = <data path>, \n",
    "    description= <description>, \n",
    "    df=pairs_df,\n",
    "    index=pairs_df.index,\n",
    ")\n",
    "matched_reviewer.set_review_app(\n",
    "    sample_info_cols=['absolute_highres_plot', 'alleliccapseg_plot', 'wxs_purity'],\n",
    "    acs_col='alleliccapseg_tsv', \n",
    "    maf_col='mutation_validator_validated_maf',\n",
    "    rdata_fn_col='local_absolute_rdata',\n",
    "    mut_fig_hover_data=['Hugo_Symbol', 'Chromosome', 'Start_position'],\n",
    "    csize=CSIZE_DEFAULT,\n",
    "    custom_parse_absolute_soln=parse_absolute_soln # <-- update with my_custom_parse_absolute_soln()\n",
    ")\n",
    "\n",
    "matched_reviewer.set_default_review_data_annotations_configuration()\n",
    "matched_reviewer.set_default_autofill()"
   ]
  },
  {
   "cell_type": "markdown",
   "id": "4bbe787c-5268-4157-8eba-9849e7d0a3da",
   "metadata": {},
   "source": [
    "## Run the reviewer"
   ]
  },
  {
   "cell_type": "code",
   "execution_count": null,
   "id": "d50f2947-5049-4f9c-886c-96374aaa83c2",
   "metadata": {},
   "outputs": [],
   "source": [
    "matched_reviewer.run(port=8099, review_data_table_df=wm_pairs_df[['wxs_purity', 'participant']], mode='tab')"
   ]
  },
  {
   "cell_type": "code",
   "execution_count": null,
   "id": "668a8fef-263c-42f8-9c80-f8af0826c59c",
   "metadata": {},
   "outputs": [],
   "source": []
  }
 ],
 "metadata": {
  "kernelspec": {
   "display_name": "Python 3 (ipykernel)",
   "language": "python",
   "name": "python3"
  },
  "language_info": {
   "codemirror_mode": {
    "name": "ipython",
    "version": 3
   },
   "file_extension": ".py",
   "mimetype": "text/x-python",
   "name": "python",
   "nbconvert_exporter": "python",
   "pygments_lexer": "ipython3",
   "version": "3.11.6"
  }
 },
 "nbformat": 4,
 "nbformat_minor": 5
}
