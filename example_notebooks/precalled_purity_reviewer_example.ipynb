{
 "cells": [
  {
   "cell_type": "markdown",
   "id": "9847202b-8c65-4cbe-92f2-919cbf10f650",
   "metadata": {},
   "source": [
    "# Purity Reviewer Example"
   ]
  },
  {
   "cell_type": "code",
   "execution_count": 1,
   "id": "6ed06b3d-93bf-4ab6-8e36-c5dab8251bb4",
   "metadata": {},
   "outputs": [],
   "source": [
    "%load_ext autoreload\n",
    "%autoreload 2"
   ]
  },
  {
   "cell_type": "code",
   "execution_count": 2,
   "id": "8eba07f4-3c8a-4a23-9ec8-68821ec8aa2b",
   "metadata": {},
   "outputs": [],
   "source": [
    "import os\n",
    "import sys\n",
    "\n",
    "sys.path.append(os.path.abspath( os.path.join(\"..\") ))\n",
    "\n",
    "from PurityReviewer.Reviewers.MatchedPurityReviewer import MatchedPurityReviewer\n",
    "from PurityReviewer.Reviewers.ManualPurityReviewer import ManualPurityReviewer\n",
    "from PurityReviewer.Reviewers.PrecalledPurityReviewer import PrecalledPurityReviewer\n",
    "from PurityReviewer.AppComponents.utils import download_rdata\n",
    "import pandas as pd\n",
    "import numpy as np\n",
    "import os"
   ]
  },
  {
   "cell_type": "markdown",
   "id": "62d44268-7544-49c4-9213-b8f65ca32ae5",
   "metadata": {},
   "source": [
    "# Precalled Purity Review from TCGA characterization pipeline Terra workspace"
   ]
  },
  {
   "cell_type": "markdown",
   "id": "1daa6617-01c3-41c5-954b-61a459c64d05",
   "metadata": {},
   "source": [
    "```\n",
    "import os\n",
    "os.environ[\"GCLOUD_PROJECT\"] = <google project>\n",
    "```"
   ]
  },
  {
   "cell_type": "markdown",
   "id": "bc0b43cc-df84-42aa-acd6-95165410d2a3",
   "metadata": {},
   "source": [
    "## Load data"
   ]
  },
  {
   "cell_type": "code",
   "execution_count": 3,
   "id": "dd7b5241-5196-43f5-a830-3f4f7b76dcf1",
   "metadata": {},
   "outputs": [],
   "source": [
    "import dalmatian"
   ]
  },
  {
   "cell_type": "code",
   "execution_count": 4,
   "id": "d994ca32-fc89-4194-99ae-304e99eec5e0",
   "metadata": {},
   "outputs": [],
   "source": [
    "workspace = 'broad-tcga-wgs-terra/TCGA_BRCA_WGS'\n",
    "wm = dalmatian.WorkspaceManager(workspace)\n",
    "wm_pairs_df = wm.get_pairs()\n",
    "wm_samples_df = wm.get_samples()\n",
    "\n",
    "wm_pairs_df = wm_pairs_df[wm_pairs_df['absolute_rdata_WGS'].notna()] #.set_index('tumor_submitter_id')\n",
    "# display(wm_pairs_df)"
   ]
  },
  {
   "cell_type": "code",
   "execution_count": 5,
   "id": "42a8730e-78c6-4168-97e6-ca4500e7c47a",
   "metadata": {},
   "outputs": [],
   "source": [
    "# download rdata locally\n",
    "local_rdata_dir = 'local_rdata'\n",
    "wm_pairs_df['local_absolute_rdata'] = download_rdata(wm_pairs_df['absolute_rdata_WGS'], rdata_dir=local_rdata_dir)"
   ]
  },
  {
   "cell_type": "markdown",
   "id": "cb49373a-1443-4b1c-8d36-fbc48c27ffba",
   "metadata": {},
   "source": [
    "## Pass in data"
   ]
  },
  {
   "cell_type": "code",
   "execution_count": 6,
   "id": "f0528329-033f-4803-9451-2dc4bba10562",
   "metadata": {},
   "outputs": [
    {
     "data": {
      "text/plain": [
       "{'chr1': 249250621,\n",
       " 'chr2': 243199373,\n",
       " 'chr3': 198022430,\n",
       " 'chr4': 191154276,\n",
       " 'chr5': 180915260,\n",
       " 'chr6': 171115067,\n",
       " 'chr7': 159138663,\n",
       " 'chr8': 146364022,\n",
       " 'chr9': 141213431,\n",
       " 'chr10': 135534747,\n",
       " 'chr11': 135006516,\n",
       " 'chr12': 133851895,\n",
       " 'chr13': 115169878,\n",
       " 'chr14': 107349540,\n",
       " 'chr15': 102531392,\n",
       " 'chr16': 90354753,\n",
       " 'chr17': 81195210,\n",
       " 'chr18': 78077248,\n",
       " 'chr19': 59128983,\n",
       " 'chr20': 63025520,\n",
       " 'chr21': 48129895,\n",
       " 'chr22': 51304566,\n",
       " 'chrX': 156040895,\n",
       " 'chrY': 57227415}"
      ]
     },
     "execution_count": 6,
     "metadata": {},
     "output_type": "execute_result"
    }
   ],
   "source": [
    "from PurityReviewer.AppComponents.utils import CSIZE_DEFAULT\n",
    "sex_chr_map = {'23': 'X', '24': 'Y'}\n",
    "rename_chroms = {x: sex_chr_map[x] if x in sex_chr_map.keys() else x for x in CSIZE_DEFAULT.keys()}\n",
    "custom_csize = {f'chr{rename_chroms[chrom]}': length for chrom, length in CSIZE_DEFAULT.items()}\n",
    "custom_csize"
   ]
  },
  {
   "cell_type": "code",
   "execution_count": 7,
   "id": "196917f2-03ab-4d1c-9c63-51ec5fc85899",
   "metadata": {},
   "outputs": [],
   "source": [
    "from rpy2.robjects import r, pandas2ri\n",
    "import rpy2.robjects as robjects\n",
    "\n",
    "def my_custom_parse_absolute_soln(rdata_path: str): # has to be a local path   \n",
    "    absolute_rdata_cols = ['alpha', 'tau', 'tau_hat', '0_line', '1_line',\n",
    "                       'sigma_H', \n",
    "                       'theta_Q', \n",
    "                       'lambda',  \n",
    "                       'SCNA_likelihood', \n",
    "                       'Kar_likelihood', \n",
    "                       'SSNVs_likelihood']\n",
    "    pandas2ri.activate()\n",
    "    print('New version!')\n",
    "    r_list_vector = robjects.r['load'](rdata_path)\n",
    "    r_list_vector = robjects.r[r_list_vector[0]]\n",
    "    \n",
    "    mode_res = r_list_vector.rx2('mode.res')\n",
    "    mode_tab = r_list_vector.rx2('mode.tab') # or segtab?\n",
    "    mod_tab_df = pd.DataFrame(columns=absolute_rdata_cols)\n",
    "    mod_tab_df['alpha'] = mode_tab[:, 0]\n",
    "    mod_tab_df['tau'] = mode_tab[:, 1]\n",
    "    mod_tab_df['tau_hat'] = mode_tab[:, 7]\n",
    "    mod_tab_df['0_line'] = mode_tab[:, 3]\n",
    "    mod_tab_df['step_size'] = mode_tab[:, 4] * 2\n",
    "    mod_tab_df['1_line'] = mod_tab_df['step_size'] + mod_tab_df['0_line']\n",
    "    mod_tab_df['sigma_H'] = mode_tab[:, 8]\n",
    "    mod_tab_df['theta_Q'] = mode_tab[:, 11]\n",
    "    mod_tab_df['lambda'] = mode_tab[:, 12]\n",
    "    mod_tab_df['SCNA_likelihood'] = mode_tab[:, 15]\n",
    "    mod_tab_df['Kar_likelihood'] = mode_tab[:, 17]\n",
    "    mod_tab_df['SSNVs_likelihood'] = mode_tab[:, 20]\n",
    "\n",
    "    return mod_tab_df"
   ]
  },
  {
   "cell_type": "code",
   "execution_count": 8,
   "id": "1d54e4d8",
   "metadata": {},
   "outputs": [],
   "source": [
    "from PurityReviewer.AppComponents.utils import add_precalled_purities_to_pairs\n",
    "\n",
    "wm_pairs_df = add_precalled_purities_to_pairs(wm_pairs_df, wm_samples_df)\n",
    "wm_pairs_df = wm_pairs_df.set_index('tumor_submitter_id')"
   ]
  },
  {
   "cell_type": "code",
   "execution_count": 9,
   "id": "3f2ff95d",
   "metadata": {},
   "outputs": [],
   "source": [
    "precalled_purity_reviewer = PrecalledPurityReviewer()\n",
    "precalled_purity_reviewer.set_review_data(\n",
    "    data_path = 'precalled_purity_reviewer_output', \n",
    "    description= 'BRCA purity review', \n",
    "    df=wm_pairs_df,\n",
    "    index=wm_pairs_df.index,\n",
    ")\n",
    "\n",
    "\n",
    "# remove the purity_reviewer_example notebook\n",
    "# make sure the matched_purity_reviewer_example notebook looks exactly like the purity_reviewer_example notebook on the main branch\n",
    "# change the index to the tumor submitter id\n",
    "precalled_purity_reviewer.set_review_app(\n",
    "    sample_info_cols=['absolute_highres_plot_WGS', 'hapaseg_allelic_segmentation_plot_WGS'],\n",
    "    acs_col='hapaseg_segfile_WGS', \n",
    "    rdata_fn_col='local_absolute_rdata',\n",
    "    mut_fig_hover_data=['Hugo_Symbol', 'Chromosome', 'Start_position'],\n",
    ")\n",
    "\n",
    "precalled_purity_reviewer.set_default_review_data_annotations_configuration()\n",
    "precalled_purity_reviewer.set_default_autofill()\n",
    "# if you have a pickle error restart kernel and rerun all the cells"
   ]
  },
  {
   "cell_type": "code",
   "execution_count": 10,
   "id": "0cf9a1b4",
   "metadata": {},
   "outputs": [
    {
     "name": "stdout",
     "output_type": "stream",
     "text": [
      "Setting auto_export_path to precalled_purity_reviewer_output/data.auto_export\n",
      "Using precalled_purity_reviewer_output/data.auto_export for auto exporting.\n",
      "Dash app running on http://0.0.0.0:8099/\n"
     ]
    },
    {
     "name": "stderr",
     "output_type": "stream",
     "text": [
      "/Users/odias/PurityReviewer/precalled_purity_venv/lib/python3.9/site-packages/AnnoMate/ReviewDataApp.py:738: UserWarning:\n",
      "\n",
      "You are in test mode. Your data will not be saved.\n",
      "\n"
     ]
    },
    {
     "data": {
      "application/javascript": [
       "window.open('http://0.0.0.0:8099/')"
      ],
      "text/plain": [
       "<IPython.core.display.Javascript object>"
      ]
     },
     "metadata": {},
     "output_type": "display_data"
    }
   ],
   "source": [
    "precalled_purity_reviewer.run(port=8099, mode='tab')"
   ]
  },
  {
   "cell_type": "code",
   "execution_count": null,
   "id": "478a61c1-d067-40db-9d54-4ed3be126c8f",
   "metadata": {},
   "outputs": [],
   "source": []
  }
 ],
 "metadata": {
  "kernelspec": {
   "display_name": "Python 3 (ipykernel)",
   "language": "python",
   "name": "python3"
  },
  "language_info": {
   "codemirror_mode": {
    "name": "ipython",
    "version": 3
   },
   "file_extension": ".py",
   "mimetype": "text/x-python",
   "name": "python",
   "nbconvert_exporter": "python",
   "pygments_lexer": "ipython3",
   "version": "3.9.20"
  }
 },
 "nbformat": 4,
 "nbformat_minor": 5
}
