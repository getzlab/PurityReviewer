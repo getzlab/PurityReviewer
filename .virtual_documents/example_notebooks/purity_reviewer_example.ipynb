


%load_ext autoreload
%autoreload 2
    


from PurityReviewer.Reviewers.MatchedPurityReviewer import MatchedPurityReviewer
from PurityReviewer.Reviewers.ManualPurityReviewer import ManualPurityReviewer
from PurityReviewer.AppComponents.utils import download_rdata
import pandas as pd
import numpy as np
import dalmatian
import os





# Run to install packages for loading the patient and sample data. Only need to run once in your environment.
%pip install -e SimulatedTumorData/.





from SimulatedTumorData.src.generate_simulated_data import load_patients_and_samples


samples, participants = load_patients_and_samples(
    path_to_sim_data='SimulatedTumorData/sim_data'
)


samples['ABSOLUTE_RData'].iloc[0]


samples


participants





from PurityReviewer.AppComponents.utils import parse_absolute_soln, CSIZE_DEFAULT
from PurityReviewer.AppComponents.utils import parse_absolute_soln_simulatedTumorData


data_pkl_fn = 'simulated_data_purity_review.pkl'


matched_reviewer = MatchedPurityReviewer()
matched_reviewer.set_review_data(
    data_pkl_fn = data_pkl_fn, 
    description='Matched purity reviewer for simulated data', 
    df=samples, #pcyc_wm_pairs_df, # optional if directory above already exists. 
    index=samples.index, #pcyc_wm_pairs_df.index,
)
matched_reviewer.set_review_app(
    sample_info_cols=['ABSOLUTE_plot_fn', 'wxs_purity', 'wxs_ploidy'],
    acs_col='cnv_seg_fn', 
    maf_col='maf_fn',
    rdata_fn_col='ABSOLUTE_RData',
    mut_fig_hover_data=['Hugo_Symbol', 'Chromosome', 'Start_position'],
    csize=CSIZE_DEFAULT,
    custom_parse_absolute_soln=parse_absolute_soln_simulatedTumorData # <-- update with my_custom_parse_absolute_soln()
)

matched_reviewer.set_default_review_data_annotations_configuration()
matched_reviewer.set_default_autofill()


matched_reviewer.run(port=8099, mode='tab', collapsable=False, hide_history_df_cols=['source_data_fn'])


fn = samples['ABSOLUTE_mode_tab_fn'].iloc[0]


samples.columns


fn = samples['maf_fn'].iloc[0]
print(fn)
df = pd.read_csv(fn, sep='\t', encoding='iso-8859-1')


import plotly.express as px


px.scatter(df, x='t_alt_count', y='t_ref_count', width=800, height=400)


from scipy.stats import beta


x = np.linspace(beta.ppf(0.01, a, b),
                beta.ppf(0.99, a, b), 100)


x, beta.pdf(x, a, b)


def get_beta_distr(a, b, x=None):
    
    x = np.linspace(beta.ppf(0.01, a, b),
                beta.ppf(0.99, a, b), 100) if x is None else x

    return pd.Series(index=x, data=beta.pdf(x, a, b))


step = 0.05
x = np.round(np.arange(0, 1 + step, step), 2)


df.loc[:, x] = df.apply(lambda r: get_beta_distr(a=r['t_alt_count'] + 1, b=r['t_ref_count'] + 1, x=x), axis=1)


df


def plot_marginal_betas(df, a_col, b_col)



df





wm = dalmatian.WorkspaceManager('broad-getzlab-ibm-taml-t/TCGA_LUAD_Tonly2_Validation')
pairs_df = wm.get_pairs()
luad_pairs_df = pairs_df[pairs_df['absolute_rdata_WGS'].notna()].head(5).copy()


[c for c in pairs_df.columns.tolist() if 'mutation_validator_validated_maf' in c]


import os
os.environ["GCLOUD_PROJECT"] = "broad-getzlab-ibm-taml"


# download rdata locally
rdata_dir = f'/Users/cchu/Desktop/Methods/PurityReviewers/example_notebooks/data/luad_local_rdata_2023-09-11'
downloaded_rdata_s = download_rdata(luad_pairs_df['absolute_rdata_WGS'], rdata_dir=rdata_dir)
downloaded_rdata_s.name = 'local_absolute_rdata'
luad_pairs_df = pd.concat([luad_pairs_df, downloaded_rdata_s], axis=1)


matched_reviewer = MatchedPurityReviewer()
matched_reviewer.set_review_data(
    data_pkl_fn = 'luad.review_data.pkl', 
    description='Matched purity reviewer', 
    df=luad_pairs_df, # optional if directory above already exists. 
    index=luad_pairs_df.index,
)
matched_reviewer.set_review_app(
    sample_info_cols=['participant', 'alleliccapseg_plot_WGS'],
    acs_col='alleliccapseg_tsv_WGS', 
    maf_col='mutation_validator_validated_maf_WGS',
    rdata_fn_col='local_absolute_rdata',
    mut_fig_hover_data=['Hugo_Symbol', 'Chromosome', 'Start_position'],
    csize=CSIZE_DEFAULT,
    custom_parse_absolute_soln=parse_absolute_soln # <-- update with my_custom_parse_absolute_soln()
)

matched_reviewer.set_default_review_data_annotations_configuration()
matched_reviewer.set_default_autofill()


matched_reviewer.run(port=8099, review_data_table_df=luad_pairs_df[['Purity', 'participant']], mode='tab')



