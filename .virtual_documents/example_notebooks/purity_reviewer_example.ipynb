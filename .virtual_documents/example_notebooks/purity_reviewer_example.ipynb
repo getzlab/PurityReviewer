


%load_ext autoreload
%autoreload 2
    


from PurityReviewer.Reviewers.MatchedPurityReviewer import MatchedPurityReviewer
from PurityReviewer.Reviewers.ManualPurityReviewer import ManualPurityReviewer
from PurityReviewer.AppComponents.utils import download_rdata
import pandas as pd
import numpy as np
import dalmatian
import os


workspace = 'broad-getzlab-pcyc-terra/Getz_Wu_CLL_Pharmacyclics_Exomes_Analysis_8_tumor_only'
pcyc_wm = dalmatian.WorkspaceManager(workspace)
pcyc_wm_pairs_df = pcyc_wm.get_pairs().iloc[:5]
display(pcyc_wm_pairs_df.head())


# download rdata locally
rdata_dir = f'/Users/cchu/Desktop/Methods/JupyterReviewer/data/Purity_Reviewer_Tutorial/local_rdata_2023-01-30'
pcyc_wm_pairs_df['local_absolute_rdata'] = download_rdata(pcyc_wm_pairs_df['absolute_rdata'], rdata_dir=rdata_dir)


pcyc_wm_pairs_df['local_absolute_rdata'].iloc[0]


data_dir = f'./data'
if not os.path.exists(data_dir):
    os.mkdir(data_dir)
    
data_pkl_fn = f'{data_dir}/review_data.pkl'


from PurityReviewer.AppComponents.utils import CSIZE_DEFAULT
sex_chr_map = {'23': 'X', '24': 'Y'}
rename_chroms = {x: sex_chr_map[x] if x in sex_chr_map.keys() else x for x in CSIZE_DEFAULT.keys()}
custom_csize = {f'chr{rename_chroms[chrom]}': length for chrom, length in CSIZE_DEFAULT.items()}
custom_csize


from rpy2.robjects import r, pandas2ri
import rpy2.robjects as robjects

def my_custom_parse_absolute_soln(rdata_path: str): # has to be a local path   
    absolute_rdata_cols = ['alpha', 'tau', 'tau_hat', '0_line', '1_line',
                       'sigma_H', 
                       'theta_Q', 
                       'lambda',  
                       'SCNA_likelihood', 
                       'Kar_likelihood', 
                       'SSNVs_likelihood']
    pandas2ri.activate()
    print('New version!')
    r_list_vector = robjects.r['load'](rdata_path)
    r_list_vector = robjects.r[r_list_vector[0]]
    # r_data_id = r_list_vector.names[0]

    # rdata_tables = r_list_vector.rx2(str(r_data_id))
    
    # mode_res = rdata_tables.rx2('mode.res')
    # mode_tab = mode_res.rx2('mode.tab')
    mode_res = r_list_vector.rx2('mode.res')
    mode_tab = r_list_vector.rx2('mode.tab') # or segtab?
    mod_tab_df = pd.DataFrame(columns=absolute_rdata_cols)
    mod_tab_df['alpha'] = mode_tab[:, 0]
    mod_tab_df['tau'] = mode_tab[:, 1]
    mod_tab_df['tau_hat'] = mode_tab[:, 7]
    mod_tab_df['0_line'] = mode_tab[:, 3]
    mod_tab_df['step_size'] = mode_tab[:, 4] * 2
    mod_tab_df['1_line'] = mod_tab_df['step_size'] + mod_tab_df['0_line']
    mod_tab_df['sigma_H'] = mode_tab[:, 8]
    mod_tab_df['theta_Q'] = mode_tab[:, 11]
    mod_tab_df['lambda'] = mode_tab[:, 12]
    mod_tab_df['SCNA_likelihood'] = mode_tab[:, 15]
    mod_tab_df['Kar_likelihood'] = mode_tab[:, 17]
    mod_tab_df['SSNVs_likelihood'] = mode_tab[:, 20]

    return mod_tab_df


from PurityReviewer.AppComponents.utils import parse_absolute_soln, CSIZE_DEFAULT


matched_reviewer = MatchedPurityReviewer()
matched_reviewer.set_review_data(
    data_pkl_fn = data_pkl_fn, 
    description='Matched purity reviewer', 
    df=pcyc_wm_pairs_df, # optional if directory above already exists. 
    index=pcyc_wm_pairs_df.index,
)
matched_reviewer.set_review_app(
    sample_info_cols=['absolute_highres_plot', 'alleliccapseg_plot', 'wxs_purity'],
    acs_col='alleliccapseg_tsv', 
    maf_col='mutation_validator_validated_maf',
    rdata_fn_col='local_absolute_rdata',
    mut_fig_hover_data=['Hugo_Symbol', 'Chromosome', 'Start_position'],
    csize=CSIZE_DEFAULT,
    custom_parse_absolute_soln=parse_absolute_soln # <-- update with my_custom_parse_absolute_soln()
)

matched_reviewer.set_default_review_data_annotations_configuration()
matched_reviewer.set_default_autofill()


matched_reviewer.run(port=8099, review_data_table_df=pcyc_wm_pairs_df[['wxs_purity', 'participant']], mode='tab')



